{
  "nbformat": 4,
  "nbformat_minor": 0,
  "metadata": {
    "kernelspec": {
      "display_name": "Python 3",
      "language": "python",
      "name": "python3"
    },
    "language_info": {
      "codemirror_mode": {
        "name": "ipython",
        "version": 3
      },
      "file_extension": ".py",
      "mimetype": "text/x-python",
      "name": "python",
      "nbconvert_exporter": "python",
      "pygments_lexer": "ipython3",
      "version": "3.7.3"
    },
    "colab": {
      "name": "WorkFlow_Sush_Jim_update CMIP6_data.ipynb",
      "provenance": [],
      "collapsed_sections": []
    }
  },
  "cells": [
    {
      "cell_type": "markdown",
      "metadata": {
        "id": "ibGzDNElOzhq",
        "colab_type": "text"
      },
      "source": [
        "# Google Cloud CMIP6 Public Data\n",
        "\n",
        "This notebooks shows how to query the catalog, load the data using python, and compute the Emulator Model at the global and grid level"
      ]
    },
    {
      "cell_type": "markdown",
      "metadata": {
        "id": "231nffhvmTyM",
        "colab_type": "text"
      },
      "source": [
        "## Section 1: Prepare setup"
      ]
    },
    {
      "cell_type": "code",
      "metadata": {
        "id": "LmN96Hb5PTBh",
        "colab_type": "code",
        "outputId": "85933195-0a02-4608-a375-112c999ba9f0",
        "colab": {
          "base_uri": "https://localhost:8080/",
          "height": 1000
        }
      },
      "source": [
        "!pip install --upgrade xarray zarr gcsfs cftime nc-time-axis netCDF4 esgf-pyclient\n",
        "#!pip install --upgrade xarray zarr gcsfs cftime nc-time-axis #netCDF4 esgf-pyclient"
      ],
      "execution_count": 0,
      "outputs": [
        {
          "output_type": "stream",
          "text": [
            "Collecting xarray\n",
            "\u001b[?25l  Downloading https://files.pythonhosted.org/packages/e3/25/cc8ccc40d21638ae8514ce2aef1f1db3036e31c2adea797c7501302726fa/xarray-0.15.0-py3-none-any.whl (650kB)\n",
            "\u001b[K     |████████████████████████████████| 655kB 4.8MB/s \n",
            "\u001b[?25hCollecting zarr\n",
            "\u001b[?25l  Downloading https://files.pythonhosted.org/packages/a3/87/383d77399148ef0772da3472b513ecf143252e7c365c51b0f06714800366/zarr-2.4.0.tar.gz (3.3MB)\n",
            "\u001b[K     |████████████████████████████████| 3.3MB 25.8MB/s \n",
            "\u001b[?25hCollecting gcsfs\n",
            "  Downloading https://files.pythonhosted.org/packages/3e/9f/864a9ff497ed4ba12502c4037db8c66fde0049d9dd0388bd55b67e5c4249/gcsfs-0.6.0-py2.py3-none-any.whl\n",
            "Collecting cftime\n",
            "\u001b[?25l  Downloading https://files.pythonhosted.org/packages/53/35/e2fc52247871c51590d6660e684fdc619a93a29f40e3b64894bd4f8c9041/cftime-1.1.0-cp36-cp36m-manylinux1_x86_64.whl (316kB)\n",
            "\u001b[K     |████████████████████████████████| 317kB 46.9MB/s \n",
            "\u001b[?25hCollecting nc-time-axis\n",
            "  Downloading https://files.pythonhosted.org/packages/47/2b/4a0681fd7178caa106f5f480217b9381ba77f8f7c8c1e63e91b0fd2cc427/nc_time_axis-1.2.0-py3-none-any.whl\n",
            "Collecting netCDF4\n",
            "\u001b[?25l  Downloading https://files.pythonhosted.org/packages/35/4f/d49fe0c65dea4d2ebfdc602d3e3d2a45a172255c151f4497c43f6d94a5f6/netCDF4-1.5.3-cp36-cp36m-manylinux1_x86_64.whl (4.1MB)\n",
            "\u001b[K     |████████████████████████████████| 4.1MB 8.2MB/s \n",
            "\u001b[?25hCollecting esgf-pyclient\n",
            "  Downloading https://files.pythonhosted.org/packages/a7/6c/58d9511d0a649be81480b776ab9afde76f08a6fd9018ae8fa780d28e22c9/esgf-pyclient-0.2.1.tar.gz\n",
            "Requirement already satisfied, skipping upgrade: numpy>=1.15 in /usr/local/lib/python3.6/dist-packages (from xarray) (1.17.5)\n",
            "Requirement already satisfied, skipping upgrade: pandas>=0.25 in /usr/local/lib/python3.6/dist-packages (from xarray) (0.25.3)\n",
            "Collecting asciitree\n",
            "  Downloading https://files.pythonhosted.org/packages/2d/6a/885bc91484e1aa8f618f6f0228d76d0e67000b0fdd6090673b777e311913/asciitree-0.3.3.tar.gz\n",
            "Collecting fasteners\n",
            "  Downloading https://files.pythonhosted.org/packages/18/bd/55eb2d6397b9c0e263af9d091ebdb756b15756029b3cededf6461481bc63/fasteners-0.15-py2.py3-none-any.whl\n",
            "Collecting numcodecs>=0.6.4\n",
            "\u001b[?25l  Downloading https://files.pythonhosted.org/packages/53/2a/1dc435cbd1d082827190a3e46168fd04f74e266e91313969d5a1aab601bf/numcodecs-0.6.4.tar.gz (3.8MB)\n",
            "\u001b[K     |████████████████████████████████| 3.8MB 38.0MB/s \n",
            "\u001b[?25hRequirement already satisfied, skipping upgrade: requests in /usr/local/lib/python3.6/dist-packages (from gcsfs) (2.21.0)\n",
            "Requirement already satisfied, skipping upgrade: fsspec>=0.6.0 in /usr/local/lib/python3.6/dist-packages (from gcsfs) (0.6.2)\n",
            "Requirement already satisfied, skipping upgrade: google-auth>=1.2 in /usr/local/lib/python3.6/dist-packages (from gcsfs) (1.7.2)\n",
            "Requirement already satisfied, skipping upgrade: decorator in /usr/local/lib/python3.6/dist-packages (from gcsfs) (4.4.1)\n",
            "Requirement already satisfied, skipping upgrade: google-auth-oauthlib in /usr/local/lib/python3.6/dist-packages (from gcsfs) (0.4.1)\n",
            "Requirement already satisfied, skipping upgrade: six in /usr/local/lib/python3.6/dist-packages (from nc-time-axis) (1.12.0)\n",
            "Requirement already satisfied, skipping upgrade: matplotlib in /usr/local/lib/python3.6/dist-packages (from nc-time-axis) (3.1.3)\n",
            "Requirement already satisfied, skipping upgrade: jinja2 in /usr/local/lib/python3.6/dist-packages (from esgf-pyclient) (2.11.1)\n",
            "Collecting requests_cache\n",
            "  Downloading https://files.pythonhosted.org/packages/7f/55/9b1c40eb83c16d8fc79c5f6c2ffade04208b080670fbfc35e0a5effb5a92/requests_cache-0.5.2-py2.py3-none-any.whl\n",
            "Requirement already satisfied, skipping upgrade: pytz>=2017.2 in /usr/local/lib/python3.6/dist-packages (from pandas>=0.25->xarray) (2018.9)\n",
            "Requirement already satisfied, skipping upgrade: python-dateutil>=2.6.1 in /usr/local/lib/python3.6/dist-packages (from pandas>=0.25->xarray) (2.6.1)\n",
            "Collecting monotonic>=0.1\n",
            "  Downloading https://files.pythonhosted.org/packages/ac/aa/063eca6a416f397bd99552c534c6d11d57f58f2e94c14780f3bbf818c4cf/monotonic-1.5-py2.py3-none-any.whl\n",
            "Requirement already satisfied, skipping upgrade: certifi>=2017.4.17 in /usr/local/lib/python3.6/dist-packages (from requests->gcsfs) (2019.11.28)\n",
            "Requirement already satisfied, skipping upgrade: chardet<3.1.0,>=3.0.2 in /usr/local/lib/python3.6/dist-packages (from requests->gcsfs) (3.0.4)\n",
            "Requirement already satisfied, skipping upgrade: urllib3<1.25,>=1.21.1 in /usr/local/lib/python3.6/dist-packages (from requests->gcsfs) (1.24.3)\n",
            "Requirement already satisfied, skipping upgrade: idna<2.9,>=2.5 in /usr/local/lib/python3.6/dist-packages (from requests->gcsfs) (2.8)\n",
            "Requirement already satisfied, skipping upgrade: pyasn1-modules>=0.2.1 in /usr/local/lib/python3.6/dist-packages (from google-auth>=1.2->gcsfs) (0.2.8)\n",
            "Requirement already satisfied, skipping upgrade: rsa<4.1,>=3.1.4 in /usr/local/lib/python3.6/dist-packages (from google-auth>=1.2->gcsfs) (4.0)\n",
            "Requirement already satisfied, skipping upgrade: cachetools<3.2,>=2.0.0 in /usr/local/lib/python3.6/dist-packages (from google-auth>=1.2->gcsfs) (3.1.1)\n",
            "Requirement already satisfied, skipping upgrade: setuptools>=40.3.0 in /usr/local/lib/python3.6/dist-packages (from google-auth>=1.2->gcsfs) (45.2.0)\n",
            "Requirement already satisfied, skipping upgrade: requests-oauthlib>=0.7.0 in /usr/local/lib/python3.6/dist-packages (from google-auth-oauthlib->gcsfs) (1.3.0)\n",
            "Requirement already satisfied, skipping upgrade: cycler>=0.10 in /usr/local/lib/python3.6/dist-packages (from matplotlib->nc-time-axis) (0.10.0)\n",
            "Requirement already satisfied, skipping upgrade: pyparsing!=2.0.4,!=2.1.2,!=2.1.6,>=2.0.1 in /usr/local/lib/python3.6/dist-packages (from matplotlib->nc-time-axis) (2.4.6)\n",
            "Requirement already satisfied, skipping upgrade: kiwisolver>=1.0.1 in /usr/local/lib/python3.6/dist-packages (from matplotlib->nc-time-axis) (1.1.0)\n",
            "Requirement already satisfied, skipping upgrade: MarkupSafe>=0.23 in /usr/local/lib/python3.6/dist-packages (from jinja2->esgf-pyclient) (1.1.1)\n",
            "Requirement already satisfied, skipping upgrade: pyasn1<0.5.0,>=0.4.6 in /usr/local/lib/python3.6/dist-packages (from pyasn1-modules>=0.2.1->google-auth>=1.2->gcsfs) (0.4.8)\n",
            "Requirement already satisfied, skipping upgrade: oauthlib>=3.0.0 in /usr/local/lib/python3.6/dist-packages (from requests-oauthlib>=0.7.0->google-auth-oauthlib->gcsfs) (3.1.0)\n",
            "Building wheels for collected packages: zarr, esgf-pyclient, asciitree, numcodecs\n",
            "  Building wheel for zarr (setup.py) ... \u001b[?25l\u001b[?25hdone\n",
            "  Created wheel for zarr: filename=zarr-2.4.0-cp36-none-any.whl size=127066 sha256=4cd7ceeba39c244933e565fcc0b81dd198eddd63d6dc137ee9b1939b8c2e07ba\n",
            "  Stored in directory: /root/.cache/pip/wheels/e1/5b/25/24c685604b91139aba00a5b6299b53e7a0661f737f27782559\n",
            "  Building wheel for esgf-pyclient (setup.py) ... \u001b[?25l\u001b[?25hdone\n",
            "  Created wheel for esgf-pyclient: filename=esgf_pyclient-0.2.1-cp36-none-any.whl size=28511 sha256=15c345d868ede5b2f4936bbbbff9cbf355ee793afa3e58fed2af1ca04aad4b50\n",
            "  Stored in directory: /root/.cache/pip/wheels/15/80/bb/959e40259d345fe3518681534d46d14d3a0564ec981eb50612\n",
            "  Building wheel for asciitree (setup.py) ... \u001b[?25l\u001b[?25hdone\n",
            "  Created wheel for asciitree: filename=asciitree-0.3.3-cp36-none-any.whl size=5037 sha256=351379aac641943f1d55db39e7a0fef9f7ca6b1c2a554c82828ac4caf5222065\n",
            "  Stored in directory: /root/.cache/pip/wheels/1d/d9/58/9808b306744df0208fccc640d3d9952a5bc7468502d42897d5\n",
            "  Building wheel for numcodecs (setup.py) ... \u001b[?25l\u001b[?25hdone\n",
            "  Created wheel for numcodecs: filename=numcodecs-0.6.4-cp36-cp36m-linux_x86_64.whl size=3886706 sha256=1c6193c298322202e75c2693ad95db75e1ccad9ac088dedbbd293943f42c9f72\n",
            "  Stored in directory: /root/.cache/pip/wheels/ca/07/ed/fea2e120cbb91d90b577c5ac56b4b082024f56fcd88e9afa55\n",
            "Successfully built zarr esgf-pyclient asciitree numcodecs\n",
            "Installing collected packages: xarray, asciitree, monotonic, fasteners, numcodecs, zarr, gcsfs, cftime, nc-time-axis, netCDF4, requests-cache, esgf-pyclient\n",
            "  Found existing installation: xarray 0.14.1\n",
            "    Uninstalling xarray-0.14.1:\n",
            "      Successfully uninstalled xarray-0.14.1\n",
            "Successfully installed asciitree-0.3.3 cftime-1.1.0 esgf-pyclient-0.2.1 fasteners-0.15 gcsfs-0.6.0 monotonic-1.5 nc-time-axis-1.2.0 netCDF4-1.5.3 numcodecs-0.6.4 requests-cache-0.5.2 xarray-0.15.0 zarr-2.4.0\n"
          ],
          "name": "stdout"
        }
      ]
    },
    {
      "cell_type": "code",
      "metadata": {
        "id": "aH3VEYX-Ozht",
        "colab_type": "code",
        "outputId": "ca92ce7e-a3cc-45d0-f763-9168ce48c58e",
        "colab": {
          "base_uri": "https://localhost:8080/",
          "height": 108
        }
      },
      "source": [
        "%%capture\n",
        "from matplotlib import pyplot as plt\n",
        "import numpy as np; import pandas as pd\n",
        "import xarray as xr\n",
        "import zarr; import gcsfs\n",
        "#from pyesgf.search import SearchConnection\n",
        "from sklearn.linear_model import LinearRegression\n",
        "\n",
        "xr.set_options(display_style='html')\n",
        "%matplotlib inline\n",
        "%config InlineBackend.figure_format = 'retina' \n",
        "plt.rcParams['figure.figsize'] = 12, 6\n",
        "# this only needs to be created once\n",
        "gcs = gcsfs.GCSFileSystem(token='anon')\n",
        "from google.colab import drive\n",
        "drive.mount('/content/drive')"
      ],
      "execution_count": 0,
      "outputs": [
        {
          "output_type": "stream",
          "text": [
            "Go to this URL in a browser: https://accounts.google.com/o/oauth2/auth?client_id=947318989803-6bn6qk8qdgf4n4g3pfee6491hc0brc4i.apps.googleusercontent.com&redirect_uri=urn%3aietf%3awg%3aoauth%3a2.0%3aoob&response_type=code&scope=email%20https%3a%2f%2fwww.googleapis.com%2fauth%2fdocs.test%20https%3a%2f%2fwww.googleapis.com%2fauth%2fdrive%20https%3a%2f%2fwww.googleapis.com%2fauth%2fdrive.photos.readonly%20https%3a%2f%2fwww.googleapis.com%2fauth%2fpeopleapi.readonly\n",
            "\n",
            "Enter your authorization code:\n",
            "··········\n"
          ],
          "name": "stdout"
        }
      ]
    },
    {
      "cell_type": "markdown",
      "metadata": {
        "id": "8n3TlLPT1oyr",
        "colab_type": "text"
      },
      "source": [
        "xarray (formerly xray) is an open source project and Python package that makes working with labelled multi-dimensional arrays simple, efficient, and fun! Xarray introduces labels in the form of dimensions, coordinates and attributes on top of raw NumPy-like arrays, which allows for a more intuitive, more concise, and less error-prone developer experience. The package includes a large and growing library of domain-agnostic functions for advanced analytics and visualization with these data structures.\n",
        "\n",
        "Zarr is a Python package providing an implementation of chunked, compressed, N-dimensional arrays.\n",
        "\n",
        "gcfs - A pythonic file-system interface to Google Cloud Storage.\n",
        "\n",
        "cftime - Time-handling functionality from netcdf4-python\n",
        "\n",
        "nc-time-axis - Provides support for non-gregorian datetimes in matplotlib based on the cftime package"
      ]
    },
    {
      "cell_type": "markdown",
      "metadata": {
        "id": "8W2J3geffppi",
        "colab_type": "text"
      },
      "source": [
        "## Create Functions \n",
        "### Calculate Global Mean * Not needed for grid temp modeling"
      ]
    },
    {
      "cell_type": "code",
      "metadata": {
        "id": "vHIVvvw0fqCw",
        "colab_type": "code",
        "colab": {}
      },
      "source": [
        "def globalmean( tas, lat ):\n",
        "    '''\n",
        "    arguments: tas (average surface temperature), lat (latitude)\n",
        "    output: numpy array of global annual mean temperature\n",
        "    '''\n",
        "    if ( lat[0] == 90 ): endlat = -90\n",
        "    else: endlat = 90\n",
        "    latitude = np.linspace( lat[0], endlat, tas.shape[1] + 1 )\n",
        "    tmean = np.mean(tas, axis=2)\n",
        "    area = []\n",
        "    R_earth = 6.3781*10**3 # km\n",
        "    for i in range(tas.shape[1]): area.append(((3.14159/180)*R_earth**2) * abs(np.sin(latitude[i]*3.14159/180)-np.sin(latitude[i+1]*3.14159/180)) * 360/tas.shape[2])\n",
        "    totalarea = np.sum(area)\n",
        "    globaltemp = []\n",
        "    for k in range( tas.shape[0] ):\n",
        "        tempyear = []\n",
        "        for i in range( tas.shape[1]): tempyear.append(tmean[k,i]*area[i]/(totalarea/tas.shape[1]))\n",
        "        globaltemp.append( np.mean(tempyear) )\n",
        "    return np.array(globaltemp)"
      ],
      "execution_count": 0,
      "outputs": []
    },
    {
      "cell_type": "markdown",
      "metadata": {
        "id": "ss9_lR75Ozhz",
        "colab_type": "text"
      },
      "source": [
        "## Browse Catalog\n",
        "\n",
        "The data catalog is stored as a CSV file. Here we read it with Pandas.\n",
        "\n",
        "The columns of the dataframe correspond to the CMI6 controlled vocabulary. A beginners' guide to these terms is available in [this document](https://docs.google.com/document/d/1yUx6jr9EdedCOLd--CPdTfGDwEwzPpCF6p1jRmqx-0Q). \n",
        "\n",
        "Here we filter the data to find monthly surface air temperature for historical experiments."
      ]
    },
    {
      "cell_type": "code",
      "metadata": {
        "id": "PCXMl4MxOzh0",
        "colab_type": "code",
        "outputId": "fb350909-856d-4db5-f9fe-7b1359c59291",
        "colab": {
          "base_uri": "https://localhost:8080/",
          "height": 516
        }
      },
      "source": [
        "df = pd.read_csv('https://storage.googleapis.com/cmip6/cmip6-zarr-consolidated-stores.csv')\n",
        "#here we filter the data to find monthly surface air temperature for historical experiments.\n",
        "\n",
        "df = df.query(\"activity_id=='CMIP' & table_id == 'Amon' & variable_id == 'tas' & experiment_id == 'historical'\")\n",
        "#Now we do further filtering to find just the models from NCAR.\n",
        "\n",
        "df_ta_ncar = df.query('institution_id == \"NCAR\"')\n",
        "df_ta_ncar"
      ],
      "execution_count": 0,
      "outputs": [
        {
          "output_type": "execute_result",
          "data": {
            "text/html": [
              "<div>\n",
              "<style scoped>\n",
              "    .dataframe tbody tr th:only-of-type {\n",
              "        vertical-align: middle;\n",
              "    }\n",
              "\n",
              "    .dataframe tbody tr th {\n",
              "        vertical-align: top;\n",
              "    }\n",
              "\n",
              "    .dataframe thead th {\n",
              "        text-align: right;\n",
              "    }\n",
              "</style>\n",
              "<table border=\"1\" class=\"dataframe\">\n",
              "  <thead>\n",
              "    <tr style=\"text-align: right;\">\n",
              "      <th></th>\n",
              "      <th>activity_id</th>\n",
              "      <th>institution_id</th>\n",
              "      <th>source_id</th>\n",
              "      <th>experiment_id</th>\n",
              "      <th>member_id</th>\n",
              "      <th>table_id</th>\n",
              "      <th>variable_id</th>\n",
              "      <th>grid_label</th>\n",
              "      <th>zstore</th>\n",
              "      <th>dcpp_init_year</th>\n",
              "    </tr>\n",
              "  </thead>\n",
              "  <tbody>\n",
              "    <tr>\n",
              "      <th>38990</th>\n",
              "      <td>CMIP</td>\n",
              "      <td>NCAR</td>\n",
              "      <td>CESM2-FV2</td>\n",
              "      <td>historical</td>\n",
              "      <td>r1i1p1f1</td>\n",
              "      <td>Amon</td>\n",
              "      <td>tas</td>\n",
              "      <td>gn</td>\n",
              "      <td>gs://cmip6/CMIP/NCAR/CESM2-FV2/historical/r1i1...</td>\n",
              "      <td>NaN</td>\n",
              "    </tr>\n",
              "    <tr>\n",
              "      <th>39282</th>\n",
              "      <td>CMIP</td>\n",
              "      <td>NCAR</td>\n",
              "      <td>CESM2-WACCM-FV2</td>\n",
              "      <td>historical</td>\n",
              "      <td>r1i1p1f1</td>\n",
              "      <td>Amon</td>\n",
              "      <td>tas</td>\n",
              "      <td>gn</td>\n",
              "      <td>gs://cmip6/CMIP/NCAR/CESM2-WACCM-FV2/historica...</td>\n",
              "      <td>NaN</td>\n",
              "    </tr>\n",
              "    <tr>\n",
              "      <th>40120</th>\n",
              "      <td>CMIP</td>\n",
              "      <td>NCAR</td>\n",
              "      <td>CESM2-WACCM</td>\n",
              "      <td>historical</td>\n",
              "      <td>r1i1p1f1</td>\n",
              "      <td>Amon</td>\n",
              "      <td>tas</td>\n",
              "      <td>gn</td>\n",
              "      <td>gs://cmip6/CMIP/NCAR/CESM2-WACCM/historical/r1...</td>\n",
              "      <td>NaN</td>\n",
              "    </tr>\n",
              "    <tr>\n",
              "      <th>40395</th>\n",
              "      <td>CMIP</td>\n",
              "      <td>NCAR</td>\n",
              "      <td>CESM2-WACCM</td>\n",
              "      <td>historical</td>\n",
              "      <td>r2i1p1f1</td>\n",
              "      <td>Amon</td>\n",
              "      <td>tas</td>\n",
              "      <td>gn</td>\n",
              "      <td>gs://cmip6/CMIP/NCAR/CESM2-WACCM/historical/r2...</td>\n",
              "      <td>NaN</td>\n",
              "    </tr>\n",
              "    <tr>\n",
              "      <th>40626</th>\n",
              "      <td>CMIP</td>\n",
              "      <td>NCAR</td>\n",
              "      <td>CESM2-WACCM</td>\n",
              "      <td>historical</td>\n",
              "      <td>r3i1p1f1</td>\n",
              "      <td>Amon</td>\n",
              "      <td>tas</td>\n",
              "      <td>gn</td>\n",
              "      <td>gs://cmip6/CMIP/NCAR/CESM2-WACCM/historical/r3...</td>\n",
              "      <td>NaN</td>\n",
              "    </tr>\n",
              "    <tr>\n",
              "      <th>41659</th>\n",
              "      <td>CMIP</td>\n",
              "      <td>NCAR</td>\n",
              "      <td>CESM2</td>\n",
              "      <td>historical</td>\n",
              "      <td>r10i1p1f1</td>\n",
              "      <td>Amon</td>\n",
              "      <td>tas</td>\n",
              "      <td>gn</td>\n",
              "      <td>gs://cmip6/CMIP/NCAR/CESM2/historical/r10i1p1f...</td>\n",
              "      <td>NaN</td>\n",
              "    </tr>\n",
              "    <tr>\n",
              "      <th>41886</th>\n",
              "      <td>CMIP</td>\n",
              "      <td>NCAR</td>\n",
              "      <td>CESM2</td>\n",
              "      <td>historical</td>\n",
              "      <td>r11i1p1f1</td>\n",
              "      <td>Amon</td>\n",
              "      <td>tas</td>\n",
              "      <td>gn</td>\n",
              "      <td>gs://cmip6/CMIP/NCAR/CESM2/historical/r11i1p1f...</td>\n",
              "      <td>NaN</td>\n",
              "    </tr>\n",
              "    <tr>\n",
              "      <th>42133</th>\n",
              "      <td>CMIP</td>\n",
              "      <td>NCAR</td>\n",
              "      <td>CESM2</td>\n",
              "      <td>historical</td>\n",
              "      <td>r1i1p1f1</td>\n",
              "      <td>Amon</td>\n",
              "      <td>tas</td>\n",
              "      <td>gn</td>\n",
              "      <td>gs://cmip6/CMIP/NCAR/CESM2/historical/r1i1p1f1...</td>\n",
              "      <td>NaN</td>\n",
              "    </tr>\n",
              "    <tr>\n",
              "      <th>42410</th>\n",
              "      <td>CMIP</td>\n",
              "      <td>NCAR</td>\n",
              "      <td>CESM2</td>\n",
              "      <td>historical</td>\n",
              "      <td>r2i1p1f1</td>\n",
              "      <td>Amon</td>\n",
              "      <td>tas</td>\n",
              "      <td>gn</td>\n",
              "      <td>gs://cmip6/CMIP/NCAR/CESM2/historical/r2i1p1f1...</td>\n",
              "      <td>NaN</td>\n",
              "    </tr>\n",
              "    <tr>\n",
              "      <th>42687</th>\n",
              "      <td>CMIP</td>\n",
              "      <td>NCAR</td>\n",
              "      <td>CESM2</td>\n",
              "      <td>historical</td>\n",
              "      <td>r3i1p1f1</td>\n",
              "      <td>Amon</td>\n",
              "      <td>tas</td>\n",
              "      <td>gn</td>\n",
              "      <td>gs://cmip6/CMIP/NCAR/CESM2/historical/r3i1p1f1...</td>\n",
              "      <td>NaN</td>\n",
              "    </tr>\n",
              "    <tr>\n",
              "      <th>42964</th>\n",
              "      <td>CMIP</td>\n",
              "      <td>NCAR</td>\n",
              "      <td>CESM2</td>\n",
              "      <td>historical</td>\n",
              "      <td>r4i1p1f1</td>\n",
              "      <td>Amon</td>\n",
              "      <td>tas</td>\n",
              "      <td>gn</td>\n",
              "      <td>gs://cmip6/CMIP/NCAR/CESM2/historical/r4i1p1f1...</td>\n",
              "      <td>NaN</td>\n",
              "    </tr>\n",
              "    <tr>\n",
              "      <th>43207</th>\n",
              "      <td>CMIP</td>\n",
              "      <td>NCAR</td>\n",
              "      <td>CESM2</td>\n",
              "      <td>historical</td>\n",
              "      <td>r5i1p1f1</td>\n",
              "      <td>Amon</td>\n",
              "      <td>tas</td>\n",
              "      <td>gn</td>\n",
              "      <td>gs://cmip6/CMIP/NCAR/CESM2/historical/r5i1p1f1...</td>\n",
              "      <td>NaN</td>\n",
              "    </tr>\n",
              "    <tr>\n",
              "      <th>43450</th>\n",
              "      <td>CMIP</td>\n",
              "      <td>NCAR</td>\n",
              "      <td>CESM2</td>\n",
              "      <td>historical</td>\n",
              "      <td>r6i1p1f1</td>\n",
              "      <td>Amon</td>\n",
              "      <td>tas</td>\n",
              "      <td>gn</td>\n",
              "      <td>gs://cmip6/CMIP/NCAR/CESM2/historical/r6i1p1f1...</td>\n",
              "      <td>NaN</td>\n",
              "    </tr>\n",
              "    <tr>\n",
              "      <th>43694</th>\n",
              "      <td>CMIP</td>\n",
              "      <td>NCAR</td>\n",
              "      <td>CESM2</td>\n",
              "      <td>historical</td>\n",
              "      <td>r7i1p1f1</td>\n",
              "      <td>Amon</td>\n",
              "      <td>tas</td>\n",
              "      <td>gn</td>\n",
              "      <td>gs://cmip6/CMIP/NCAR/CESM2/historical/r7i1p1f1...</td>\n",
              "      <td>NaN</td>\n",
              "    </tr>\n",
              "    <tr>\n",
              "      <th>43936</th>\n",
              "      <td>CMIP</td>\n",
              "      <td>NCAR</td>\n",
              "      <td>CESM2</td>\n",
              "      <td>historical</td>\n",
              "      <td>r8i1p1f1</td>\n",
              "      <td>Amon</td>\n",
              "      <td>tas</td>\n",
              "      <td>gn</td>\n",
              "      <td>gs://cmip6/CMIP/NCAR/CESM2/historical/r8i1p1f1...</td>\n",
              "      <td>NaN</td>\n",
              "    </tr>\n",
              "    <tr>\n",
              "      <th>44178</th>\n",
              "      <td>CMIP</td>\n",
              "      <td>NCAR</td>\n",
              "      <td>CESM2</td>\n",
              "      <td>historical</td>\n",
              "      <td>r9i1p1f1</td>\n",
              "      <td>Amon</td>\n",
              "      <td>tas</td>\n",
              "      <td>gn</td>\n",
              "      <td>gs://cmip6/CMIP/NCAR/CESM2/historical/r9i1p1f1...</td>\n",
              "      <td>NaN</td>\n",
              "    </tr>\n",
              "  </tbody>\n",
              "</table>\n",
              "</div>"
            ],
            "text/plain": [
              "      activity_id  ... dcpp_init_year\n",
              "38990        CMIP  ...            NaN\n",
              "39282        CMIP  ...            NaN\n",
              "40120        CMIP  ...            NaN\n",
              "40395        CMIP  ...            NaN\n",
              "40626        CMIP  ...            NaN\n",
              "41659        CMIP  ...            NaN\n",
              "41886        CMIP  ...            NaN\n",
              "42133        CMIP  ...            NaN\n",
              "42410        CMIP  ...            NaN\n",
              "42687        CMIP  ...            NaN\n",
              "42964        CMIP  ...            NaN\n",
              "43207        CMIP  ...            NaN\n",
              "43450        CMIP  ...            NaN\n",
              "43694        CMIP  ...            NaN\n",
              "43936        CMIP  ...            NaN\n",
              "44178        CMIP  ...            NaN\n",
              "\n",
              "[16 rows x 10 columns]"
            ]
          },
          "metadata": {
            "tags": []
          },
          "execution_count": 4
        }
      ]
    },
    {
      "cell_type": "markdown",
      "metadata": {
        "id": "ba_I8sSUOzh_",
        "colab_type": "text"
      },
      "source": [
        "## Load Data\n",
        "\n",
        "Now we will load a single store using gcsfs, zarr, and xarray.\n",
        "\n",
        "Note: Dask Array implements a subset of the NumPy ndarray interface using blocked algorithms, cutting up the large array into many small arrays. This lets us compute on arrays larger than memory using all of our cores. We coordinate these blocked algorithms using Dask graphs.\n",
        "\n",
        "Dask Array is used in fields like atmospheric and oceanographic science, large scale imaging, genomics, numerical algorithms for optimization or statistics, and more.\n",
        "\n",
        "### Xarray with Dask Arrays\n",
        "\n",
        "Xarray is an open source project and Python package that extends the labeled data functionality of Pandas to N-dimensional array-like datasets. It shares a similar API to NumPy and Pandas and supports both Dask and NumPy arrays under the hood."
      ]
    },
    {
      "cell_type": "code",
      "metadata": {
        "id": "7JCumm7BOziA",
        "colab_type": "code",
        "outputId": "563bfc85-589f-40e1-ad20-5d93750f1f29",
        "colab": {
          "base_uri": "https://localhost:8080/",
          "height": 1000
        }
      },
      "source": [
        "# get the path to a specific zarr store (the first one from the dataframe above)\n",
        "zstore = df_ta_ncar.zstore.values[-1]\n",
        "\n",
        "# create a mutable-mapping-style interface to the store\n",
        "mapper = gcs.get_mapper(zstore)\n",
        "\n",
        "# open it using xarray and zarr\n",
        "ds = xr.open_zarr(mapper, consolidated=True)\n",
        "ds"
      ],
      "execution_count": 0,
      "outputs": [
        {
          "output_type": "execute_result",
          "data": {
            "text/html": [
              "<div><svg style=\"position: absolute; width: 0; height: 0; overflow: hidden\">\n",
              "<defs>\n",
              "<symbol id=\"icon-database\" viewBox=\"0 0 32 32\">\n",
              "<title>Show/Hide data repr</title>\n",
              "<path d=\"M16 0c-8.837 0-16 2.239-16 5v4c0 2.761 7.163 5 16 5s16-2.239 16-5v-4c0-2.761-7.163-5-16-5z\"></path>\n",
              "<path d=\"M16 17c-8.837 0-16-2.239-16-5v6c0 2.761 7.163 5 16 5s16-2.239 16-5v-6c0 2.761-7.163 5-16 5z\"></path>\n",
              "<path d=\"M16 26c-8.837 0-16-2.239-16-5v6c0 2.761 7.163 5 16 5s16-2.239 16-5v-6c0 2.761-7.163 5-16 5z\"></path>\n",
              "</symbol>\n",
              "<symbol id=\"icon-file-text2\" viewBox=\"0 0 32 32\">\n",
              "<title>Show/Hide attributes</title>\n",
              "<path d=\"M28.681 7.159c-0.694-0.947-1.662-2.053-2.724-3.116s-2.169-2.030-3.116-2.724c-1.612-1.182-2.393-1.319-2.841-1.319h-15.5c-1.378 0-2.5 1.121-2.5 2.5v27c0 1.378 1.122 2.5 2.5 2.5h23c1.378 0 2.5-1.122 2.5-2.5v-19.5c0-0.448-0.137-1.23-1.319-2.841zM24.543 5.457c0.959 0.959 1.712 1.825 2.268 2.543h-4.811v-4.811c0.718 0.556 1.584 1.309 2.543 2.268zM28 29.5c0 0.271-0.229 0.5-0.5 0.5h-23c-0.271 0-0.5-0.229-0.5-0.5v-27c0-0.271 0.229-0.5 0.5-0.5 0 0 15.499-0 15.5 0v7c0 0.552 0.448 1 1 1h7v19.5z\"></path>\n",
              "<path d=\"M23 26h-14c-0.552 0-1-0.448-1-1s0.448-1 1-1h14c0.552 0 1 0.448 1 1s-0.448 1-1 1z\"></path>\n",
              "<path d=\"M23 22h-14c-0.552 0-1-0.448-1-1s0.448-1 1-1h14c0.552 0 1 0.448 1 1s-0.448 1-1 1z\"></path>\n",
              "<path d=\"M23 18h-14c-0.552 0-1-0.448-1-1s0.448-1 1-1h14c0.552 0 1 0.448 1 1s-0.448 1-1 1z\"></path>\n",
              "</symbol>\n",
              "</defs>\n",
              "</svg>\n",
              "<style>/* CSS stylesheet for displaying xarray objects in jupyterlab.\n",
              " *\n",
              " */\n",
              "\n",
              ":root {\n",
              "  --xr-font-color0: var(--jp-content-font-color0, rgba(0, 0, 0, 1));\n",
              "  --xr-font-color2: var(--jp-content-font-color2, rgba(0, 0, 0, 0.54));\n",
              "  --xr-font-color3: var(--jp-content-font-color3, rgba(0, 0, 0, 0.38));\n",
              "  --xr-border-color: var(--jp-border-color2, #e0e0e0);\n",
              "  --xr-disabled-color: var(--jp-layout-color3, #bdbdbd);\n",
              "  --xr-background-color: var(--jp-layout-color0, white);\n",
              "  --xr-background-color-row-even: var(--jp-layout-color1, white);\n",
              "  --xr-background-color-row-odd: var(--jp-layout-color2, #eeeeee);\n",
              "}\n",
              "\n",
              ".xr-wrap {\n",
              "  min-width: 300px;\n",
              "  max-width: 700px;\n",
              "}\n",
              "\n",
              ".xr-header {\n",
              "  padding-top: 6px;\n",
              "  padding-bottom: 6px;\n",
              "  margin-bottom: 4px;\n",
              "  border-bottom: solid 1px var(--xr-border-color);\n",
              "}\n",
              "\n",
              ".xr-header > div,\n",
              ".xr-header > ul {\n",
              "  display: inline;\n",
              "  margin-top: 0;\n",
              "  margin-bottom: 0;\n",
              "}\n",
              "\n",
              ".xr-obj-type,\n",
              ".xr-array-name {\n",
              "  margin-left: 2px;\n",
              "  margin-right: 10px;\n",
              "}\n",
              "\n",
              ".xr-obj-type {\n",
              "  color: var(--xr-font-color2);\n",
              "}\n",
              "\n",
              ".xr-sections {\n",
              "  padding-left: 0 !important;\n",
              "  display: grid;\n",
              "  grid-template-columns: 150px auto auto 1fr 20px 20px;\n",
              "}\n",
              "\n",
              ".xr-section-item {\n",
              "  display: contents;\n",
              "}\n",
              "\n",
              ".xr-section-item input {\n",
              "  display: none;\n",
              "}\n",
              "\n",
              ".xr-section-item input + label {\n",
              "  color: var(--xr-disabled-color);\n",
              "}\n",
              "\n",
              ".xr-section-item input:enabled + label {\n",
              "  cursor: pointer;\n",
              "  color: var(--xr-font-color2);\n",
              "}\n",
              "\n",
              ".xr-section-item input:enabled + label:hover {\n",
              "  color: var(--xr-font-color0);\n",
              "}\n",
              "\n",
              ".xr-section-summary {\n",
              "  grid-column: 1;\n",
              "  color: var(--xr-font-color2);\n",
              "  font-weight: 500;\n",
              "}\n",
              "\n",
              ".xr-section-summary > span {\n",
              "  display: inline-block;\n",
              "  padding-left: 0.5em;\n",
              "}\n",
              "\n",
              ".xr-section-summary-in:disabled + label {\n",
              "  color: var(--xr-font-color2);\n",
              "}\n",
              "\n",
              ".xr-section-summary-in + label:before {\n",
              "  display: inline-block;\n",
              "  content: '►';\n",
              "  font-size: 11px;\n",
              "  width: 15px;\n",
              "  text-align: center;\n",
              "}\n",
              "\n",
              ".xr-section-summary-in:disabled + label:before {\n",
              "  color: var(--xr-disabled-color);\n",
              "}\n",
              "\n",
              ".xr-section-summary-in:checked + label:before {\n",
              "  content: '▼';\n",
              "}\n",
              "\n",
              ".xr-section-summary-in:checked + label > span {\n",
              "  display: none;\n",
              "}\n",
              "\n",
              ".xr-section-summary,\n",
              ".xr-section-inline-details {\n",
              "  padding-top: 4px;\n",
              "  padding-bottom: 4px;\n",
              "}\n",
              "\n",
              ".xr-section-inline-details {\n",
              "  grid-column: 2 / -1;\n",
              "}\n",
              "\n",
              ".xr-section-details {\n",
              "  display: none;\n",
              "  grid-column: 1 / -1;\n",
              "  margin-bottom: 5px;\n",
              "}\n",
              "\n",
              ".xr-section-summary-in:checked ~ .xr-section-details {\n",
              "  display: contents;\n",
              "}\n",
              "\n",
              ".xr-array-wrap {\n",
              "  grid-column: 1 / -1;\n",
              "  display: grid;\n",
              "  grid-template-columns: 20px auto;\n",
              "}\n",
              "\n",
              ".xr-array-wrap > label {\n",
              "  grid-column: 1;\n",
              "  vertical-align: top;\n",
              "}\n",
              "\n",
              ".xr-preview {\n",
              "  color: var(--xr-font-color3);\n",
              "}\n",
              "\n",
              ".xr-array-preview,\n",
              ".xr-array-data {\n",
              "  padding: 0 5px !important;\n",
              "  grid-column: 2;\n",
              "}\n",
              "\n",
              ".xr-array-data,\n",
              ".xr-array-in:checked ~ .xr-array-preview {\n",
              "  display: none;\n",
              "}\n",
              "\n",
              ".xr-array-in:checked ~ .xr-array-data,\n",
              ".xr-array-preview {\n",
              "  display: inline-block;\n",
              "}\n",
              "\n",
              ".xr-dim-list {\n",
              "  display: inline-block !important;\n",
              "  list-style: none;\n",
              "  padding: 0 !important;\n",
              "  margin: 0;\n",
              "}\n",
              "\n",
              ".xr-dim-list li {\n",
              "  display: inline-block;\n",
              "  padding: 0;\n",
              "  margin: 0;\n",
              "}\n",
              "\n",
              ".xr-dim-list:before {\n",
              "  content: '(';\n",
              "}\n",
              "\n",
              ".xr-dim-list:after {\n",
              "  content: ')';\n",
              "}\n",
              "\n",
              ".xr-dim-list li:not(:last-child):after {\n",
              "  content: ',';\n",
              "  padding-right: 5px;\n",
              "}\n",
              "\n",
              ".xr-has-index {\n",
              "  font-weight: bold;\n",
              "}\n",
              "\n",
              ".xr-var-list,\n",
              ".xr-var-item {\n",
              "  display: contents;\n",
              "}\n",
              "\n",
              ".xr-var-item > div,\n",
              ".xr-var-item label,\n",
              ".xr-var-item > .xr-var-name span {\n",
              "  background-color: var(--xr-background-color-row-even);\n",
              "  margin-bottom: 0;\n",
              "}\n",
              "\n",
              ".xr-var-item > .xr-var-name:hover span {\n",
              "  padding-right: 5px;\n",
              "}\n",
              "\n",
              ".xr-var-list > li:nth-child(odd) > div,\n",
              ".xr-var-list > li:nth-child(odd) > label,\n",
              ".xr-var-list > li:nth-child(odd) > .xr-var-name span {\n",
              "  background-color: var(--xr-background-color-row-odd);\n",
              "}\n",
              "\n",
              ".xr-var-name {\n",
              "  grid-column: 1;\n",
              "}\n",
              "\n",
              ".xr-var-dims {\n",
              "  grid-column: 2;\n",
              "}\n",
              "\n",
              ".xr-var-dtype {\n",
              "  grid-column: 3;\n",
              "  text-align: right;\n",
              "  color: var(--xr-font-color2);\n",
              "}\n",
              "\n",
              ".xr-var-preview {\n",
              "  grid-column: 4;\n",
              "}\n",
              "\n",
              ".xr-var-name,\n",
              ".xr-var-dims,\n",
              ".xr-var-dtype,\n",
              ".xr-preview,\n",
              ".xr-attrs dt {\n",
              "  white-space: nowrap;\n",
              "  overflow: hidden;\n",
              "  text-overflow: ellipsis;\n",
              "  padding-right: 10px;\n",
              "}\n",
              "\n",
              ".xr-var-name:hover,\n",
              ".xr-var-dims:hover,\n",
              ".xr-var-dtype:hover,\n",
              ".xr-attrs dt:hover {\n",
              "  overflow: visible;\n",
              "  width: auto;\n",
              "  z-index: 1;\n",
              "}\n",
              "\n",
              ".xr-var-attrs,\n",
              ".xr-var-data {\n",
              "  display: none;\n",
              "  background-color: var(--xr-background-color) !important;\n",
              "  padding-bottom: 5px !important;\n",
              "}\n",
              "\n",
              ".xr-var-attrs-in:checked ~ .xr-var-attrs,\n",
              ".xr-var-data-in:checked ~ .xr-var-data {\n",
              "  display: block;\n",
              "}\n",
              "\n",
              ".xr-var-data > table {\n",
              "  float: right;\n",
              "}\n",
              "\n",
              ".xr-var-name span,\n",
              ".xr-var-data,\n",
              ".xr-attrs {\n",
              "  padding-left: 25px !important;\n",
              "}\n",
              "\n",
              ".xr-attrs,\n",
              ".xr-var-attrs,\n",
              ".xr-var-data {\n",
              "  grid-column: 1 / -1;\n",
              "}\n",
              "\n",
              "dl.xr-attrs {\n",
              "  padding: 0;\n",
              "  margin: 0;\n",
              "  display: grid;\n",
              "  grid-template-columns: 125px auto;\n",
              "}\n",
              "\n",
              ".xr-attrs dt, dd {\n",
              "  padding: 0;\n",
              "  margin: 0;\n",
              "  float: left;\n",
              "  padding-right: 10px;\n",
              "  width: auto;\n",
              "}\n",
              "\n",
              ".xr-attrs dt {\n",
              "  font-weight: normal;\n",
              "  grid-column: 1;\n",
              "}\n",
              "\n",
              ".xr-attrs dt:hover span {\n",
              "  display: inline-block;\n",
              "  background: var(--xr-background-color);\n",
              "  padding-right: 10px;\n",
              "}\n",
              "\n",
              ".xr-attrs dd {\n",
              "  grid-column: 2;\n",
              "  white-space: pre-wrap;\n",
              "  word-break: break-all;\n",
              "}\n",
              "\n",
              ".xr-icon-database,\n",
              ".xr-icon-file-text2 {\n",
              "  display: inline-block;\n",
              "  vertical-align: middle;\n",
              "  width: 1em;\n",
              "  height: 1.5em !important;\n",
              "  stroke-width: 0;\n",
              "  stroke: currentColor;\n",
              "  fill: currentColor;\n",
              "}\n",
              "</style><div class='xr-wrap'><div class='xr-header'><div class='xr-obj-type'>xarray.Dataset</div></div><ul class='xr-sections'><li class='xr-section-item'><input id='section-40eda048-b40d-4d1b-bc90-4d4d91d3b0a8' class='xr-section-summary-in' type='checkbox' disabled ><label for='section-40eda048-b40d-4d1b-bc90-4d4d91d3b0a8' class='xr-section-summary'  title='Expand/collapse section'>Dimensions:</label><div class='xr-section-inline-details'><ul class='xr-dim-list'><li><span class='xr-has-index'>lat</span>: 192</li><li><span class='xr-has-index'>lon</span>: 288</li><li><span>nbnd</span>: 2</li><li><span class='xr-has-index'>time</span>: 1980</li></ul></div><div class='xr-section-details'></div></li><li class='xr-section-item'><input id='section-f69c0185-4a2d-40b7-b5f1-e7a27b088b2f' class='xr-section-summary-in' type='checkbox'  checked><label for='section-f69c0185-4a2d-40b7-b5f1-e7a27b088b2f' class='xr-section-summary' >Coordinates: <span>(6)</span></label><div class='xr-section-inline-details'></div><div class='xr-section-details'><ul class='xr-var-list'><li class='xr-var-item'><div class='xr-var-name'><span class='xr-has-index'>lat</span></div><div class='xr-var-dims'>(lat)</div><div class='xr-var-dtype'>float64</div><div class='xr-var-preview xr-preview'>-90.0 -89.06 -88.12 ... 89.06 90.0</div><input id='attrs-496ca929-372d-47e2-bb34-439cd42bfb78' class='xr-var-attrs-in' type='checkbox' ><label for='attrs-496ca929-372d-47e2-bb34-439cd42bfb78' title='Show/Hide attributes'><svg class='icon xr-icon-file-text2'><use xlink:href='#icon-file-text2'></use></svg></label><input id='data-992633e4-e83c-4807-8f5e-151329d71b87' class='xr-var-data-in' type='checkbox'><label for='data-992633e4-e83c-4807-8f5e-151329d71b87' title='Show/Hide data repr'><svg class='icon xr-icon-database'><use xlink:href='#icon-database'></use></svg></label><div class='xr-var-attrs'><dl class='xr-attrs'><dt><span>axis :</span></dt><dd>Y</dd><dt><span>bounds :</span></dt><dd>lat_bnds</dd><dt><span>standard_name :</span></dt><dd>latitude</dd><dt><span>title :</span></dt><dd>Latitude</dd><dt><span>type :</span></dt><dd>double</dd><dt><span>units :</span></dt><dd>degrees_north</dd><dt><span>valid_max :</span></dt><dd>90.0</dd><dt><span>valid_min :</span></dt><dd>-90.0</dd></dl></div><pre class='xr-var-data'>array([-90.      , -89.057592, -88.115183, -87.172775, -86.230366, -85.287958,\n",
              "       -84.34555 , -83.403141, -82.460733, -81.518325, -80.575916, -79.633508,\n",
              "       -78.691099, -77.748691, -76.806283, -75.863874, -74.921466, -73.979058,\n",
              "       -73.036649, -72.094241, -71.151832, -70.209424, -69.267016, -68.324607,\n",
              "       -67.382199, -66.439791, -65.497382, -64.554974, -63.612565, -62.670157,\n",
              "       -61.727749, -60.78534 , -59.842932, -58.900524, -57.958115, -57.015707,\n",
              "       -56.073298, -55.13089 , -54.188482, -53.246073, -52.303665, -51.361257,\n",
              "       -50.418848, -49.47644 , -48.534031, -47.591623, -46.649215, -45.706806,\n",
              "       -44.764398, -43.82199 , -42.879581, -41.937173, -40.994764, -40.052356,\n",
              "       -39.109948, -38.167539, -37.225131, -36.282723, -35.340314, -34.397906,\n",
              "       -33.455497, -32.513089, -31.570681, -30.628272, -29.685864, -28.743455,\n",
              "       -27.801047, -26.858639, -25.91623 , -24.973822, -24.031414, -23.089005,\n",
              "       -22.146597, -21.204188, -20.26178 , -19.319372, -18.376963, -17.434555,\n",
              "       -16.492147, -15.549738, -14.60733 , -13.664921, -12.722513, -11.780105,\n",
              "       -10.837696,  -9.895288,  -8.95288 ,  -8.010471,  -7.068063,  -6.125654,\n",
              "        -5.183246,  -4.240838,  -3.298429,  -2.356021,  -1.413613,  -0.471204,\n",
              "         0.471204,   1.413613,   2.356021,   3.298429,   4.240838,   5.183246,\n",
              "         6.125654,   7.068063,   8.010471,   8.95288 ,   9.895288,  10.837696,\n",
              "        11.780105,  12.722513,  13.664921,  14.60733 ,  15.549738,  16.492147,\n",
              "        17.434555,  18.376963,  19.319372,  20.26178 ,  21.204188,  22.146597,\n",
              "        23.089005,  24.031414,  24.973822,  25.91623 ,  26.858639,  27.801047,\n",
              "        28.743455,  29.685864,  30.628272,  31.570681,  32.513089,  33.455497,\n",
              "        34.397906,  35.340314,  36.282723,  37.225131,  38.167539,  39.109948,\n",
              "        40.052356,  40.994764,  41.937173,  42.879581,  43.82199 ,  44.764398,\n",
              "        45.706806,  46.649215,  47.591623,  48.534031,  49.47644 ,  50.418848,\n",
              "        51.361257,  52.303665,  53.246073,  54.188482,  55.13089 ,  56.073298,\n",
              "        57.015707,  57.958115,  58.900524,  59.842932,  60.78534 ,  61.727749,\n",
              "        62.670157,  63.612565,  64.554974,  65.497382,  66.439791,  67.382199,\n",
              "        68.324607,  69.267016,  70.209424,  71.151832,  72.094241,  73.036649,\n",
              "        73.979058,  74.921466,  75.863874,  76.806283,  77.748691,  78.691099,\n",
              "        79.633508,  80.575916,  81.518325,  82.460733,  83.403141,  84.34555 ,\n",
              "        85.287958,  86.230366,  87.172775,  88.115183,  89.057592,  90.      ])</pre></li><li class='xr-var-item'><div class='xr-var-name'><span>lat_bnds</span></div><div class='xr-var-dims'>(lat, nbnd)</div><div class='xr-var-dtype'>float32</div><div class='xr-var-preview xr-preview'>dask.array&lt;chunksize=(192, 2), meta=np.ndarray&gt;</div><input id='attrs-166655b5-4544-439a-a8ed-e58350552e75' class='xr-var-attrs-in' type='checkbox' ><label for='attrs-166655b5-4544-439a-a8ed-e58350552e75' title='Show/Hide attributes'><svg class='icon xr-icon-file-text2'><use xlink:href='#icon-file-text2'></use></svg></label><input id='data-9965fea9-2fee-4cca-87e5-0b08e5f00ab4' class='xr-var-data-in' type='checkbox'><label for='data-9965fea9-2fee-4cca-87e5-0b08e5f00ab4' title='Show/Hide data repr'><svg class='icon xr-icon-database'><use xlink:href='#icon-database'></use></svg></label><div class='xr-var-attrs'><dl class='xr-attrs'><dt><span>units :</span></dt><dd>degrees_north</dd></dl></div><pre class='xr-var-data'><table>\n",
              "<tr>\n",
              "<td>\n",
              "<table>\n",
              "  <thead>\n",
              "    <tr><td> </td><th> Array </th><th> Chunk </th></tr>\n",
              "  </thead>\n",
              "  <tbody>\n",
              "    <tr><th> Bytes </th><td> 1.54 kB </td> <td> 1.54 kB </td></tr>\n",
              "    <tr><th> Shape </th><td> (192, 2) </td> <td> (192, 2) </td></tr>\n",
              "    <tr><th> Count </th><td> 2 Tasks </td><td> 1 Chunks </td></tr>\n",
              "    <tr><th> Type </th><td> float32 </td><td> numpy.ndarray </td></tr>\n",
              "  </tbody>\n",
              "</table>\n",
              "</td>\n",
              "<td>\n",
              "<svg width=\"75\" height=\"170\" style=\"stroke:rgb(0,0,0);stroke-width:1\" >\n",
              "\n",
              "  <!-- Horizontal lines -->\n",
              "  <line x1=\"0\" y1=\"0\" x2=\"25\" y2=\"0\" style=\"stroke-width:2\" />\n",
              "  <line x1=\"0\" y1=\"120\" x2=\"25\" y2=\"120\" style=\"stroke-width:2\" />\n",
              "\n",
              "  <!-- Vertical lines -->\n",
              "  <line x1=\"0\" y1=\"0\" x2=\"0\" y2=\"120\" style=\"stroke-width:2\" />\n",
              "  <line x1=\"25\" y1=\"0\" x2=\"25\" y2=\"120\" style=\"stroke-width:2\" />\n",
              "\n",
              "  <!-- Colored Rectangle -->\n",
              "  <polygon points=\"0.000000,0.000000 25.609134,0.000000 25.609134,120.000000 0.000000,120.000000\" style=\"fill:#ECB172A0;stroke-width:0\"/>\n",
              "\n",
              "  <!-- Text -->\n",
              "  <text x=\"12.804567\" y=\"140.000000\" font-size=\"1.0rem\" font-weight=\"100\" text-anchor=\"middle\" >2</text>\n",
              "  <text x=\"45.609134\" y=\"60.000000\" font-size=\"1.0rem\" font-weight=\"100\" text-anchor=\"middle\" transform=\"rotate(-90,45.609134,60.000000)\">192</text>\n",
              "</svg>\n",
              "</td>\n",
              "</tr>\n",
              "</table></pre></li><li class='xr-var-item'><div class='xr-var-name'><span class='xr-has-index'>lon</span></div><div class='xr-var-dims'>(lon)</div><div class='xr-var-dtype'>float64</div><div class='xr-var-preview xr-preview'>0.0 1.25 2.5 ... 356.2 357.5 358.8</div><input id='attrs-474400b3-a227-4aed-ba55-e7772857b3f8' class='xr-var-attrs-in' type='checkbox' ><label for='attrs-474400b3-a227-4aed-ba55-e7772857b3f8' title='Show/Hide attributes'><svg class='icon xr-icon-file-text2'><use xlink:href='#icon-file-text2'></use></svg></label><input id='data-aef9adec-3412-4796-bbfd-a296f35f215e' class='xr-var-data-in' type='checkbox'><label for='data-aef9adec-3412-4796-bbfd-a296f35f215e' title='Show/Hide data repr'><svg class='icon xr-icon-database'><use xlink:href='#icon-database'></use></svg></label><div class='xr-var-attrs'><dl class='xr-attrs'><dt><span>axis :</span></dt><dd>X</dd><dt><span>bounds :</span></dt><dd>lon_bnds</dd><dt><span>standard_name :</span></dt><dd>longitude</dd><dt><span>title :</span></dt><dd>Longitude</dd><dt><span>type :</span></dt><dd>double</dd><dt><span>units :</span></dt><dd>degrees_east</dd><dt><span>valid_max :</span></dt><dd>360.0</dd><dt><span>valid_min :</span></dt><dd>0.0</dd></dl></div><pre class='xr-var-data'>array([  0.  ,   1.25,   2.5 , ..., 356.25, 357.5 , 358.75])</pre></li><li class='xr-var-item'><div class='xr-var-name'><span>lon_bnds</span></div><div class='xr-var-dims'>(lon, nbnd)</div><div class='xr-var-dtype'>float32</div><div class='xr-var-preview xr-preview'>dask.array&lt;chunksize=(288, 2), meta=np.ndarray&gt;</div><input id='attrs-11b2a2fa-4a59-4398-8f4d-6620302f56b5' class='xr-var-attrs-in' type='checkbox' ><label for='attrs-11b2a2fa-4a59-4398-8f4d-6620302f56b5' title='Show/Hide attributes'><svg class='icon xr-icon-file-text2'><use xlink:href='#icon-file-text2'></use></svg></label><input id='data-d2afe1b3-f0cd-4f85-bde3-baa85f53077f' class='xr-var-data-in' type='checkbox'><label for='data-d2afe1b3-f0cd-4f85-bde3-baa85f53077f' title='Show/Hide data repr'><svg class='icon xr-icon-database'><use xlink:href='#icon-database'></use></svg></label><div class='xr-var-attrs'><dl class='xr-attrs'><dt><span>units :</span></dt><dd>degrees_east</dd></dl></div><pre class='xr-var-data'><table>\n",
              "<tr>\n",
              "<td>\n",
              "<table>\n",
              "  <thead>\n",
              "    <tr><td> </td><th> Array </th><th> Chunk </th></tr>\n",
              "  </thead>\n",
              "  <tbody>\n",
              "    <tr><th> Bytes </th><td> 2.30 kB </td> <td> 2.30 kB </td></tr>\n",
              "    <tr><th> Shape </th><td> (288, 2) </td> <td> (288, 2) </td></tr>\n",
              "    <tr><th> Count </th><td> 2 Tasks </td><td> 1 Chunks </td></tr>\n",
              "    <tr><th> Type </th><td> float32 </td><td> numpy.ndarray </td></tr>\n",
              "  </tbody>\n",
              "</table>\n",
              "</td>\n",
              "<td>\n",
              "<svg width=\"75\" height=\"170\" style=\"stroke:rgb(0,0,0);stroke-width:1\" >\n",
              "\n",
              "  <!-- Horizontal lines -->\n",
              "  <line x1=\"0\" y1=\"0\" x2=\"25\" y2=\"0\" style=\"stroke-width:2\" />\n",
              "  <line x1=\"0\" y1=\"120\" x2=\"25\" y2=\"120\" style=\"stroke-width:2\" />\n",
              "\n",
              "  <!-- Vertical lines -->\n",
              "  <line x1=\"0\" y1=\"0\" x2=\"0\" y2=\"120\" style=\"stroke-width:2\" />\n",
              "  <line x1=\"25\" y1=\"0\" x2=\"25\" y2=\"120\" style=\"stroke-width:2\" />\n",
              "\n",
              "  <!-- Colored Rectangle -->\n",
              "  <polygon points=\"0.000000,0.000000 25.412617,0.000000 25.412617,120.000000 0.000000,120.000000\" style=\"fill:#ECB172A0;stroke-width:0\"/>\n",
              "\n",
              "  <!-- Text -->\n",
              "  <text x=\"12.706308\" y=\"140.000000\" font-size=\"1.0rem\" font-weight=\"100\" text-anchor=\"middle\" >2</text>\n",
              "  <text x=\"45.412617\" y=\"60.000000\" font-size=\"1.0rem\" font-weight=\"100\" text-anchor=\"middle\" transform=\"rotate(-90,45.412617,60.000000)\">288</text>\n",
              "</svg>\n",
              "</td>\n",
              "</tr>\n",
              "</table></pre></li><li class='xr-var-item'><div class='xr-var-name'><span class='xr-has-index'>time</span></div><div class='xr-var-dims'>(time)</div><div class='xr-var-dtype'>object</div><div class='xr-var-preview xr-preview'>1850-01-15 12:00:00 ... 2014-12-15 12:00:00</div><input id='attrs-b74fd8c9-b883-441e-8058-ecefaae2254d' class='xr-var-attrs-in' type='checkbox' ><label for='attrs-b74fd8c9-b883-441e-8058-ecefaae2254d' title='Show/Hide attributes'><svg class='icon xr-icon-file-text2'><use xlink:href='#icon-file-text2'></use></svg></label><input id='data-6c011143-60df-4b79-b6a5-34e64550ecce' class='xr-var-data-in' type='checkbox'><label for='data-6c011143-60df-4b79-b6a5-34e64550ecce' title='Show/Hide data repr'><svg class='icon xr-icon-database'><use xlink:href='#icon-database'></use></svg></label><div class='xr-var-attrs'><dl class='xr-attrs'><dt><span>axis :</span></dt><dd>T</dd><dt><span>bounds :</span></dt><dd>time_bnds</dd><dt><span>standard_name :</span></dt><dd>time</dd><dt><span>title :</span></dt><dd>time</dd><dt><span>type :</span></dt><dd>double</dd></dl></div><pre class='xr-var-data'>array([cftime.DatetimeNoLeap(1850-01-15 12:00:00),\n",
              "       cftime.DatetimeNoLeap(1850-02-14 00:00:00),\n",
              "       cftime.DatetimeNoLeap(1850-03-15 12:00:00), ...,\n",
              "       cftime.DatetimeNoLeap(2014-10-15 12:00:00),\n",
              "       cftime.DatetimeNoLeap(2014-11-15 00:00:00),\n",
              "       cftime.DatetimeNoLeap(2014-12-15 12:00:00)], dtype=object)</pre></li><li class='xr-var-item'><div class='xr-var-name'><span>time_bnds</span></div><div class='xr-var-dims'>(time, nbnd)</div><div class='xr-var-dtype'>object</div><div class='xr-var-preview xr-preview'>dask.array&lt;chunksize=(1980, 2), meta=np.ndarray&gt;</div><input id='attrs-cd26fbe5-f057-47e1-8517-b8f61b50fd58' class='xr-var-attrs-in' type='checkbox' disabled><label for='attrs-cd26fbe5-f057-47e1-8517-b8f61b50fd58' title='Show/Hide attributes'><svg class='icon xr-icon-file-text2'><use xlink:href='#icon-file-text2'></use></svg></label><input id='data-6caaf001-2186-4529-bb61-35f00f9127a1' class='xr-var-data-in' type='checkbox'><label for='data-6caaf001-2186-4529-bb61-35f00f9127a1' title='Show/Hide data repr'><svg class='icon xr-icon-database'><use xlink:href='#icon-database'></use></svg></label><div class='xr-var-attrs'><dl class='xr-attrs'></dl></div><pre class='xr-var-data'><table>\n",
              "<tr>\n",
              "<td>\n",
              "<table>\n",
              "  <thead>\n",
              "    <tr><td> </td><th> Array </th><th> Chunk </th></tr>\n",
              "  </thead>\n",
              "  <tbody>\n",
              "    <tr><th> Bytes </th><td> 31.68 kB </td> <td> 31.68 kB </td></tr>\n",
              "    <tr><th> Shape </th><td> (1980, 2) </td> <td> (1980, 2) </td></tr>\n",
              "    <tr><th> Count </th><td> 2 Tasks </td><td> 1 Chunks </td></tr>\n",
              "    <tr><th> Type </th><td> object </td><td> numpy.ndarray </td></tr>\n",
              "  </tbody>\n",
              "</table>\n",
              "</td>\n",
              "<td>\n",
              "<svg width=\"75\" height=\"170\" style=\"stroke:rgb(0,0,0);stroke-width:1\" >\n",
              "\n",
              "  <!-- Horizontal lines -->\n",
              "  <line x1=\"0\" y1=\"0\" x2=\"25\" y2=\"0\" style=\"stroke-width:2\" />\n",
              "  <line x1=\"0\" y1=\"120\" x2=\"25\" y2=\"120\" style=\"stroke-width:2\" />\n",
              "\n",
              "  <!-- Vertical lines -->\n",
              "  <line x1=\"0\" y1=\"0\" x2=\"0\" y2=\"120\" style=\"stroke-width:2\" />\n",
              "  <line x1=\"25\" y1=\"0\" x2=\"25\" y2=\"120\" style=\"stroke-width:2\" />\n",
              "\n",
              "  <!-- Colored Rectangle -->\n",
              "  <polygon points=\"0.000000,0.000000 25.412617,0.000000 25.412617,120.000000 0.000000,120.000000\" style=\"fill:#ECB172A0;stroke-width:0\"/>\n",
              "\n",
              "  <!-- Text -->\n",
              "  <text x=\"12.706308\" y=\"140.000000\" font-size=\"1.0rem\" font-weight=\"100\" text-anchor=\"middle\" >2</text>\n",
              "  <text x=\"45.412617\" y=\"60.000000\" font-size=\"1.0rem\" font-weight=\"100\" text-anchor=\"middle\" transform=\"rotate(-90,45.412617,60.000000)\">1980</text>\n",
              "</svg>\n",
              "</td>\n",
              "</tr>\n",
              "</table></pre></li></ul></div></li><li class='xr-section-item'><input id='section-548bcc90-4883-4644-9a06-06023005ac6b' class='xr-section-summary-in' type='checkbox'  checked><label for='section-548bcc90-4883-4644-9a06-06023005ac6b' class='xr-section-summary' >Data variables: <span>(1)</span></label><div class='xr-section-inline-details'></div><div class='xr-section-details'><ul class='xr-var-list'><li class='xr-var-item'><div class='xr-var-name'><span>tas</span></div><div class='xr-var-dims'>(time, lat, lon)</div><div class='xr-var-dtype'>float32</div><div class='xr-var-preview xr-preview'>dask.array&lt;chunksize=(600, 192, 288), meta=np.ndarray&gt;</div><input id='attrs-e20f1914-c434-4dd3-a8b1-06ec90dc6ea9' class='xr-var-attrs-in' type='checkbox' ><label for='attrs-e20f1914-c434-4dd3-a8b1-06ec90dc6ea9' title='Show/Hide attributes'><svg class='icon xr-icon-file-text2'><use xlink:href='#icon-file-text2'></use></svg></label><input id='data-8ff9d68e-9413-47fc-a6a1-2557acf7f7eb' class='xr-var-data-in' type='checkbox'><label for='data-8ff9d68e-9413-47fc-a6a1-2557acf7f7eb' title='Show/Hide data repr'><svg class='icon xr-icon-database'><use xlink:href='#icon-database'></use></svg></label><div class='xr-var-attrs'><dl class='xr-attrs'><dt><span>cell_measures :</span></dt><dd>area: areacella</dd><dt><span>cell_methods :</span></dt><dd>area: time: mean</dd><dt><span>comment :</span></dt><dd>near-surface (usually, 2 meter) air temperature</dd><dt><span>description :</span></dt><dd>near-surface (usually, 2 meter) air temperature</dd><dt><span>frequency :</span></dt><dd>mon</dd><dt><span>id :</span></dt><dd>tas</dd><dt><span>long_name :</span></dt><dd>Near-Surface Air Temperature</dd><dt><span>mipTable :</span></dt><dd>Amon</dd><dt><span>out_name :</span></dt><dd>tas</dd><dt><span>prov :</span></dt><dd>Amon ((isd.003))</dd><dt><span>realm :</span></dt><dd>atmos</dd><dt><span>standard_name :</span></dt><dd>air_temperature</dd><dt><span>time :</span></dt><dd>time</dd><dt><span>time_label :</span></dt><dd>time-mean</dd><dt><span>time_title :</span></dt><dd>Temporal mean</dd><dt><span>title :</span></dt><dd>Near-Surface Air Temperature</dd><dt><span>type :</span></dt><dd>real</dd><dt><span>units :</span></dt><dd>K</dd><dt><span>variable_id :</span></dt><dd>tas</dd></dl></div><pre class='xr-var-data'><table>\n",
              "<tr>\n",
              "<td>\n",
              "<table>\n",
              "  <thead>\n",
              "    <tr><td> </td><th> Array </th><th> Chunk </th></tr>\n",
              "  </thead>\n",
              "  <tbody>\n",
              "    <tr><th> Bytes </th><td> 437.94 MB </td> <td> 132.71 MB </td></tr>\n",
              "    <tr><th> Shape </th><td> (1980, 192, 288) </td> <td> (600, 192, 288) </td></tr>\n",
              "    <tr><th> Count </th><td> 5 Tasks </td><td> 4 Chunks </td></tr>\n",
              "    <tr><th> Type </th><td> float32 </td><td> numpy.ndarray </td></tr>\n",
              "  </tbody>\n",
              "</table>\n",
              "</td>\n",
              "<td>\n",
              "<svg width=\"171\" height=\"159\" style=\"stroke:rgb(0,0,0);stroke-width:1\" >\n",
              "\n",
              "  <!-- Horizontal lines -->\n",
              "  <line x1=\"10\" y1=\"0\" x2=\"80\" y2=\"70\" style=\"stroke-width:2\" />\n",
              "  <line x1=\"10\" y1=\"38\" x2=\"80\" y2=\"109\" style=\"stroke-width:2\" />\n",
              "\n",
              "  <!-- Vertical lines -->\n",
              "  <line x1=\"10\" y1=\"0\" x2=\"10\" y2=\"38\" style=\"stroke-width:2\" />\n",
              "  <line x1=\"31\" y1=\"21\" x2=\"31\" y2=\"59\" />\n",
              "  <line x1=\"52\" y1=\"42\" x2=\"52\" y2=\"81\" />\n",
              "  <line x1=\"74\" y1=\"64\" x2=\"74\" y2=\"102\" />\n",
              "  <line x1=\"80\" y1=\"70\" x2=\"80\" y2=\"109\" style=\"stroke-width:2\" />\n",
              "\n",
              "  <!-- Colored Rectangle -->\n",
              "  <polygon points=\"10.000000,0.000000 80.588235,70.588235 80.588235,109.013868 10.000000,38.425632\" style=\"fill:#ECB172A0;stroke-width:0\"/>\n",
              "\n",
              "  <!-- Horizontal lines -->\n",
              "  <line x1=\"10\" y1=\"0\" x2=\"50\" y2=\"0\" style=\"stroke-width:2\" />\n",
              "  <line x1=\"31\" y1=\"21\" x2=\"71\" y2=\"21\" />\n",
              "  <line x1=\"52\" y1=\"42\" x2=\"93\" y2=\"42\" />\n",
              "  <line x1=\"74\" y1=\"64\" x2=\"114\" y2=\"64\" />\n",
              "  <line x1=\"80\" y1=\"70\" x2=\"121\" y2=\"70\" style=\"stroke-width:2\" />\n",
              "\n",
              "  <!-- Vertical lines -->\n",
              "  <line x1=\"10\" y1=\"0\" x2=\"80\" y2=\"70\" style=\"stroke-width:2\" />\n",
              "  <line x1=\"50\" y1=\"0\" x2=\"121\" y2=\"70\" style=\"stroke-width:2\" />\n",
              "\n",
              "  <!-- Colored Rectangle -->\n",
              "  <polygon points=\"10.000000,0.000000 50.556860,0.000000 121.145096,70.588235 80.588235,70.588235\" style=\"fill:#ECB172A0;stroke-width:0\"/>\n",
              "\n",
              "  <!-- Horizontal lines -->\n",
              "  <line x1=\"80\" y1=\"70\" x2=\"121\" y2=\"70\" style=\"stroke-width:2\" />\n",
              "  <line x1=\"80\" y1=\"109\" x2=\"121\" y2=\"109\" style=\"stroke-width:2\" />\n",
              "\n",
              "  <!-- Vertical lines -->\n",
              "  <line x1=\"80\" y1=\"70\" x2=\"80\" y2=\"109\" style=\"stroke-width:2\" />\n",
              "  <line x1=\"121\" y1=\"70\" x2=\"121\" y2=\"109\" style=\"stroke-width:2\" />\n",
              "\n",
              "  <!-- Colored Rectangle -->\n",
              "  <polygon points=\"80.588235,70.588235 121.145096,70.588235 121.145096,109.013868 80.588235,109.013868\" style=\"fill:#ECB172A0;stroke-width:0\"/>\n",
              "\n",
              "  <!-- Text -->\n",
              "  <text x=\"100.866665\" y=\"129.013868\" font-size=\"1.0rem\" font-weight=\"100\" text-anchor=\"middle\" >288</text>\n",
              "  <text x=\"141.145096\" y=\"89.801051\" font-size=\"1.0rem\" font-weight=\"100\" text-anchor=\"middle\" transform=\"rotate(-90,141.145096,89.801051)\">192</text>\n",
              "  <text x=\"35.294118\" y=\"93.719750\" font-size=\"1.0rem\" font-weight=\"100\" text-anchor=\"middle\" transform=\"rotate(45,35.294118,93.719750)\">1980</text>\n",
              "</svg>\n",
              "</td>\n",
              "</tr>\n",
              "</table></pre></li></ul></div></li><li class='xr-section-item'><input id='section-c43938a5-a3db-4e67-986b-0f936a7bf023' class='xr-section-summary-in' type='checkbox'  ><label for='section-c43938a5-a3db-4e67-986b-0f936a7bf023' class='xr-section-summary' >Attributes: <span>(47)</span></label><div class='xr-section-inline-details'></div><div class='xr-section-details'><dl class='xr-attrs'><dt><span>Conventions :</span></dt><dd>CF-1.7 CMIP-6.2</dd><dt><span>activity_id :</span></dt><dd>CMIP</dd><dt><span>branch_method :</span></dt><dd>standard</dd><dt><span>branch_time_in_child :</span></dt><dd>674885.0</dd><dt><span>branch_time_in_parent :</span></dt><dd>295650.0</dd><dt><span>case_id :</span></dt><dd>23</dd><dt><span>cesm_casename :</span></dt><dd>b.e21.BHIST.f09_g17.CMIP6-historical.009</dd><dt><span>contact :</span></dt><dd>cesm_cmip6@ucar.edu</dd><dt><span>creation_date :</span></dt><dd>2019-01-27T10:42:54Z</dd><dt><span>data_specs_version :</span></dt><dd>01.00.29</dd><dt><span>experiment :</span></dt><dd>all-forcing simulation of the recent past</dd><dt><span>experiment_id :</span></dt><dd>historical</dd><dt><span>external_variables :</span></dt><dd>areacella</dd><dt><span>forcing_index :</span></dt><dd>1</dd><dt><span>frequency :</span></dt><dd>mon</dd><dt><span>further_info_url :</span></dt><dd>https://furtherinfo.es-doc.org/CMIP6.NCAR.CESM2.historical.none.r9i1p1f1</dd><dt><span>grid :</span></dt><dd>native 0.9x1.25 finite volume grid (192x288 latxlon)</dd><dt><span>grid_label :</span></dt><dd>gn</dd><dt><span>history :</span></dt><dd>none</dd><dt><span>initialization_index :</span></dt><dd>1</dd><dt><span>institution :</span></dt><dd>National Center for Atmospheric Research, Climate and Global Dynamics Laboratory, 1850 Table Mesa Drive, Boulder, CO 80305, USA</dd><dt><span>institution_id :</span></dt><dd>NCAR</dd><dt><span>license :</span></dt><dd>CMIP6 model data produced by &lt;The National Center for Atmospheric Research&gt; is licensed under a Creative Commons Attribution-[]ShareAlike 4.0 International License (https://creativecommons.org/licenses/). Consult https://pcmdi.llnl.gov/CMIP6/TermsOfUse for terms of use governing CMIP6 output, including citation requirements and proper acknowledgment. Further information about this data, including some limitations, can be found via the further_info_url (recorded as a global attribute in this file)[]. The data producers and data providers make no warranty, either express or implied, including, but not limited to, warranties of merchantability and fitness for a particular purpose. All liabilities arising from the supply of the information (including any liability arising in negligence) are excluded to the fullest extent permitted by law.</dd><dt><span>mip_era :</span></dt><dd>CMIP6</dd><dt><span>model_doi_url :</span></dt><dd>https://doi.org/10.5065/D67H1H0V</dd><dt><span>nominal_resolution :</span></dt><dd>100 km</dd><dt><span>parent_activity_id :</span></dt><dd>CMIP</dd><dt><span>parent_experiment_id :</span></dt><dd>piControl</dd><dt><span>parent_mip_era :</span></dt><dd>CMIP6</dd><dt><span>parent_source_id :</span></dt><dd>CESM2</dd><dt><span>parent_time_units :</span></dt><dd>days since 0001-01-01 00:00:00</dd><dt><span>parent_variant_label :</span></dt><dd>r1i1p1f1</dd><dt><span>physics_index :</span></dt><dd>1</dd><dt><span>product :</span></dt><dd>model-output</dd><dt><span>realization_index :</span></dt><dd>9</dd><dt><span>realm :</span></dt><dd>atmos</dd><dt><span>source :</span></dt><dd>CESM2 (2017): atmosphere: CAM6 (0.9x1.25 finite volume grid; 288 x 192 longitude/latitude; 32 levels; top level 2.25 mb); ocean: POP2 (320x384 longitude/latitude; 60 levels; top grid cell 0-10 m); sea_ice: CICE5.1 (same grid as ocean); land: CLM5 0.9x1.25 finite volume grid; 288 x 192 longitude/latitude; 32 levels; top level 2.25 mb); aerosol: MAM4 (0.9x1.25 finite volume grid; 288 x 192 longitude/latitude; 32 levels; top level 2.25 mb); atmoschem: MAM4 (0.9x1.25 finite volume grid; 288 x 192 longitude/latitude; 32 levels; top level 2.25 mb); landIce: CISM2.1; ocnBgchem: MARBL (320x384 longitude/latitude; 60 levels; top grid cell 0-10 m)</dd><dt><span>source_id :</span></dt><dd>CESM2</dd><dt><span>source_type :</span></dt><dd>AOGCM BGC</dd><dt><span>sub_experiment :</span></dt><dd>none</dd><dt><span>sub_experiment_id :</span></dt><dd>none</dd><dt><span>table_id :</span></dt><dd>Amon</dd><dt><span>tracking_id :</span></dt><dd>hdl:21.14100/4b164514-1627-4deb-a8d5-93d4c5166d41\n",
              "hdl:21.14100/4b164514-1627-4deb-a8d5-93d4c5166d41\n",
              "hdl:21.14100/4b164514-1627-4deb-a8d5-93d4c5166d41\n",
              "hdl:21.14100/4b164514-1627-4deb-a8d5-93d4c5166d41</dd><dt><span>variable_id :</span></dt><dd>tas</dd><dt><span>variant_info :</span></dt><dd>CMIP6 20th century experiments (1850-2014) with CAM6, interactive land (CLM5), coupled ocean (POP2) with biogeochemistry (MARBL), interactive sea ice (CICE5.1), and non-evolving land ice (CISM2.1)\r\n",
              "</dd><dt><span>variant_label :</span></dt><dd>r9i1p1f1</dd><dt><span>status :</span></dt><dd>2019-10-25;created;by nhn2@columbia.edu</dd></dl></div></li></ul></div></div>"
            ],
            "text/plain": [
              "<xarray.Dataset>\n",
              "Dimensions:    (lat: 192, lon: 288, nbnd: 2, time: 1980)\n",
              "Coordinates:\n",
              "  * lat        (lat) float64 -90.0 -89.06 -88.12 -87.17 ... 88.12 89.06 90.0\n",
              "    lat_bnds   (lat, nbnd) float32 dask.array<chunksize=(192, 2), meta=np.ndarray>\n",
              "  * lon        (lon) float64 0.0 1.25 2.5 3.75 5.0 ... 355.0 356.2 357.5 358.8\n",
              "    lon_bnds   (lon, nbnd) float32 dask.array<chunksize=(288, 2), meta=np.ndarray>\n",
              "  * time       (time) object 1850-01-15 12:00:00 ... 2014-12-15 12:00:00\n",
              "    time_bnds  (time, nbnd) object dask.array<chunksize=(1980, 2), meta=np.ndarray>\n",
              "Dimensions without coordinates: nbnd\n",
              "Data variables:\n",
              "    tas        (time, lat, lon) float32 dask.array<chunksize=(600, 192, 288), meta=np.ndarray>\n",
              "Attributes:\n",
              "    Conventions:            CF-1.7 CMIP-6.2\n",
              "    activity_id:            CMIP\n",
              "    branch_method:          standard\n",
              "    branch_time_in_child:   674885.0\n",
              "    branch_time_in_parent:  295650.0\n",
              "    case_id:                23\n",
              "    cesm_casename:          b.e21.BHIST.f09_g17.CMIP6-historical.009\n",
              "    contact:                cesm_cmip6@ucar.edu\n",
              "    creation_date:          2019-01-27T10:42:54Z\n",
              "    data_specs_version:     01.00.29\n",
              "    experiment:             all-forcing simulation of the recent past\n",
              "    experiment_id:          historical\n",
              "    external_variables:     areacella\n",
              "    forcing_index:          1\n",
              "    frequency:              mon\n",
              "    further_info_url:       https://furtherinfo.es-doc.org/CMIP6.NCAR.CESM2.h...\n",
              "    grid:                   native 0.9x1.25 finite volume grid (192x288 latxlon)\n",
              "    grid_label:             gn\n",
              "    history:                none\n",
              "    initialization_index:   1\n",
              "    institution:            National Center for Atmospheric Research, Climate...\n",
              "    institution_id:         NCAR\n",
              "    license:                CMIP6 model data produced by <The National Center...\n",
              "    mip_era:                CMIP6\n",
              "    model_doi_url:          https://doi.org/10.5065/D67H1H0V\n",
              "    nominal_resolution:     100 km\n",
              "    parent_activity_id:     CMIP\n",
              "    parent_experiment_id:   piControl\n",
              "    parent_mip_era:         CMIP6\n",
              "    parent_source_id:       CESM2\n",
              "    parent_time_units:      days since 0001-01-01 00:00:00\n",
              "    parent_variant_label:   r1i1p1f1\n",
              "    physics_index:          1\n",
              "    product:                model-output\n",
              "    realization_index:      9\n",
              "    realm:                  atmos\n",
              "    source:                 CESM2 (2017): atmosphere: CAM6 (0.9x1.25 finite v...\n",
              "    source_id:              CESM2\n",
              "    source_type:            AOGCM BGC\n",
              "    sub_experiment:         none\n",
              "    sub_experiment_id:      none\n",
              "    table_id:               Amon\n",
              "    tracking_id:            hdl:21.14100/4b164514-1627-4deb-a8d5-93d4c5166d41...\n",
              "    variable_id:            tas\n",
              "    variant_info:           CMIP6 20th century experiments (1850-2014) with C...\n",
              "    variant_label:          r9i1p1f1\n",
              "    status:                 2019-10-25;created;by nhn2@columbia.edu"
            ]
          },
          "metadata": {
            "tags": []
          },
          "execution_count": 5
        }
      ]
    },
    {
      "cell_type": "code",
      "metadata": {
        "id": "b5F7MXg4gL2w",
        "colab_type": "code",
        "outputId": "dd6a242f-d471-4a9a-bcc8-176c66d2c7a0",
        "colab": {
          "base_uri": "https://localhost:8080/",
          "height": 35
        }
      },
      "source": [
        "ds.tas.shape"
      ],
      "execution_count": 0,
      "outputs": [
        {
          "output_type": "execute_result",
          "data": {
            "text/plain": [
              "(1980, 192, 288)"
            ]
          },
          "metadata": {
            "tags": []
          },
          "execution_count": 9
        }
      ]
    },
    {
      "cell_type": "markdown",
      "metadata": {
        "id": "h7QWs7CSOziD",
        "colab_type": "text"
      },
      "source": [
        "Plot a map from a specific month of any year."
      ]
    },
    {
      "cell_type": "code",
      "metadata": {
        "id": "OhT9-yB2OziD",
        "colab_type": "code",
        "outputId": "596784e9-8ae4-48b3-935d-5edd5e889a5c",
        "colab": {
          "base_uri": "https://localhost:8080/",
          "height": 420
        }
      },
      "source": [
        "ds.tas.sel(time='1950-01').squeeze().plot()"
      ],
      "execution_count": 0,
      "outputs": [
        {
          "output_type": "execute_result",
          "data": {
            "text/plain": [
              "<matplotlib.collections.QuadMesh at 0x7f39893b62b0>"
            ]
          },
          "metadata": {
            "tags": []
          },
          "execution_count": 11
        },
        {
          "output_type": "display_data",
          "data": {
            "image/png": "[encoded data removed]",
            "text/plain": [
              "<Figure size 864x432 with 2 Axes>"
            ]
          },
          "metadata": {
            "tags": [],
            "image/png": {
              "width": 692,
              "height": 386
            }
          }
        }
      ]
    },
    {
      "cell_type": "markdown",
      "metadata": {
        "id": "RUmO3k3HltM6",
        "colab_type": "text"
      },
      "source": [
        "## Test: Load array of available models that do RCP 8.5"
      ]
    },
    {
      "cell_type": "code",
      "metadata": {
        "id": "-cJhKWOglt4K",
        "colab_type": "code",
        "outputId": "df51e5cb-308d-49f5-956b-85e4c6601806",
        "colab": {
          "base_uri": "https://localhost:8080/",
          "height": 461
        }
      },
      "source": [
        "df = pd.read_csv('https://storage.googleapis.com/cmip6/cmip6-zarr-consolidated-stores.csv')\n",
        "df_mod = df.query(\"activity_id=='ScenarioMIP' & table_id == 'Amon' & variable_id == 'tas' & experiment_id == 'ssp585'\")\n",
        "models = df_mod.source_id.unique()\n",
        "models = list(models)\n",
        "models"
      ],
      "execution_count": 0,
      "outputs": [
        {
          "output_type": "execute_result",
          "data": {
            "text/plain": [
              "['BCC-CSM2-MR',\n",
              " 'CAMS-CSM1-0',\n",
              " 'FGOALS-g3',\n",
              " 'CanESM5-CanOE',\n",
              " 'CanESM5',\n",
              " 'CNRM-CM6-1-HR',\n",
              " 'CNRM-CM6-1',\n",
              " 'CNRM-ESM2-1',\n",
              " 'ACCESS-CM2',\n",
              " 'ACCESS-ESM1-5',\n",
              " 'MPI-ESM1-2-HR',\n",
              " 'EC-Earth3-Veg',\n",
              " 'FIO-ESM-2-0',\n",
              " 'INM-CM5-0',\n",
              " 'IPSL-CM6A-LR',\n",
              " 'MIROC-ES2L',\n",
              " 'MIROC6',\n",
              " 'UKESM1-0-LL',\n",
              " 'MRI-ESM2-0',\n",
              " 'CESM2-WACCM',\n",
              " 'CESM2',\n",
              " 'KACE-1-0-G',\n",
              " 'GFDL-CM4',\n",
              " 'GFDL-ESM4',\n",
              " 'MCM-UA-1-0']"
            ]
          },
          "metadata": {
            "tags": []
          },
          "execution_count": 15
        }
      ]
    },
    {
      "cell_type": "markdown",
      "metadata": {
        "id": "6xngh4N7mA8n",
        "colab_type": "text"
      },
      "source": [
        "### Select any one model"
      ]
    },
    {
      "cell_type": "code",
      "metadata": {
        "id": "xhH3OTQxl-yI",
        "colab_type": "code",
        "outputId": "91f58edc-4a3c-4747-cc53-27c3f6e21395",
        "colab": {
          "base_uri": "https://localhost:8080/",
          "height": 1000
        }
      },
      "source": [
        "model = 'GFDL-CM4'\n",
        "df = pd.read_csv('https://storage.googleapis.com/cmip6/cmip6-zarr-consolidated-stores.csv')\n",
        "df_mod = df.query(\"activity_id=='ScenarioMIP' & table_id == 'Amon' & experiment_id == 'ssp585' & source_id == '%s'\"%(model))\n",
        "df_mod"
      ],
      "execution_count": 0,
      "outputs": [
        {
          "output_type": "execute_result",
          "data": {
            "text/html": [
              "<div>\n",
              "<style scoped>\n",
              "    .dataframe tbody tr th:only-of-type {\n",
              "        vertical-align: middle;\n",
              "    }\n",
              "\n",
              "    .dataframe tbody tr th {\n",
              "        vertical-align: top;\n",
              "    }\n",
              "\n",
              "    .dataframe thead th {\n",
              "        text-align: right;\n",
              "    }\n",
              "</style>\n",
              "<table border=\"1\" class=\"dataframe\">\n",
              "  <thead>\n",
              "    <tr style=\"text-align: right;\">\n",
              "      <th></th>\n",
              "      <th>activity_id</th>\n",
              "      <th>institution_id</th>\n",
              "      <th>source_id</th>\n",
              "      <th>experiment_id</th>\n",
              "      <th>member_id</th>\n",
              "      <th>table_id</th>\n",
              "      <th>variable_id</th>\n",
              "      <th>grid_label</th>\n",
              "      <th>zstore</th>\n",
              "      <th>dcpp_init_year</th>\n",
              "    </tr>\n",
              "  </thead>\n",
              "  <tbody>\n",
              "    <tr>\n",
              "      <th>234417</th>\n",
              "      <td>ScenarioMIP</td>\n",
              "      <td>NOAA-GFDL</td>\n",
              "      <td>GFDL-CM4</td>\n",
              "      <td>ssp585</td>\n",
              "      <td>r1i1p1f1</td>\n",
              "      <td>Amon</td>\n",
              "      <td>clivi</td>\n",
              "      <td>gr1</td>\n",
              "      <td>gs://cmip6/ScenarioMIP/NOAA-GFDL/GFDL-CM4/ssp5...</td>\n",
              "      <td>NaN</td>\n",
              "    </tr>\n",
              "    <tr>\n",
              "      <th>234418</th>\n",
              "      <td>ScenarioMIP</td>\n",
              "      <td>NOAA-GFDL</td>\n",
              "      <td>GFDL-CM4</td>\n",
              "      <td>ssp585</td>\n",
              "      <td>r1i1p1f1</td>\n",
              "      <td>Amon</td>\n",
              "      <td>clt</td>\n",
              "      <td>gr1</td>\n",
              "      <td>gs://cmip6/ScenarioMIP/NOAA-GFDL/GFDL-CM4/ssp5...</td>\n",
              "      <td>NaN</td>\n",
              "    </tr>\n",
              "    <tr>\n",
              "      <th>234419</th>\n",
              "      <td>ScenarioMIP</td>\n",
              "      <td>NOAA-GFDL</td>\n",
              "      <td>GFDL-CM4</td>\n",
              "      <td>ssp585</td>\n",
              "      <td>r1i1p1f1</td>\n",
              "      <td>Amon</td>\n",
              "      <td>clwvi</td>\n",
              "      <td>gr1</td>\n",
              "      <td>gs://cmip6/ScenarioMIP/NOAA-GFDL/GFDL-CM4/ssp5...</td>\n",
              "      <td>NaN</td>\n",
              "    </tr>\n",
              "    <tr>\n",
              "      <th>234420</th>\n",
              "      <td>ScenarioMIP</td>\n",
              "      <td>NOAA-GFDL</td>\n",
              "      <td>GFDL-CM4</td>\n",
              "      <td>ssp585</td>\n",
              "      <td>r1i1p1f1</td>\n",
              "      <td>Amon</td>\n",
              "      <td>evspsbl</td>\n",
              "      <td>gr1</td>\n",
              "      <td>gs://cmip6/ScenarioMIP/NOAA-GFDL/GFDL-CM4/ssp5...</td>\n",
              "      <td>NaN</td>\n",
              "    </tr>\n",
              "    <tr>\n",
              "      <th>234421</th>\n",
              "      <td>ScenarioMIP</td>\n",
              "      <td>NOAA-GFDL</td>\n",
              "      <td>GFDL-CM4</td>\n",
              "      <td>ssp585</td>\n",
              "      <td>r1i1p1f1</td>\n",
              "      <td>Amon</td>\n",
              "      <td>hfls</td>\n",
              "      <td>gr1</td>\n",
              "      <td>gs://cmip6/ScenarioMIP/NOAA-GFDL/GFDL-CM4/ssp5...</td>\n",
              "      <td>NaN</td>\n",
              "    </tr>\n",
              "    <tr>\n",
              "      <th>234422</th>\n",
              "      <td>ScenarioMIP</td>\n",
              "      <td>NOAA-GFDL</td>\n",
              "      <td>GFDL-CM4</td>\n",
              "      <td>ssp585</td>\n",
              "      <td>r1i1p1f1</td>\n",
              "      <td>Amon</td>\n",
              "      <td>hfss</td>\n",
              "      <td>gr1</td>\n",
              "      <td>gs://cmip6/ScenarioMIP/NOAA-GFDL/GFDL-CM4/ssp5...</td>\n",
              "      <td>NaN</td>\n",
              "    </tr>\n",
              "    <tr>\n",
              "      <th>234423</th>\n",
              "      <td>ScenarioMIP</td>\n",
              "      <td>NOAA-GFDL</td>\n",
              "      <td>GFDL-CM4</td>\n",
              "      <td>ssp585</td>\n",
              "      <td>r1i1p1f1</td>\n",
              "      <td>Amon</td>\n",
              "      <td>hurs</td>\n",
              "      <td>gr1</td>\n",
              "      <td>gs://cmip6/ScenarioMIP/NOAA-GFDL/GFDL-CM4/ssp5...</td>\n",
              "      <td>NaN</td>\n",
              "    </tr>\n",
              "    <tr>\n",
              "      <th>234424</th>\n",
              "      <td>ScenarioMIP</td>\n",
              "      <td>NOAA-GFDL</td>\n",
              "      <td>GFDL-CM4</td>\n",
              "      <td>ssp585</td>\n",
              "      <td>r1i1p1f1</td>\n",
              "      <td>Amon</td>\n",
              "      <td>hus</td>\n",
              "      <td>gr1</td>\n",
              "      <td>gs://cmip6/ScenarioMIP/NOAA-GFDL/GFDL-CM4/ssp5...</td>\n",
              "      <td>NaN</td>\n",
              "    </tr>\n",
              "    <tr>\n",
              "      <th>234425</th>\n",
              "      <td>ScenarioMIP</td>\n",
              "      <td>NOAA-GFDL</td>\n",
              "      <td>GFDL-CM4</td>\n",
              "      <td>ssp585</td>\n",
              "      <td>r1i1p1f1</td>\n",
              "      <td>Amon</td>\n",
              "      <td>huss</td>\n",
              "      <td>gr1</td>\n",
              "      <td>gs://cmip6/ScenarioMIP/NOAA-GFDL/GFDL-CM4/ssp5...</td>\n",
              "      <td>NaN</td>\n",
              "    </tr>\n",
              "    <tr>\n",
              "      <th>234426</th>\n",
              "      <td>ScenarioMIP</td>\n",
              "      <td>NOAA-GFDL</td>\n",
              "      <td>GFDL-CM4</td>\n",
              "      <td>ssp585</td>\n",
              "      <td>r1i1p1f1</td>\n",
              "      <td>Amon</td>\n",
              "      <td>o3</td>\n",
              "      <td>gr1</td>\n",
              "      <td>gs://cmip6/ScenarioMIP/NOAA-GFDL/GFDL-CM4/ssp5...</td>\n",
              "      <td>NaN</td>\n",
              "    </tr>\n",
              "    <tr>\n",
              "      <th>234427</th>\n",
              "      <td>ScenarioMIP</td>\n",
              "      <td>NOAA-GFDL</td>\n",
              "      <td>GFDL-CM4</td>\n",
              "      <td>ssp585</td>\n",
              "      <td>r1i1p1f1</td>\n",
              "      <td>Amon</td>\n",
              "      <td>pr</td>\n",
              "      <td>gr1</td>\n",
              "      <td>gs://cmip6/ScenarioMIP/NOAA-GFDL/GFDL-CM4/ssp5...</td>\n",
              "      <td>NaN</td>\n",
              "    </tr>\n",
              "    <tr>\n",
              "      <th>234428</th>\n",
              "      <td>ScenarioMIP</td>\n",
              "      <td>NOAA-GFDL</td>\n",
              "      <td>GFDL-CM4</td>\n",
              "      <td>ssp585</td>\n",
              "      <td>r1i1p1f1</td>\n",
              "      <td>Amon</td>\n",
              "      <td>prsn</td>\n",
              "      <td>gr1</td>\n",
              "      <td>gs://cmip6/ScenarioMIP/NOAA-GFDL/GFDL-CM4/ssp5...</td>\n",
              "      <td>NaN</td>\n",
              "    </tr>\n",
              "    <tr>\n",
              "      <th>234429</th>\n",
              "      <td>ScenarioMIP</td>\n",
              "      <td>NOAA-GFDL</td>\n",
              "      <td>GFDL-CM4</td>\n",
              "      <td>ssp585</td>\n",
              "      <td>r1i1p1f1</td>\n",
              "      <td>Amon</td>\n",
              "      <td>prw</td>\n",
              "      <td>gr1</td>\n",
              "      <td>gs://cmip6/ScenarioMIP/NOAA-GFDL/GFDL-CM4/ssp5...</td>\n",
              "      <td>NaN</td>\n",
              "    </tr>\n",
              "    <tr>\n",
              "      <th>234430</th>\n",
              "      <td>ScenarioMIP</td>\n",
              "      <td>NOAA-GFDL</td>\n",
              "      <td>GFDL-CM4</td>\n",
              "      <td>ssp585</td>\n",
              "      <td>r1i1p1f1</td>\n",
              "      <td>Amon</td>\n",
              "      <td>ps</td>\n",
              "      <td>gr1</td>\n",
              "      <td>gs://cmip6/ScenarioMIP/NOAA-GFDL/GFDL-CM4/ssp5...</td>\n",
              "      <td>NaN</td>\n",
              "    </tr>\n",
              "    <tr>\n",
              "      <th>234431</th>\n",
              "      <td>ScenarioMIP</td>\n",
              "      <td>NOAA-GFDL</td>\n",
              "      <td>GFDL-CM4</td>\n",
              "      <td>ssp585</td>\n",
              "      <td>r1i1p1f1</td>\n",
              "      <td>Amon</td>\n",
              "      <td>psl</td>\n",
              "      <td>gr1</td>\n",
              "      <td>gs://cmip6/ScenarioMIP/NOAA-GFDL/GFDL-CM4/ssp5...</td>\n",
              "      <td>NaN</td>\n",
              "    </tr>\n",
              "    <tr>\n",
              "      <th>234432</th>\n",
              "      <td>ScenarioMIP</td>\n",
              "      <td>NOAA-GFDL</td>\n",
              "      <td>GFDL-CM4</td>\n",
              "      <td>ssp585</td>\n",
              "      <td>r1i1p1f1</td>\n",
              "      <td>Amon</td>\n",
              "      <td>rlds</td>\n",
              "      <td>gr1</td>\n",
              "      <td>gs://cmip6/ScenarioMIP/NOAA-GFDL/GFDL-CM4/ssp5...</td>\n",
              "      <td>NaN</td>\n",
              "    </tr>\n",
              "    <tr>\n",
              "      <th>234433</th>\n",
              "      <td>ScenarioMIP</td>\n",
              "      <td>NOAA-GFDL</td>\n",
              "      <td>GFDL-CM4</td>\n",
              "      <td>ssp585</td>\n",
              "      <td>r1i1p1f1</td>\n",
              "      <td>Amon</td>\n",
              "      <td>rlus</td>\n",
              "      <td>gr1</td>\n",
              "      <td>gs://cmip6/ScenarioMIP/NOAA-GFDL/GFDL-CM4/ssp5...</td>\n",
              "      <td>NaN</td>\n",
              "    </tr>\n",
              "    <tr>\n",
              "      <th>234434</th>\n",
              "      <td>ScenarioMIP</td>\n",
              "      <td>NOAA-GFDL</td>\n",
              "      <td>GFDL-CM4</td>\n",
              "      <td>ssp585</td>\n",
              "      <td>r1i1p1f1</td>\n",
              "      <td>Amon</td>\n",
              "      <td>rlut</td>\n",
              "      <td>gr1</td>\n",
              "      <td>gs://cmip6/ScenarioMIP/NOAA-GFDL/GFDL-CM4/ssp5...</td>\n",
              "      <td>NaN</td>\n",
              "    </tr>\n",
              "    <tr>\n",
              "      <th>234435</th>\n",
              "      <td>ScenarioMIP</td>\n",
              "      <td>NOAA-GFDL</td>\n",
              "      <td>GFDL-CM4</td>\n",
              "      <td>ssp585</td>\n",
              "      <td>r1i1p1f1</td>\n",
              "      <td>Amon</td>\n",
              "      <td>rlutcs</td>\n",
              "      <td>gr1</td>\n",
              "      <td>gs://cmip6/ScenarioMIP/NOAA-GFDL/GFDL-CM4/ssp5...</td>\n",
              "      <td>NaN</td>\n",
              "    </tr>\n",
              "    <tr>\n",
              "      <th>234436</th>\n",
              "      <td>ScenarioMIP</td>\n",
              "      <td>NOAA-GFDL</td>\n",
              "      <td>GFDL-CM4</td>\n",
              "      <td>ssp585</td>\n",
              "      <td>r1i1p1f1</td>\n",
              "      <td>Amon</td>\n",
              "      <td>rsds</td>\n",
              "      <td>gr1</td>\n",
              "      <td>gs://cmip6/ScenarioMIP/NOAA-GFDL/GFDL-CM4/ssp5...</td>\n",
              "      <td>NaN</td>\n",
              "    </tr>\n",
              "    <tr>\n",
              "      <th>234437</th>\n",
              "      <td>ScenarioMIP</td>\n",
              "      <td>NOAA-GFDL</td>\n",
              "      <td>GFDL-CM4</td>\n",
              "      <td>ssp585</td>\n",
              "      <td>r1i1p1f1</td>\n",
              "      <td>Amon</td>\n",
              "      <td>rsdt</td>\n",
              "      <td>gr1</td>\n",
              "      <td>gs://cmip6/ScenarioMIP/NOAA-GFDL/GFDL-CM4/ssp5...</td>\n",
              "      <td>NaN</td>\n",
              "    </tr>\n",
              "    <tr>\n",
              "      <th>234438</th>\n",
              "      <td>ScenarioMIP</td>\n",
              "      <td>NOAA-GFDL</td>\n",
              "      <td>GFDL-CM4</td>\n",
              "      <td>ssp585</td>\n",
              "      <td>r1i1p1f1</td>\n",
              "      <td>Amon</td>\n",
              "      <td>rsus</td>\n",
              "      <td>gr1</td>\n",
              "      <td>gs://cmip6/ScenarioMIP/NOAA-GFDL/GFDL-CM4/ssp5...</td>\n",
              "      <td>NaN</td>\n",
              "    </tr>\n",
              "    <tr>\n",
              "      <th>234439</th>\n",
              "      <td>ScenarioMIP</td>\n",
              "      <td>NOAA-GFDL</td>\n",
              "      <td>GFDL-CM4</td>\n",
              "      <td>ssp585</td>\n",
              "      <td>r1i1p1f1</td>\n",
              "      <td>Amon</td>\n",
              "      <td>rsut</td>\n",
              "      <td>gr1</td>\n",
              "      <td>gs://cmip6/ScenarioMIP/NOAA-GFDL/GFDL-CM4/ssp5...</td>\n",
              "      <td>NaN</td>\n",
              "    </tr>\n",
              "    <tr>\n",
              "      <th>234440</th>\n",
              "      <td>ScenarioMIP</td>\n",
              "      <td>NOAA-GFDL</td>\n",
              "      <td>GFDL-CM4</td>\n",
              "      <td>ssp585</td>\n",
              "      <td>r1i1p1f1</td>\n",
              "      <td>Amon</td>\n",
              "      <td>rsutcs</td>\n",
              "      <td>gr1</td>\n",
              "      <td>gs://cmip6/ScenarioMIP/NOAA-GFDL/GFDL-CM4/ssp5...</td>\n",
              "      <td>NaN</td>\n",
              "    </tr>\n",
              "    <tr>\n",
              "      <th>234441</th>\n",
              "      <td>ScenarioMIP</td>\n",
              "      <td>NOAA-GFDL</td>\n",
              "      <td>GFDL-CM4</td>\n",
              "      <td>ssp585</td>\n",
              "      <td>r1i1p1f1</td>\n",
              "      <td>Amon</td>\n",
              "      <td>ta</td>\n",
              "      <td>gr1</td>\n",
              "      <td>gs://cmip6/ScenarioMIP/NOAA-GFDL/GFDL-CM4/ssp5...</td>\n",
              "      <td>NaN</td>\n",
              "    </tr>\n",
              "    <tr>\n",
              "      <th>234442</th>\n",
              "      <td>ScenarioMIP</td>\n",
              "      <td>NOAA-GFDL</td>\n",
              "      <td>GFDL-CM4</td>\n",
              "      <td>ssp585</td>\n",
              "      <td>r1i1p1f1</td>\n",
              "      <td>Amon</td>\n",
              "      <td>tas</td>\n",
              "      <td>gr1</td>\n",
              "      <td>gs://cmip6/ScenarioMIP/NOAA-GFDL/GFDL-CM4/ssp5...</td>\n",
              "      <td>NaN</td>\n",
              "    </tr>\n",
              "    <tr>\n",
              "      <th>234443</th>\n",
              "      <td>ScenarioMIP</td>\n",
              "      <td>NOAA-GFDL</td>\n",
              "      <td>GFDL-CM4</td>\n",
              "      <td>ssp585</td>\n",
              "      <td>r1i1p1f1</td>\n",
              "      <td>Amon</td>\n",
              "      <td>tasmax</td>\n",
              "      <td>gr1</td>\n",
              "      <td>gs://cmip6/ScenarioMIP/NOAA-GFDL/GFDL-CM4/ssp5...</td>\n",
              "      <td>NaN</td>\n",
              "    </tr>\n",
              "    <tr>\n",
              "      <th>234444</th>\n",
              "      <td>ScenarioMIP</td>\n",
              "      <td>NOAA-GFDL</td>\n",
              "      <td>GFDL-CM4</td>\n",
              "      <td>ssp585</td>\n",
              "      <td>r1i1p1f1</td>\n",
              "      <td>Amon</td>\n",
              "      <td>tasmin</td>\n",
              "      <td>gr1</td>\n",
              "      <td>gs://cmip6/ScenarioMIP/NOAA-GFDL/GFDL-CM4/ssp5...</td>\n",
              "      <td>NaN</td>\n",
              "    </tr>\n",
              "    <tr>\n",
              "      <th>234445</th>\n",
              "      <td>ScenarioMIP</td>\n",
              "      <td>NOAA-GFDL</td>\n",
              "      <td>GFDL-CM4</td>\n",
              "      <td>ssp585</td>\n",
              "      <td>r1i1p1f1</td>\n",
              "      <td>Amon</td>\n",
              "      <td>tauu</td>\n",
              "      <td>gr1</td>\n",
              "      <td>gs://cmip6/ScenarioMIP/NOAA-GFDL/GFDL-CM4/ssp5...</td>\n",
              "      <td>NaN</td>\n",
              "    </tr>\n",
              "    <tr>\n",
              "      <th>234446</th>\n",
              "      <td>ScenarioMIP</td>\n",
              "      <td>NOAA-GFDL</td>\n",
              "      <td>GFDL-CM4</td>\n",
              "      <td>ssp585</td>\n",
              "      <td>r1i1p1f1</td>\n",
              "      <td>Amon</td>\n",
              "      <td>tauv</td>\n",
              "      <td>gr1</td>\n",
              "      <td>gs://cmip6/ScenarioMIP/NOAA-GFDL/GFDL-CM4/ssp5...</td>\n",
              "      <td>NaN</td>\n",
              "    </tr>\n",
              "    <tr>\n",
              "      <th>234447</th>\n",
              "      <td>ScenarioMIP</td>\n",
              "      <td>NOAA-GFDL</td>\n",
              "      <td>GFDL-CM4</td>\n",
              "      <td>ssp585</td>\n",
              "      <td>r1i1p1f1</td>\n",
              "      <td>Amon</td>\n",
              "      <td>ts</td>\n",
              "      <td>gr1</td>\n",
              "      <td>gs://cmip6/ScenarioMIP/NOAA-GFDL/GFDL-CM4/ssp5...</td>\n",
              "      <td>NaN</td>\n",
              "    </tr>\n",
              "    <tr>\n",
              "      <th>234448</th>\n",
              "      <td>ScenarioMIP</td>\n",
              "      <td>NOAA-GFDL</td>\n",
              "      <td>GFDL-CM4</td>\n",
              "      <td>ssp585</td>\n",
              "      <td>r1i1p1f1</td>\n",
              "      <td>Amon</td>\n",
              "      <td>ua</td>\n",
              "      <td>gr1</td>\n",
              "      <td>gs://cmip6/ScenarioMIP/NOAA-GFDL/GFDL-CM4/ssp5...</td>\n",
              "      <td>NaN</td>\n",
              "    </tr>\n",
              "    <tr>\n",
              "      <th>234449</th>\n",
              "      <td>ScenarioMIP</td>\n",
              "      <td>NOAA-GFDL</td>\n",
              "      <td>GFDL-CM4</td>\n",
              "      <td>ssp585</td>\n",
              "      <td>r1i1p1f1</td>\n",
              "      <td>Amon</td>\n",
              "      <td>uas</td>\n",
              "      <td>gr1</td>\n",
              "      <td>gs://cmip6/ScenarioMIP/NOAA-GFDL/GFDL-CM4/ssp5...</td>\n",
              "      <td>NaN</td>\n",
              "    </tr>\n",
              "    <tr>\n",
              "      <th>234450</th>\n",
              "      <td>ScenarioMIP</td>\n",
              "      <td>NOAA-GFDL</td>\n",
              "      <td>GFDL-CM4</td>\n",
              "      <td>ssp585</td>\n",
              "      <td>r1i1p1f1</td>\n",
              "      <td>Amon</td>\n",
              "      <td>va</td>\n",
              "      <td>gr1</td>\n",
              "      <td>gs://cmip6/ScenarioMIP/NOAA-GFDL/GFDL-CM4/ssp5...</td>\n",
              "      <td>NaN</td>\n",
              "    </tr>\n",
              "    <tr>\n",
              "      <th>234451</th>\n",
              "      <td>ScenarioMIP</td>\n",
              "      <td>NOAA-GFDL</td>\n",
              "      <td>GFDL-CM4</td>\n",
              "      <td>ssp585</td>\n",
              "      <td>r1i1p1f1</td>\n",
              "      <td>Amon</td>\n",
              "      <td>vas</td>\n",
              "      <td>gr1</td>\n",
              "      <td>gs://cmip6/ScenarioMIP/NOAA-GFDL/GFDL-CM4/ssp5...</td>\n",
              "      <td>NaN</td>\n",
              "    </tr>\n",
              "    <tr>\n",
              "      <th>234452</th>\n",
              "      <td>ScenarioMIP</td>\n",
              "      <td>NOAA-GFDL</td>\n",
              "      <td>GFDL-CM4</td>\n",
              "      <td>ssp585</td>\n",
              "      <td>r1i1p1f1</td>\n",
              "      <td>Amon</td>\n",
              "      <td>zg</td>\n",
              "      <td>gr1</td>\n",
              "      <td>gs://cmip6/ScenarioMIP/NOAA-GFDL/GFDL-CM4/ssp5...</td>\n",
              "      <td>NaN</td>\n",
              "    </tr>\n",
              "  </tbody>\n",
              "</table>\n",
              "</div>"
            ],
            "text/plain": [
              "        activity_id  ... dcpp_init_year\n",
              "234417  ScenarioMIP  ...            NaN\n",
              "234418  ScenarioMIP  ...            NaN\n",
              "234419  ScenarioMIP  ...            NaN\n",
              "234420  ScenarioMIP  ...            NaN\n",
              "234421  ScenarioMIP  ...            NaN\n",
              "234422  ScenarioMIP  ...            NaN\n",
              "234423  ScenarioMIP  ...            NaN\n",
              "234424  ScenarioMIP  ...            NaN\n",
              "234425  ScenarioMIP  ...            NaN\n",
              "234426  ScenarioMIP  ...            NaN\n",
              "234427  ScenarioMIP  ...            NaN\n",
              "234428  ScenarioMIP  ...            NaN\n",
              "234429  ScenarioMIP  ...            NaN\n",
              "234430  ScenarioMIP  ...            NaN\n",
              "234431  ScenarioMIP  ...            NaN\n",
              "234432  ScenarioMIP  ...            NaN\n",
              "234433  ScenarioMIP  ...            NaN\n",
              "234434  ScenarioMIP  ...            NaN\n",
              "234435  ScenarioMIP  ...            NaN\n",
              "234436  ScenarioMIP  ...            NaN\n",
              "234437  ScenarioMIP  ...            NaN\n",
              "234438  ScenarioMIP  ...            NaN\n",
              "234439  ScenarioMIP  ...            NaN\n",
              "234440  ScenarioMIP  ...            NaN\n",
              "234441  ScenarioMIP  ...            NaN\n",
              "234442  ScenarioMIP  ...            NaN\n",
              "234443  ScenarioMIP  ...            NaN\n",
              "234444  ScenarioMIP  ...            NaN\n",
              "234445  ScenarioMIP  ...            NaN\n",
              "234446  ScenarioMIP  ...            NaN\n",
              "234447  ScenarioMIP  ...            NaN\n",
              "234448  ScenarioMIP  ...            NaN\n",
              "234449  ScenarioMIP  ...            NaN\n",
              "234450  ScenarioMIP  ...            NaN\n",
              "234451  ScenarioMIP  ...            NaN\n",
              "234452  ScenarioMIP  ...            NaN\n",
              "\n",
              "[36 rows x 10 columns]"
            ]
          },
          "metadata": {
            "tags": []
          },
          "execution_count": 16
        }
      ]
    },
    {
      "cell_type": "markdown",
      "metadata": {
        "id": "UQddB7A4lFCk",
        "colab_type": "text"
      },
      "source": [
        "## Calculate and plot monthly temp"
      ]
    },
    {
      "cell_type": "code",
      "metadata": {
        "id": "iRjWY100D9l2",
        "colab_type": "code",
        "outputId": "ff1c9b50-2768-4b10-e139-3b018db58218",
        "colab": {
          "base_uri": "https://localhost:8080/",
          "height": 392
        }
      },
      "source": [
        "model = 'GFDL-ESM4'\n",
        "# here we filter the data to find monthly surface air temperature for historical experiments.\n",
        "df_ta_h = df.query(\"activity_id=='CMIP' & table_id == 'Amon' & variable_id == 'tas' & experiment_id == 'historical' & source_id == '%s'\"%(model))\n",
        "mapper = gcs.get_mapper(df_ta_h.zstore.values[0])\n",
        "ds_h = xr.open_zarr(mapper, consolidated=True)\n",
        "tas = ds_h.tas.values\n",
        "lat = ds_h.lat.values\n",
        "globalmeantas = globalmean(tas, lat)\n",
        "plt.plot(globalmeantas)"
      ],
      "execution_count": 0,
      "outputs": [
        {
          "output_type": "execute_result",
          "data": {
            "text/plain": [
              "[<matplotlib.lines.Line2D at 0x7f39895d8908>]"
            ]
          },
          "metadata": {
            "tags": []
          },
          "execution_count": 20
        },
        {
          "output_type": "display_data",
          "data": {
            "image/png": "[encoded data removed]",
            "text/plain": [
              "<Figure size 864x432 with 1 Axes>"
            ]
          },
          "metadata": {
            "tags": [],
            "image/png": {
              "width": 710,
              "height": 357
            }
          }
        }
      ]
    },
    {
      "cell_type": "markdown",
      "metadata": {
        "id": "kQFCDDU2oGXB",
        "colab_type": "text"
      },
      "source": [
        ""
      ]
    },
    {
      "cell_type": "markdown",
      "metadata": {
        "id": "NfBGqgiVbwAk",
        "colab_type": "text"
      },
      "source": [
        "# Streamlined pipeline for CMIP-6"
      ]
    },
    {
      "cell_type": "markdown",
      "metadata": {
        "id": "3G7aB5zMuBxt",
        "colab_type": "text"
      },
      "source": [
        "## Load array of available models that do different SSPs (experiment_id == ssp585/ssp245/ssp126), and for variable_id = tas (average surface temperature)\n",
        "#### For now, we only focus on variable_id = tas, and not ts\n",
        "\n",
        "##### Here, we are including only the models which work for global mean.For a detailed list of models which worked for different SSPs, refer to end of the notebook - Model Lists by variable_id 'ts', 'tas', and SSPs"
      ]
    },
    {
      "cell_type": "code",
      "metadata": {
        "id": "vy7CYNW1t4CB",
        "colab_type": "code",
        "colab": {}
      },
      "source": [
        "df = pd.read_csv('https://storage.googleapis.com/cmip6/cmip6-zarr-consolidated-stores.csv')\n",
        "\n",
        "# Example of filtering a specific SSP and variable_id = tas\n",
        "df_mod = df.query(\"activity_id=='ScenarioMIP' & table_id == 'Amon' & variable_id == 'tas' & experiment_id == 'ssp126'\") # variable_id = tas/ts; experiment_id == ssp585/ssp245/ssp126\n",
        "models = df_mod.source_id.unique()\n",
        "models = list(models)\n",
        "models"
      ],
      "execution_count": 0,
      "outputs": []
    },
    {
      "cell_type": "markdown",
      "metadata": {
        "id": "hlET0wHKvSOW",
        "colab_type": "text"
      },
      "source": [
        "## Only list of models that worked for tas and 3 SSPs (ssp126, 245, 585). We use this for the larger global mean temp calculation"
      ]
    },
    {
      "cell_type": "code",
      "metadata": {
        "id": "b9UHehButjQo",
        "colab_type": "code",
        "colab": {}
      },
      "source": [
        "models = ['BCC-CSM2-MR', 'CAMS-CSM1-0', 'FGOALS-g3', 'CanESM5-CanOE', 'CanESM5', 'CNRM-CM6-1', 'CNRM-ESM2-1', 'ACCESS-CM2', 'ACCESS-ESM1-5', \n",
        "          'MPI-ESM1-2-HR', 'EC-Earth3-Veg', 'FIO-ESM-2-0', 'IPSL-CM6A-LR', 'MIROC-ES2L', 'MIROC6', 'UKESM1-0-LL', 'MRI-ESM2-0', 'CESM2-WACCM', \n",
        "          'CESM2', 'KACE-1-0-G', 'GFDL-CM4', 'GFDL-ESM4']"
      ],
      "execution_count": 0,
      "outputs": []
    },
    {
      "cell_type": "markdown",
      "metadata": {
        "id": "ch0z7fL5Vdok",
        "colab_type": "text"
      },
      "source": [
        "## Loop though all models and make a big dataframe of all temperatures (global)"
      ]
    },
    {
      "cell_type": "markdown",
      "metadata": {
        "id": "GjHwjo6EJUsq",
        "colab_type": "text"
      },
      "source": [
        "numpy.arange([start, ]stop, [step, ]dtype=None)\n",
        "Return evenly spaced values within a given interval.\n",
        "\n",
        "Values are generated within the half-open interval [start, stop) (in other words, the interval including start but excluding stop). For integer arguments the function is equivalent to the Python built-in range function, but returns an ndarray rather than a list.\n",
        "\n",
        "When using a non-integer step, such as 0.1, the results will often not be consistent. It is better to use numpy.linspace for these cases.\n",
        "\n",
        "\n",
        "\n",
        "numpy.zeros(shape, dtype=float, order='C')\n",
        "Return a new array of given shape and type, filled with zeros."
      ]
    },
    {
      "cell_type": "code",
      "metadata": {
        "id": "xjMkTt7NbvhI",
        "colab_type": "code",
        "outputId": "685e8902-1fc5-4ffa-e27e-6324cefb8136",
        "colab": {
          "base_uri": "https://localhost:8080/",
          "height": 217
        }
      },
      "source": [
        "allT = pd.DataFrame({'model': [], 'ssp': [], 'year': [], 'mean_tas': []})\n",
        "years = np.arange(1850,2100,1).astype(int)\n",
        "models = ['BCC-CSM2-MR', 'CAMS-CSM1-0', 'FGOALS-g3', 'CanESM5-CanOE', 'CanESM5', 'CNRM-CM6-1', 'CNRM-ESM2-1', 'ACCESS-CM2', 'ACCESS-ESM1-5', \n",
        "          'MPI-ESM1-2-HR', 'EC-Earth3-Veg', 'FIO-ESM-2-0', 'IPSL-CM6A-LR', 'MIROC-ES2L', 'MIROC6', 'UKESM1-0-LL', 'MRI-ESM2-0', 'CESM2-WACCM', \n",
        "          'CESM2', 'KACE-1-0-G', 'GFDL-CM4', 'GFDL-ESM4']\n",
        "\n",
        "df = pd.read_csv('https://storage.googleapis.com/cmip6/cmip6-zarr-consolidated-stores.csv')\n",
        "for model in models:\n",
        "    print(model)\n",
        "    \n",
        "    # get area of the grids\n",
        "    #df_area = df.query(\"variable_id == 'areacella' & source_id == '%s'\"%(model))\n",
        "    #ds_area = xr.open_zarr(gcs.get_mapper(df_area.zstore.values[0]), consolidated=True)\n",
        "\n",
        "    # here we filter the data to find monthly surface air temperature for historical experiments.\n",
        "    df_ta_h = df.query(\"activity_id=='CMIP' & table_id == 'Amon' & variable_id == 'tas' & experiment_id == 'historical' & source_id == '%s'\"%(model))\n",
        "    mapper = gcs.get_mapper(df_ta_h.zstore.values[0])\n",
        "    ds_h = xr.open_zarr(mapper, consolidated=True)\n",
        "\n",
        "    # calculate global mean\n",
        "    #total_area = ds_area.areacella.sum(dim=['lon', 'lat'])\n",
        "    tas = ds_h.tas.values\n",
        "    lat = ds_h.lat.values\n",
        "    #ta_timeseries = (ds_h.tas * ds_area.areacella).sum(dim=['lon', 'lat']) / total_area # globalmean(tas, lat)\n",
        "    ta_timeseries = globalmean(tas, lat)\n",
        "\n",
        "    # calculate yearly averages and write to numpy array\n",
        "    #ta_hist = ta_timeseries.values\n",
        "    ta_h = np.zeros(165)\n",
        "    #for i in range(165): ta_h[i] = ta_hist[(i*12):(i*12)+12].mean()\n",
        "    for i in range(165): ta_h[i] = ta_timeseries[(i*12):(i*12)+12].mean() \n",
        "    \n",
        "    # loop through all ssps (RCPs) for each available model\n",
        "    df_ssp = df.query(\"activity_id=='ScenarioMIP' & table_id == 'Amon' & variable_id == 'tas' & source_id == '%s'\"%(model))\n",
        "    ssps = df_ssp.experiment_id.unique()\n",
        "    for ssp in ssps:\n",
        "        df_fut = df.query(\"activity_id=='ScenarioMIP' & table_id == 'Amon' & variable_id == 'tas' & experiment_id == '%s' & source_id == '%s'\"%(ssp, model))\n",
        "        mapper = gcs.get_mapper(df_fut.zstore.values[0])\n",
        "        ds_fut = xr.open_zarr(mapper, consolidated=True)\n",
        "\n",
        "        # calculate global mean\n",
        "        #ta_timeseries = (ds_fut.tas * ds_area.areacella).sum(dim=['lon', 'lat']) / total_area\n",
        "        ta_timeseries = globalmean(tas, lat)\n",
        "\n",
        "        # calculate yearly averages and write to numpy array\n",
        "        ta_fut = ta_timeseries\n",
        "        ta_f = np.zeros(85)\n",
        "        for i in range(85): ta_f[i] = ta_fut[(i*12):(i*12)+12].mean() \n",
        "\n",
        "        ta = np.concatenate((ta_h, ta_f))\n",
        "        dftemp = pd.DataFrame({'model': model, 'ssp': ssp, 'year': years, 'mean_tas': ta})\n",
        "        allT = pd.concat((allT,dftemp))\n",
        "\n",
        "allT.to_csv('/content/drive/Shared drives/GEOS39650/climate_emulator/data/12_CMIP6_models_global_mean_TAS.csv', sep=',', index=False)"
      ],
      "execution_count": 0,
      "outputs": [
        {
          "output_type": "stream",
          "text": [
            "CESM2\n",
            "CESM2-WACCM\n",
            "CNRM-CM6-1\n",
            "CNRM-ESM2-1\n",
            "CanESM5\n",
            "GFDL-CM4\n",
            "GFDL-ESM4\n",
            "IPSL-CM6A-LR\n",
            "MIROC-ES2L\n",
            "MIROC6\n",
            "MPI-ESM1-2-HR\n",
            "MRI-ESM2-0\n"
          ],
          "name": "stdout"
        }
      ]
    },
    {
      "cell_type": "markdown",
      "metadata": {
        "id": "7_T8okms53Sf",
        "colab_type": "text"
      },
      "source": [
        "# GRID LEVEL DATA"
      ]
    },
    {
      "cell_type": "code",
      "metadata": {
        "id": "s-3B7iCY52Zn",
        "colab_type": "code",
        "outputId": "bc2447fc-46af-4df7-9c62-15d73e099a58",
        "colab": {
          "base_uri": "https://localhost:8080/",
          "height": 1000
        }
      },
      "source": [
        "# Explore model = CanESM5, and SSP585\n",
        "model = 'CanESM5'\n",
        "df = pd.read_csv('https://storage.googleapis.com/cmip6/cmip6-zarr-consolidated-stores.csv')\n",
        "df_ta_h = df.query(\"activity_id=='ScenarioMIP' & table_id == 'Amon' & variable_id == 'tas' & experiment_id == 'ssp585' & source_id == '%s'\"%(model))\n",
        "df_ta_h"
      ],
      "execution_count": 0,
      "outputs": [
        {
          "output_type": "execute_result",
          "data": {
            "text/html": [
              "<div>\n",
              "<style scoped>\n",
              "    .dataframe tbody tr th:only-of-type {\n",
              "        vertical-align: middle;\n",
              "    }\n",
              "\n",
              "    .dataframe tbody tr th {\n",
              "        vertical-align: top;\n",
              "    }\n",
              "\n",
              "    .dataframe thead th {\n",
              "        text-align: right;\n",
              "    }\n",
              "</style>\n",
              "<table border=\"1\" class=\"dataframe\">\n",
              "  <thead>\n",
              "    <tr style=\"text-align: right;\">\n",
              "      <th></th>\n",
              "      <th>activity_id</th>\n",
              "      <th>institution_id</th>\n",
              "      <th>source_id</th>\n",
              "      <th>experiment_id</th>\n",
              "      <th>member_id</th>\n",
              "      <th>table_id</th>\n",
              "      <th>variable_id</th>\n",
              "      <th>grid_label</th>\n",
              "      <th>zstore</th>\n",
              "      <th>dcpp_init_year</th>\n",
              "    </tr>\n",
              "  </thead>\n",
              "  <tbody>\n",
              "    <tr>\n",
              "      <th>215534</th>\n",
              "      <td>ScenarioMIP</td>\n",
              "      <td>CCCma</td>\n",
              "      <td>CanESM5</td>\n",
              "      <td>ssp585</td>\n",
              "      <td>r10i1p1f1</td>\n",
              "      <td>Amon</td>\n",
              "      <td>tas</td>\n",
              "      <td>gn</td>\n",
              "      <td>gs://cmip6/ScenarioMIP/CCCma/CanESM5/ssp585/r1...</td>\n",
              "      <td>NaN</td>\n",
              "    </tr>\n",
              "    <tr>\n",
              "      <th>215654</th>\n",
              "      <td>ScenarioMIP</td>\n",
              "      <td>CCCma</td>\n",
              "      <td>CanESM5</td>\n",
              "      <td>ssp585</td>\n",
              "      <td>r10i1p2f1</td>\n",
              "      <td>Amon</td>\n",
              "      <td>tas</td>\n",
              "      <td>gn</td>\n",
              "      <td>gs://cmip6/ScenarioMIP/CCCma/CanESM5/ssp585/r1...</td>\n",
              "      <td>NaN</td>\n",
              "    </tr>\n",
              "    <tr>\n",
              "      <th>215750</th>\n",
              "      <td>ScenarioMIP</td>\n",
              "      <td>CCCma</td>\n",
              "      <td>CanESM5</td>\n",
              "      <td>ssp585</td>\n",
              "      <td>r11i1p1f1</td>\n",
              "      <td>Amon</td>\n",
              "      <td>tas</td>\n",
              "      <td>gn</td>\n",
              "      <td>gs://cmip6/ScenarioMIP/CCCma/CanESM5/ssp585/r1...</td>\n",
              "      <td>NaN</td>\n",
              "    </tr>\n",
              "    <tr>\n",
              "      <th>215808</th>\n",
              "      <td>ScenarioMIP</td>\n",
              "      <td>CCCma</td>\n",
              "      <td>CanESM5</td>\n",
              "      <td>ssp585</td>\n",
              "      <td>r11i1p2f1</td>\n",
              "      <td>Amon</td>\n",
              "      <td>tas</td>\n",
              "      <td>gn</td>\n",
              "      <td>gs://cmip6/ScenarioMIP/CCCma/CanESM5/ssp585/r1...</td>\n",
              "      <td>NaN</td>\n",
              "    </tr>\n",
              "    <tr>\n",
              "      <th>215867</th>\n",
              "      <td>ScenarioMIP</td>\n",
              "      <td>CCCma</td>\n",
              "      <td>CanESM5</td>\n",
              "      <td>ssp585</td>\n",
              "      <td>r12i1p1f1</td>\n",
              "      <td>Amon</td>\n",
              "      <td>tas</td>\n",
              "      <td>gn</td>\n",
              "      <td>gs://cmip6/ScenarioMIP/CCCma/CanESM5/ssp585/r1...</td>\n",
              "      <td>NaN</td>\n",
              "    </tr>\n",
              "    <tr>\n",
              "      <th>215925</th>\n",
              "      <td>ScenarioMIP</td>\n",
              "      <td>CCCma</td>\n",
              "      <td>CanESM5</td>\n",
              "      <td>ssp585</td>\n",
              "      <td>r12i1p2f1</td>\n",
              "      <td>Amon</td>\n",
              "      <td>tas</td>\n",
              "      <td>gn</td>\n",
              "      <td>gs://cmip6/ScenarioMIP/CCCma/CanESM5/ssp585/r1...</td>\n",
              "      <td>NaN</td>\n",
              "    </tr>\n",
              "    <tr>\n",
              "      <th>215984</th>\n",
              "      <td>ScenarioMIP</td>\n",
              "      <td>CCCma</td>\n",
              "      <td>CanESM5</td>\n",
              "      <td>ssp585</td>\n",
              "      <td>r13i1p1f1</td>\n",
              "      <td>Amon</td>\n",
              "      <td>tas</td>\n",
              "      <td>gn</td>\n",
              "      <td>gs://cmip6/ScenarioMIP/CCCma/CanESM5/ssp585/r1...</td>\n",
              "      <td>NaN</td>\n",
              "    </tr>\n",
              "    <tr>\n",
              "      <th>216042</th>\n",
              "      <td>ScenarioMIP</td>\n",
              "      <td>CCCma</td>\n",
              "      <td>CanESM5</td>\n",
              "      <td>ssp585</td>\n",
              "      <td>r13i1p2f1</td>\n",
              "      <td>Amon</td>\n",
              "      <td>tas</td>\n",
              "      <td>gn</td>\n",
              "      <td>gs://cmip6/ScenarioMIP/CCCma/CanESM5/ssp585/r1...</td>\n",
              "      <td>NaN</td>\n",
              "    </tr>\n",
              "    <tr>\n",
              "      <th>216101</th>\n",
              "      <td>ScenarioMIP</td>\n",
              "      <td>CCCma</td>\n",
              "      <td>CanESM5</td>\n",
              "      <td>ssp585</td>\n",
              "      <td>r14i1p1f1</td>\n",
              "      <td>Amon</td>\n",
              "      <td>tas</td>\n",
              "      <td>gn</td>\n",
              "      <td>gs://cmip6/ScenarioMIP/CCCma/CanESM5/ssp585/r1...</td>\n",
              "      <td>NaN</td>\n",
              "    </tr>\n",
              "    <tr>\n",
              "      <th>216159</th>\n",
              "      <td>ScenarioMIP</td>\n",
              "      <td>CCCma</td>\n",
              "      <td>CanESM5</td>\n",
              "      <td>ssp585</td>\n",
              "      <td>r14i1p2f1</td>\n",
              "      <td>Amon</td>\n",
              "      <td>tas</td>\n",
              "      <td>gn</td>\n",
              "      <td>gs://cmip6/ScenarioMIP/CCCma/CanESM5/ssp585/r1...</td>\n",
              "      <td>NaN</td>\n",
              "    </tr>\n",
              "    <tr>\n",
              "      <th>216218</th>\n",
              "      <td>ScenarioMIP</td>\n",
              "      <td>CCCma</td>\n",
              "      <td>CanESM5</td>\n",
              "      <td>ssp585</td>\n",
              "      <td>r15i1p1f1</td>\n",
              "      <td>Amon</td>\n",
              "      <td>tas</td>\n",
              "      <td>gn</td>\n",
              "      <td>gs://cmip6/ScenarioMIP/CCCma/CanESM5/ssp585/r1...</td>\n",
              "      <td>NaN</td>\n",
              "    </tr>\n",
              "    <tr>\n",
              "      <th>216276</th>\n",
              "      <td>ScenarioMIP</td>\n",
              "      <td>CCCma</td>\n",
              "      <td>CanESM5</td>\n",
              "      <td>ssp585</td>\n",
              "      <td>r15i1p2f1</td>\n",
              "      <td>Amon</td>\n",
              "      <td>tas</td>\n",
              "      <td>gn</td>\n",
              "      <td>gs://cmip6/ScenarioMIP/CCCma/CanESM5/ssp585/r1...</td>\n",
              "      <td>NaN</td>\n",
              "    </tr>\n",
              "    <tr>\n",
              "      <th>216335</th>\n",
              "      <td>ScenarioMIP</td>\n",
              "      <td>CCCma</td>\n",
              "      <td>CanESM5</td>\n",
              "      <td>ssp585</td>\n",
              "      <td>r16i1p1f1</td>\n",
              "      <td>Amon</td>\n",
              "      <td>tas</td>\n",
              "      <td>gn</td>\n",
              "      <td>gs://cmip6/ScenarioMIP/CCCma/CanESM5/ssp585/r1...</td>\n",
              "      <td>NaN</td>\n",
              "    </tr>\n",
              "    <tr>\n",
              "      <th>216393</th>\n",
              "      <td>ScenarioMIP</td>\n",
              "      <td>CCCma</td>\n",
              "      <td>CanESM5</td>\n",
              "      <td>ssp585</td>\n",
              "      <td>r16i1p2f1</td>\n",
              "      <td>Amon</td>\n",
              "      <td>tas</td>\n",
              "      <td>gn</td>\n",
              "      <td>gs://cmip6/ScenarioMIP/CCCma/CanESM5/ssp585/r1...</td>\n",
              "      <td>NaN</td>\n",
              "    </tr>\n",
              "    <tr>\n",
              "      <th>216452</th>\n",
              "      <td>ScenarioMIP</td>\n",
              "      <td>CCCma</td>\n",
              "      <td>CanESM5</td>\n",
              "      <td>ssp585</td>\n",
              "      <td>r17i1p1f1</td>\n",
              "      <td>Amon</td>\n",
              "      <td>tas</td>\n",
              "      <td>gn</td>\n",
              "      <td>gs://cmip6/ScenarioMIP/CCCma/CanESM5/ssp585/r1...</td>\n",
              "      <td>NaN</td>\n",
              "    </tr>\n",
              "    <tr>\n",
              "      <th>216510</th>\n",
              "      <td>ScenarioMIP</td>\n",
              "      <td>CCCma</td>\n",
              "      <td>CanESM5</td>\n",
              "      <td>ssp585</td>\n",
              "      <td>r17i1p2f1</td>\n",
              "      <td>Amon</td>\n",
              "      <td>tas</td>\n",
              "      <td>gn</td>\n",
              "      <td>gs://cmip6/ScenarioMIP/CCCma/CanESM5/ssp585/r1...</td>\n",
              "      <td>NaN</td>\n",
              "    </tr>\n",
              "    <tr>\n",
              "      <th>216569</th>\n",
              "      <td>ScenarioMIP</td>\n",
              "      <td>CCCma</td>\n",
              "      <td>CanESM5</td>\n",
              "      <td>ssp585</td>\n",
              "      <td>r18i1p1f1</td>\n",
              "      <td>Amon</td>\n",
              "      <td>tas</td>\n",
              "      <td>gn</td>\n",
              "      <td>gs://cmip6/ScenarioMIP/CCCma/CanESM5/ssp585/r1...</td>\n",
              "      <td>NaN</td>\n",
              "    </tr>\n",
              "    <tr>\n",
              "      <th>216627</th>\n",
              "      <td>ScenarioMIP</td>\n",
              "      <td>CCCma</td>\n",
              "      <td>CanESM5</td>\n",
              "      <td>ssp585</td>\n",
              "      <td>r18i1p2f1</td>\n",
              "      <td>Amon</td>\n",
              "      <td>tas</td>\n",
              "      <td>gn</td>\n",
              "      <td>gs://cmip6/ScenarioMIP/CCCma/CanESM5/ssp585/r1...</td>\n",
              "      <td>NaN</td>\n",
              "    </tr>\n",
              "    <tr>\n",
              "      <th>216686</th>\n",
              "      <td>ScenarioMIP</td>\n",
              "      <td>CCCma</td>\n",
              "      <td>CanESM5</td>\n",
              "      <td>ssp585</td>\n",
              "      <td>r19i1p1f1</td>\n",
              "      <td>Amon</td>\n",
              "      <td>tas</td>\n",
              "      <td>gn</td>\n",
              "      <td>gs://cmip6/ScenarioMIP/CCCma/CanESM5/ssp585/r1...</td>\n",
              "      <td>NaN</td>\n",
              "    </tr>\n",
              "    <tr>\n",
              "      <th>216744</th>\n",
              "      <td>ScenarioMIP</td>\n",
              "      <td>CCCma</td>\n",
              "      <td>CanESM5</td>\n",
              "      <td>ssp585</td>\n",
              "      <td>r19i1p2f1</td>\n",
              "      <td>Amon</td>\n",
              "      <td>tas</td>\n",
              "      <td>gn</td>\n",
              "      <td>gs://cmip6/ScenarioMIP/CCCma/CanESM5/ssp585/r1...</td>\n",
              "      <td>NaN</td>\n",
              "    </tr>\n",
              "    <tr>\n",
              "      <th>216803</th>\n",
              "      <td>ScenarioMIP</td>\n",
              "      <td>CCCma</td>\n",
              "      <td>CanESM5</td>\n",
              "      <td>ssp585</td>\n",
              "      <td>r1i1p1f1</td>\n",
              "      <td>Amon</td>\n",
              "      <td>tas</td>\n",
              "      <td>gn</td>\n",
              "      <td>gs://cmip6/ScenarioMIP/CCCma/CanESM5/ssp585/r1...</td>\n",
              "      <td>NaN</td>\n",
              "    </tr>\n",
              "    <tr>\n",
              "      <th>216926</th>\n",
              "      <td>ScenarioMIP</td>\n",
              "      <td>CCCma</td>\n",
              "      <td>CanESM5</td>\n",
              "      <td>ssp585</td>\n",
              "      <td>r1i1p2f1</td>\n",
              "      <td>Amon</td>\n",
              "      <td>tas</td>\n",
              "      <td>gn</td>\n",
              "      <td>gs://cmip6/ScenarioMIP/CCCma/CanESM5/ssp585/r1...</td>\n",
              "      <td>NaN</td>\n",
              "    </tr>\n",
              "    <tr>\n",
              "      <th>217053</th>\n",
              "      <td>ScenarioMIP</td>\n",
              "      <td>CCCma</td>\n",
              "      <td>CanESM5</td>\n",
              "      <td>ssp585</td>\n",
              "      <td>r20i1p1f1</td>\n",
              "      <td>Amon</td>\n",
              "      <td>tas</td>\n",
              "      <td>gn</td>\n",
              "      <td>gs://cmip6/ScenarioMIP/CCCma/CanESM5/ssp585/r2...</td>\n",
              "      <td>NaN</td>\n",
              "    </tr>\n",
              "    <tr>\n",
              "      <th>217111</th>\n",
              "      <td>ScenarioMIP</td>\n",
              "      <td>CCCma</td>\n",
              "      <td>CanESM5</td>\n",
              "      <td>ssp585</td>\n",
              "      <td>r20i1p2f1</td>\n",
              "      <td>Amon</td>\n",
              "      <td>tas</td>\n",
              "      <td>gn</td>\n",
              "      <td>gs://cmip6/ScenarioMIP/CCCma/CanESM5/ssp585/r2...</td>\n",
              "      <td>NaN</td>\n",
              "    </tr>\n",
              "    <tr>\n",
              "      <th>217170</th>\n",
              "      <td>ScenarioMIP</td>\n",
              "      <td>CCCma</td>\n",
              "      <td>CanESM5</td>\n",
              "      <td>ssp585</td>\n",
              "      <td>r21i1p1f1</td>\n",
              "      <td>Amon</td>\n",
              "      <td>tas</td>\n",
              "      <td>gn</td>\n",
              "      <td>gs://cmip6/ScenarioMIP/CCCma/CanESM5/ssp585/r2...</td>\n",
              "      <td>NaN</td>\n",
              "    </tr>\n",
              "    <tr>\n",
              "      <th>217228</th>\n",
              "      <td>ScenarioMIP</td>\n",
              "      <td>CCCma</td>\n",
              "      <td>CanESM5</td>\n",
              "      <td>ssp585</td>\n",
              "      <td>r21i1p2f1</td>\n",
              "      <td>Amon</td>\n",
              "      <td>tas</td>\n",
              "      <td>gn</td>\n",
              "      <td>gs://cmip6/ScenarioMIP/CCCma/CanESM5/ssp585/r2...</td>\n",
              "      <td>NaN</td>\n",
              "    </tr>\n",
              "    <tr>\n",
              "      <th>217287</th>\n",
              "      <td>ScenarioMIP</td>\n",
              "      <td>CCCma</td>\n",
              "      <td>CanESM5</td>\n",
              "      <td>ssp585</td>\n",
              "      <td>r22i1p1f1</td>\n",
              "      <td>Amon</td>\n",
              "      <td>tas</td>\n",
              "      <td>gn</td>\n",
              "      <td>gs://cmip6/ScenarioMIP/CCCma/CanESM5/ssp585/r2...</td>\n",
              "      <td>NaN</td>\n",
              "    </tr>\n",
              "    <tr>\n",
              "      <th>217345</th>\n",
              "      <td>ScenarioMIP</td>\n",
              "      <td>CCCma</td>\n",
              "      <td>CanESM5</td>\n",
              "      <td>ssp585</td>\n",
              "      <td>r22i1p2f1</td>\n",
              "      <td>Amon</td>\n",
              "      <td>tas</td>\n",
              "      <td>gn</td>\n",
              "      <td>gs://cmip6/ScenarioMIP/CCCma/CanESM5/ssp585/r2...</td>\n",
              "      <td>NaN</td>\n",
              "    </tr>\n",
              "    <tr>\n",
              "      <th>217404</th>\n",
              "      <td>ScenarioMIP</td>\n",
              "      <td>CCCma</td>\n",
              "      <td>CanESM5</td>\n",
              "      <td>ssp585</td>\n",
              "      <td>r23i1p1f1</td>\n",
              "      <td>Amon</td>\n",
              "      <td>tas</td>\n",
              "      <td>gn</td>\n",
              "      <td>gs://cmip6/ScenarioMIP/CCCma/CanESM5/ssp585/r2...</td>\n",
              "      <td>NaN</td>\n",
              "    </tr>\n",
              "    <tr>\n",
              "      <th>217462</th>\n",
              "      <td>ScenarioMIP</td>\n",
              "      <td>CCCma</td>\n",
              "      <td>CanESM5</td>\n",
              "      <td>ssp585</td>\n",
              "      <td>r23i1p2f1</td>\n",
              "      <td>Amon</td>\n",
              "      <td>tas</td>\n",
              "      <td>gn</td>\n",
              "      <td>gs://cmip6/ScenarioMIP/CCCma/CanESM5/ssp585/r2...</td>\n",
              "      <td>NaN</td>\n",
              "    </tr>\n",
              "    <tr>\n",
              "      <th>217521</th>\n",
              "      <td>ScenarioMIP</td>\n",
              "      <td>CCCma</td>\n",
              "      <td>CanESM5</td>\n",
              "      <td>ssp585</td>\n",
              "      <td>r24i1p1f1</td>\n",
              "      <td>Amon</td>\n",
              "      <td>tas</td>\n",
              "      <td>gn</td>\n",
              "      <td>gs://cmip6/ScenarioMIP/CCCma/CanESM5/ssp585/r2...</td>\n",
              "      <td>NaN</td>\n",
              "    </tr>\n",
              "    <tr>\n",
              "      <th>217579</th>\n",
              "      <td>ScenarioMIP</td>\n",
              "      <td>CCCma</td>\n",
              "      <td>CanESM5</td>\n",
              "      <td>ssp585</td>\n",
              "      <td>r24i1p2f1</td>\n",
              "      <td>Amon</td>\n",
              "      <td>tas</td>\n",
              "      <td>gn</td>\n",
              "      <td>gs://cmip6/ScenarioMIP/CCCma/CanESM5/ssp585/r2...</td>\n",
              "      <td>NaN</td>\n",
              "    </tr>\n",
              "    <tr>\n",
              "      <th>217638</th>\n",
              "      <td>ScenarioMIP</td>\n",
              "      <td>CCCma</td>\n",
              "      <td>CanESM5</td>\n",
              "      <td>ssp585</td>\n",
              "      <td>r25i1p1f1</td>\n",
              "      <td>Amon</td>\n",
              "      <td>tas</td>\n",
              "      <td>gn</td>\n",
              "      <td>gs://cmip6/ScenarioMIP/CCCma/CanESM5/ssp585/r2...</td>\n",
              "      <td>NaN</td>\n",
              "    </tr>\n",
              "    <tr>\n",
              "      <th>217696</th>\n",
              "      <td>ScenarioMIP</td>\n",
              "      <td>CCCma</td>\n",
              "      <td>CanESM5</td>\n",
              "      <td>ssp585</td>\n",
              "      <td>r25i1p2f1</td>\n",
              "      <td>Amon</td>\n",
              "      <td>tas</td>\n",
              "      <td>gn</td>\n",
              "      <td>gs://cmip6/ScenarioMIP/CCCma/CanESM5/ssp585/r2...</td>\n",
              "      <td>NaN</td>\n",
              "    </tr>\n",
              "    <tr>\n",
              "      <th>217755</th>\n",
              "      <td>ScenarioMIP</td>\n",
              "      <td>CCCma</td>\n",
              "      <td>CanESM5</td>\n",
              "      <td>ssp585</td>\n",
              "      <td>r2i1p1f1</td>\n",
              "      <td>Amon</td>\n",
              "      <td>tas</td>\n",
              "      <td>gn</td>\n",
              "      <td>gs://cmip6/ScenarioMIP/CCCma/CanESM5/ssp585/r2...</td>\n",
              "      <td>NaN</td>\n",
              "    </tr>\n",
              "    <tr>\n",
              "      <th>217876</th>\n",
              "      <td>ScenarioMIP</td>\n",
              "      <td>CCCma</td>\n",
              "      <td>CanESM5</td>\n",
              "      <td>ssp585</td>\n",
              "      <td>r2i1p2f1</td>\n",
              "      <td>Amon</td>\n",
              "      <td>tas</td>\n",
              "      <td>gn</td>\n",
              "      <td>gs://cmip6/ScenarioMIP/CCCma/CanESM5/ssp585/r2...</td>\n",
              "      <td>NaN</td>\n",
              "    </tr>\n",
              "    <tr>\n",
              "      <th>218003</th>\n",
              "      <td>ScenarioMIP</td>\n",
              "      <td>CCCma</td>\n",
              "      <td>CanESM5</td>\n",
              "      <td>ssp585</td>\n",
              "      <td>r3i1p1f1</td>\n",
              "      <td>Amon</td>\n",
              "      <td>tas</td>\n",
              "      <td>gn</td>\n",
              "      <td>gs://cmip6/ScenarioMIP/CCCma/CanESM5/ssp585/r3...</td>\n",
              "      <td>NaN</td>\n",
              "    </tr>\n",
              "    <tr>\n",
              "      <th>218123</th>\n",
              "      <td>ScenarioMIP</td>\n",
              "      <td>CCCma</td>\n",
              "      <td>CanESM5</td>\n",
              "      <td>ssp585</td>\n",
              "      <td>r3i1p2f1</td>\n",
              "      <td>Amon</td>\n",
              "      <td>tas</td>\n",
              "      <td>gn</td>\n",
              "      <td>gs://cmip6/ScenarioMIP/CCCma/CanESM5/ssp585/r3...</td>\n",
              "      <td>NaN</td>\n",
              "    </tr>\n",
              "    <tr>\n",
              "      <th>218250</th>\n",
              "      <td>ScenarioMIP</td>\n",
              "      <td>CCCma</td>\n",
              "      <td>CanESM5</td>\n",
              "      <td>ssp585</td>\n",
              "      <td>r4i1p1f1</td>\n",
              "      <td>Amon</td>\n",
              "      <td>tas</td>\n",
              "      <td>gn</td>\n",
              "      <td>gs://cmip6/ScenarioMIP/CCCma/CanESM5/ssp585/r4...</td>\n",
              "      <td>NaN</td>\n",
              "    </tr>\n",
              "    <tr>\n",
              "      <th>218371</th>\n",
              "      <td>ScenarioMIP</td>\n",
              "      <td>CCCma</td>\n",
              "      <td>CanESM5</td>\n",
              "      <td>ssp585</td>\n",
              "      <td>r4i1p2f1</td>\n",
              "      <td>Amon</td>\n",
              "      <td>tas</td>\n",
              "      <td>gn</td>\n",
              "      <td>gs://cmip6/ScenarioMIP/CCCma/CanESM5/ssp585/r4...</td>\n",
              "      <td>NaN</td>\n",
              "    </tr>\n",
              "    <tr>\n",
              "      <th>218499</th>\n",
              "      <td>ScenarioMIP</td>\n",
              "      <td>CCCma</td>\n",
              "      <td>CanESM5</td>\n",
              "      <td>ssp585</td>\n",
              "      <td>r5i1p1f1</td>\n",
              "      <td>Amon</td>\n",
              "      <td>tas</td>\n",
              "      <td>gn</td>\n",
              "      <td>gs://cmip6/ScenarioMIP/CCCma/CanESM5/ssp585/r5...</td>\n",
              "      <td>NaN</td>\n",
              "    </tr>\n",
              "    <tr>\n",
              "      <th>218619</th>\n",
              "      <td>ScenarioMIP</td>\n",
              "      <td>CCCma</td>\n",
              "      <td>CanESM5</td>\n",
              "      <td>ssp585</td>\n",
              "      <td>r5i1p2f1</td>\n",
              "      <td>Amon</td>\n",
              "      <td>tas</td>\n",
              "      <td>gn</td>\n",
              "      <td>gs://cmip6/ScenarioMIP/CCCma/CanESM5/ssp585/r5...</td>\n",
              "      <td>NaN</td>\n",
              "    </tr>\n",
              "    <tr>\n",
              "      <th>218747</th>\n",
              "      <td>ScenarioMIP</td>\n",
              "      <td>CCCma</td>\n",
              "      <td>CanESM5</td>\n",
              "      <td>ssp585</td>\n",
              "      <td>r6i1p1f1</td>\n",
              "      <td>Amon</td>\n",
              "      <td>tas</td>\n",
              "      <td>gn</td>\n",
              "      <td>gs://cmip6/ScenarioMIP/CCCma/CanESM5/ssp585/r6...</td>\n",
              "      <td>NaN</td>\n",
              "    </tr>\n",
              "    <tr>\n",
              "      <th>218859</th>\n",
              "      <td>ScenarioMIP</td>\n",
              "      <td>CCCma</td>\n",
              "      <td>CanESM5</td>\n",
              "      <td>ssp585</td>\n",
              "      <td>r6i1p2f1</td>\n",
              "      <td>Amon</td>\n",
              "      <td>tas</td>\n",
              "      <td>gn</td>\n",
              "      <td>gs://cmip6/ScenarioMIP/CCCma/CanESM5/ssp585/r6...</td>\n",
              "      <td>NaN</td>\n",
              "    </tr>\n",
              "    <tr>\n",
              "      <th>218969</th>\n",
              "      <td>ScenarioMIP</td>\n",
              "      <td>CCCma</td>\n",
              "      <td>CanESM5</td>\n",
              "      <td>ssp585</td>\n",
              "      <td>r7i1p1f1</td>\n",
              "      <td>Amon</td>\n",
              "      <td>tas</td>\n",
              "      <td>gn</td>\n",
              "      <td>gs://cmip6/ScenarioMIP/CCCma/CanESM5/ssp585/r7...</td>\n",
              "      <td>NaN</td>\n",
              "    </tr>\n",
              "    <tr>\n",
              "      <th>219073</th>\n",
              "      <td>ScenarioMIP</td>\n",
              "      <td>CCCma</td>\n",
              "      <td>CanESM5</td>\n",
              "      <td>ssp585</td>\n",
              "      <td>r7i1p2f1</td>\n",
              "      <td>Amon</td>\n",
              "      <td>tas</td>\n",
              "      <td>gn</td>\n",
              "      <td>gs://cmip6/ScenarioMIP/CCCma/CanESM5/ssp585/r7...</td>\n",
              "      <td>NaN</td>\n",
              "    </tr>\n",
              "    <tr>\n",
              "      <th>219169</th>\n",
              "      <td>ScenarioMIP</td>\n",
              "      <td>CCCma</td>\n",
              "      <td>CanESM5</td>\n",
              "      <td>ssp585</td>\n",
              "      <td>r8i1p1f1</td>\n",
              "      <td>Amon</td>\n",
              "      <td>tas</td>\n",
              "      <td>gn</td>\n",
              "      <td>gs://cmip6/ScenarioMIP/CCCma/CanESM5/ssp585/r8...</td>\n",
              "      <td>NaN</td>\n",
              "    </tr>\n",
              "    <tr>\n",
              "      <th>219273</th>\n",
              "      <td>ScenarioMIP</td>\n",
              "      <td>CCCma</td>\n",
              "      <td>CanESM5</td>\n",
              "      <td>ssp585</td>\n",
              "      <td>r8i1p2f1</td>\n",
              "      <td>Amon</td>\n",
              "      <td>tas</td>\n",
              "      <td>gn</td>\n",
              "      <td>gs://cmip6/ScenarioMIP/CCCma/CanESM5/ssp585/r8...</td>\n",
              "      <td>NaN</td>\n",
              "    </tr>\n",
              "    <tr>\n",
              "      <th>219370</th>\n",
              "      <td>ScenarioMIP</td>\n",
              "      <td>CCCma</td>\n",
              "      <td>CanESM5</td>\n",
              "      <td>ssp585</td>\n",
              "      <td>r9i1p1f1</td>\n",
              "      <td>Amon</td>\n",
              "      <td>tas</td>\n",
              "      <td>gn</td>\n",
              "      <td>gs://cmip6/ScenarioMIP/CCCma/CanESM5/ssp585/r9...</td>\n",
              "      <td>NaN</td>\n",
              "    </tr>\n",
              "    <tr>\n",
              "      <th>219476</th>\n",
              "      <td>ScenarioMIP</td>\n",
              "      <td>CCCma</td>\n",
              "      <td>CanESM5</td>\n",
              "      <td>ssp585</td>\n",
              "      <td>r9i1p2f1</td>\n",
              "      <td>Amon</td>\n",
              "      <td>tas</td>\n",
              "      <td>gn</td>\n",
              "      <td>gs://cmip6/ScenarioMIP/CCCma/CanESM5/ssp585/r9...</td>\n",
              "      <td>NaN</td>\n",
              "    </tr>\n",
              "  </tbody>\n",
              "</table>\n",
              "</div>"
            ],
            "text/plain": [
              "        activity_id  ... dcpp_init_year\n",
              "215534  ScenarioMIP  ...            NaN\n",
              "215654  ScenarioMIP  ...            NaN\n",
              "215750  ScenarioMIP  ...            NaN\n",
              "215808  ScenarioMIP  ...            NaN\n",
              "215867  ScenarioMIP  ...            NaN\n",
              "215925  ScenarioMIP  ...            NaN\n",
              "215984  ScenarioMIP  ...            NaN\n",
              "216042  ScenarioMIP  ...            NaN\n",
              "216101  ScenarioMIP  ...            NaN\n",
              "216159  ScenarioMIP  ...            NaN\n",
              "216218  ScenarioMIP  ...            NaN\n",
              "216276  ScenarioMIP  ...            NaN\n",
              "216335  ScenarioMIP  ...            NaN\n",
              "216393  ScenarioMIP  ...            NaN\n",
              "216452  ScenarioMIP  ...            NaN\n",
              "216510  ScenarioMIP  ...            NaN\n",
              "216569  ScenarioMIP  ...            NaN\n",
              "216627  ScenarioMIP  ...            NaN\n",
              "216686  ScenarioMIP  ...            NaN\n",
              "216744  ScenarioMIP  ...            NaN\n",
              "216803  ScenarioMIP  ...            NaN\n",
              "216926  ScenarioMIP  ...            NaN\n",
              "217053  ScenarioMIP  ...            NaN\n",
              "217111  ScenarioMIP  ...            NaN\n",
              "217170  ScenarioMIP  ...            NaN\n",
              "217228  ScenarioMIP  ...            NaN\n",
              "217287  ScenarioMIP  ...            NaN\n",
              "217345  ScenarioMIP  ...            NaN\n",
              "217404  ScenarioMIP  ...            NaN\n",
              "217462  ScenarioMIP  ...            NaN\n",
              "217521  ScenarioMIP  ...            NaN\n",
              "217579  ScenarioMIP  ...            NaN\n",
              "217638  ScenarioMIP  ...            NaN\n",
              "217696  ScenarioMIP  ...            NaN\n",
              "217755  ScenarioMIP  ...            NaN\n",
              "217876  ScenarioMIP  ...            NaN\n",
              "218003  ScenarioMIP  ...            NaN\n",
              "218123  ScenarioMIP  ...            NaN\n",
              "218250  ScenarioMIP  ...            NaN\n",
              "218371  ScenarioMIP  ...            NaN\n",
              "218499  ScenarioMIP  ...            NaN\n",
              "218619  ScenarioMIP  ...            NaN\n",
              "218747  ScenarioMIP  ...            NaN\n",
              "218859  ScenarioMIP  ...            NaN\n",
              "218969  ScenarioMIP  ...            NaN\n",
              "219073  ScenarioMIP  ...            NaN\n",
              "219169  ScenarioMIP  ...            NaN\n",
              "219273  ScenarioMIP  ...            NaN\n",
              "219370  ScenarioMIP  ...            NaN\n",
              "219476  ScenarioMIP  ...            NaN\n",
              "\n",
              "[50 rows x 10 columns]"
            ]
          },
          "metadata": {
            "tags": []
          },
          "execution_count": 10
        }
      ]
    },
    {
      "cell_type": "code",
      "metadata": {
        "id": "ySkYc6Nx_NGZ",
        "colab_type": "code",
        "outputId": "972add23-ceb1-4a02-e692-4fef569de6d3",
        "colab": {
          "base_uri": "https://localhost:8080/",
          "height": 35
        }
      },
      "source": [
        "mapper = gcs.get_mapper(df_ta_h.zstore.values[0])\n",
        "ds_h = xr.open_zarr(mapper, consolidated=True)\n",
        "#ds_h\n",
        "ds_h.tas.shape"
      ],
      "execution_count": 0,
      "outputs": [
        {
          "output_type": "execute_result",
          "data": {
            "text/plain": [
              "(1032, 64, 128)"
            ]
          },
          "metadata": {
            "tags": []
          },
          "execution_count": 11
        }
      ]
    },
    {
      "cell_type": "code",
      "metadata": {
        "id": "_a8orvphQGCl",
        "colab_type": "code",
        "outputId": "59473fbd-1a1d-459a-c1ef-a12010b50485",
        "colab": {
          "base_uri": "https://localhost:8080/",
          "height": 141
        }
      },
      "source": [
        "ta_timeseries = ds_h.tas\n",
        "ta_yearly = ta_timeseries.resample(time='1Y').mean()\n",
        "ta_yearly.load"
      ],
      "execution_count": 0,
      "outputs": [
        {
          "output_type": "execute_result",
          "data": {
            "text/plain": [
              "<bound method DataArray.load of <xarray.DataArray 'tas' (time: 86, lat: 64, lon: 128)>\n",
              "dask.array<stack, shape=(86, 64, 128), dtype=float32, chunksize=(1, 64, 128), chunktype=numpy.ndarray>\n",
              "Coordinates:\n",
              "  * time     (time) object 2015-12-31 00:00:00 ... 2100-12-31 00:00:00\n",
              "    height   float64 2.0\n",
              "  * lat      (lat) float64 -87.86 -85.1 -82.31 -79.53 ... 79.53 82.31 85.1 87.86\n",
              "  * lon      (lon) float64 0.0 2.812 5.625 8.438 ... 348.8 351.6 354.4 357.2>"
            ]
          },
          "metadata": {
            "tags": []
          },
          "execution_count": 61
        }
      ]
    },
    {
      "cell_type": "code",
      "metadata": {
        "id": "O5pCXBugYFFe",
        "colab_type": "code",
        "colab": {}
      },
      "source": [
        "#xr.DataArray.to_netcdf(self, ds_h, '/content/drive/Shared drives/GEOS39650/climate_emulator/data/grid_tas_data/CanESM5_SSP585_tas.nc4',  format = 'NETCDF4')\n",
        "ds_h.to_netcdf(path = '/content/drive/Shared drives/GEOS39650/climate_emulator/data/grid_tas_data/CanESM5_SSP585_tas.nc4')"
      ],
      "execution_count": 0,
      "outputs": []
    },
    {
      "cell_type": "markdown",
      "metadata": {
        "id": "53-78hYiiZww",
        "colab_type": "text"
      },
      "source": [
        "## Gather all grid data and save as netcdf"
      ]
    },
    {
      "cell_type": "markdown",
      "metadata": {
        "id": "e-m7-m_idHQM",
        "colab_type": "text"
      },
      "source": [
        "## First get list of models "
      ]
    },
    {
      "cell_type": "code",
      "metadata": {
        "id": "rML4Fa93a5lL",
        "colab_type": "code",
        "outputId": "ebb5c9d1-778d-4644-95bd-770ead08939c",
        "colab": {
          "base_uri": "https://localhost:8080/",
          "height": 408
        }
      },
      "source": [
        "df = pd.read_csv('https://storage.googleapis.com/cmip6/cmip6-zarr-consolidated-stores.csv')\n",
        "# Get list of models for different SSPs and variable_id = tas\n",
        "df_mod = df.query(\"activity_id=='ScenarioMIP' & table_id == 'Amon' & variable_id == 'tas' & experiment_id == 'ssp370'\") # variable_id = tas; experiment_id == ssp585/ssp245/ssp126/aap119/ssp370\n",
        "models = df_mod.source_id.unique()\n",
        "models = list(models)\n",
        "models"
      ],
      "execution_count": 0,
      "outputs": [
        {
          "output_type": "execute_result",
          "data": {
            "text/plain": [
              "['BCC-CSM2-MR',\n",
              " 'CAMS-CSM1-0',\n",
              " 'FGOALS-g3',\n",
              " 'CanESM5-CanOE',\n",
              " 'CanESM5',\n",
              " 'CNRM-CM6-1',\n",
              " 'CNRM-ESM2-1',\n",
              " 'ACCESS-CM2',\n",
              " 'ACCESS-ESM1-5',\n",
              " 'MPI-ESM1-2-HR',\n",
              " 'EC-Earth3-Veg',\n",
              " 'EC-Earth3',\n",
              " 'INM-CM5-0',\n",
              " 'IPSL-CM6A-LR',\n",
              " 'MIROC-ES2L',\n",
              " 'MIROC6',\n",
              " 'UKESM1-0-LL',\n",
              " 'MRI-ESM2-0',\n",
              " 'CESM2-WACCM',\n",
              " 'CESM2',\n",
              " 'GFDL-ESM4',\n",
              " 'MCM-UA-1-0']"
            ]
          },
          "metadata": {
            "tags": []
          },
          "execution_count": 21
        }
      ]
    },
    {
      "cell_type": "markdown",
      "metadata": {
        "id": "tZP7LyJ1U8rG",
        "colab_type": "text"
      },
      "source": [
        "## Commented out below chunk of codes since grid level data already generated and is in the drive folder GEOS39650/climate_emulator/data/grid_tas_data/model_ssp_tas.nc4'"
      ]
    },
    {
      "cell_type": "markdown",
      "metadata": {
        "id": "mawwzEI7LtxZ",
        "colab_type": "text"
      },
      "source": [
        "## Historical Data"
      ]
    },
    {
      "cell_type": "code",
      "metadata": {
        "id": "JC1yed03LswD",
        "colab_type": "code",
        "outputId": "4668560d-6332-4973-f156-4ef43b290218",
        "colab": {
          "base_uri": "https://localhost:8080/",
          "height": 426
        }
      },
      "source": [
        "models = ['BCC-CSM2-MR', 'CAMS-CSM1-0', 'FGOALS-g3', 'CanESM5-CanOE', 'CanESM5', 'CNRM-CM6-1', 'CNRM-ESM2-1', 'ACCESS-CM2', 'ACCESS-ESM1-5', \n",
        "          'MPI-ESM1-2-HR', 'EC-Earth3', 'EC-Earth3-Veg', 'FIO-ESM-2-0', 'IPSL-CM6A-LR', 'MIROC-ES2L', 'MIROC6', 'UKESM1-0-LL', 'MRI-ESM2-0', 'CESM2-WACCM', \n",
        "          'CESM2', 'KACE-1-0-G', 'GFDL-CM4', 'GFDL-ESM4']\n",
        "\n",
        "          #'INM-CM5-0', 'MCM-UA-1-0' don't work\n",
        "\n",
        "df = pd.read_csv('https://storage.googleapis.com/cmip6/cmip6-zarr-consolidated-stores.csv')\n",
        "\n",
        "for model in models:\n",
        "  print (model)\n",
        "  df_ta_h = df.query(\"activity_id=='CMIP' & table_id == 'Amon' & variable_id == 'tas' & experiment_id == 'historical' & source_id == '%s'\"%(model))\n",
        "  mapper = gcs.get_mapper(df_ta_h.zstore.values[0])\n",
        "  ds_h = xr.open_zarr(mapper, consolidated=True)\n",
        "  ds_h.to_netcdf(path = '/content/drive/Shared drives/GEOS39650/climate_emulator/data/grid_tas_data/Historical/01Historical_%s_tas.nc4'%(model))\n",
        "  "
      ],
      "execution_count": 0,
      "outputs": [
        {
          "output_type": "stream",
          "text": [
            "BCC-CSM2-MR\n",
            "CAMS-CSM1-0\n",
            "FGOALS-g3\n",
            "CanESM5-CanOE\n",
            "CanESM5\n",
            "CNRM-CM6-1\n",
            "CNRM-ESM2-1\n",
            "ACCESS-CM2\n",
            "ACCESS-ESM1-5\n",
            "MPI-ESM1-2-HR\n",
            "EC-Earth3\n",
            "EC-Earth3-Veg\n",
            "FIO-ESM-2-0\n",
            "IPSL-CM6A-LR\n",
            "MIROC-ES2L\n",
            "MIROC6\n",
            "UKESM1-0-LL\n",
            "MRI-ESM2-0\n",
            "CESM2-WACCM\n",
            "CESM2\n",
            "KACE-1-0-G\n",
            "GFDL-CM4\n",
            "GFDL-ESM4\n"
          ],
          "name": "stdout"
        }
      ]
    },
    {
      "cell_type": "markdown",
      "metadata": {
        "id": "cwuWt_coLzbR",
        "colab_type": "text"
      },
      "source": [
        "## Scenario Data"
      ]
    },
    {
      "cell_type": "code",
      "metadata": {
        "id": "H6IUzErO4Y-g",
        "colab_type": "code",
        "colab": {}
      },
      "source": [
        ""
      ],
      "execution_count": 0,
      "outputs": []
    },
    {
      "cell_type": "code",
      "metadata": {
        "id": "3GiG-zXbiYvy",
        "colab_type": "code",
        "outputId": "c073e707-bc09-4e43-9963-ec0cd00d3d99",
        "colab": {
          "base_uri": "https://localhost:8080/",
          "height": 761
        }
      },
      "source": [
        "'''\n",
        "# For ssp 126, 245, 585\n",
        "models = ['BCC-CSM2-MR', 'CAMS-CSM1-0', 'FGOALS-g3', 'CanESM5-CanOE', 'CanESM5', 'CNRM-CM6-1', 'CNRM-ESM2-1', 'ACCESS-CM2', 'ACCESS-ESM1-5', \n",
        "          'MPI-ESM1-2-HR', 'EC-Earth3-Veg', 'FIO-ESM-2-0', 'IPSL-CM6A-LR', 'MIROC-ES2L', 'MIROC6', 'UKESM1-0-LL', 'MRI-ESM2-0', 'CESM2-WACCM', \n",
        "          'CESM2', 'GFDL-ESM4']\n",
        "                                                          # KACE-1-0-G - ssp126 worked, ssp245 did not work, ssp585 worked. Error message: index 0 is out of bounds for axis 0 with size 0\n",
        "                                                          # GFDL-CM4 ssp126 did not work;ssp245 and ssp585 worked \n",
        "                                                          # Run 'KACE-1-0-G', 'GFDL-CM4' separatly for respective ssps available\n",
        "ssps = ['ssp126', 'ssp245', 'ssp585']\n",
        "'''\n",
        "\n",
        "\n",
        "'''\n",
        "# For ssp 119\n",
        "models = ['CAMS-CSM1-0', 'CanESM5', 'CNRM-ESM2-1', 'EC-Earth3-Veg', 'IPSL-CM6A-LR', 'MIROC-ES2L', 'MIROC6', 'UKESM1-0-LL', 'MRI-ESM2-0', 'GFDL-ESM4']\n",
        "ssps = ['ssp119']\n",
        "'''\n",
        "\n",
        "'''\n",
        "# For ssp 370\n",
        "models = ['BCC-CSM2-MR', 'CAMS-CSM1-0', 'FGOALS-g3', 'CanESM5-CanOE', 'CanESM5', 'CNRM-CM6-1', 'CNRM-ESM2-1', 'ACCESS-CM2',  'ACCESS-ESM1-5', 'MPI-ESM1-2-HR',\n",
        "          'EC-Earth3-Veg', 'EC-Earth3', 'INM-CM5-0', 'IPSL-CM6A-LR', 'MIROC-ES2L', 'MIROC6', 'UKESM1-0-LL', 'MRI-ESM2-0', 'CESM2-WACCM', 'CESM2', 'GFDL-ESM4', 'MCM-UA-1-0']\n",
        "                                                          # MCM-UA-1-0 spits error - Variable 'height' has conflicting _FillValue (nan) and missing_value (1.0000000200408773e+20). Cannot encode data.\n",
        "ssps = ['ssp370']\n",
        "'''\n",
        "\n",
        "'''\n",
        "df = pd.read_csv('https://storage.googleapis.com/cmip6/cmip6-zarr-consolidated-stores.csv')\n",
        "\n",
        "for model in models:\n",
        "  for ssp in ssps:\n",
        "    print (model, ssp)\n",
        "    df_ta_h = df.query(\"activity_id=='ScenarioMIP' & table_id == 'Amon' & variable_id == 'tas' & experiment_id == '%s' & source_id == '%s'\"%(ssp, model))\n",
        "    mapper = gcs.get_mapper(df_ta_h.zstore.values[0])\n",
        "    ds_h = xr.open_zarr(mapper, consolidated=True)\n",
        "    ds_h.to_netcdf(path = '/content/drive/Shared drives/GEOS39650/climate_emulator/data/grid_tas_data/%s_%s_tas.nc4'%(model, ssp))\n",
        " ''' "
      ],
      "execution_count": 0,
      "outputs": [
        {
          "output_type": "stream",
          "text": [
            "BCC-CSM2-MR ssp370\n",
            "CAMS-CSM1-0 ssp370\n",
            "FGOALS-g3 ssp370\n",
            "CanESM5-CanOE ssp370\n",
            "CanESM5 ssp370\n",
            "CNRM-CM6-1 ssp370\n",
            "CNRM-ESM2-1 ssp370\n",
            "ACCESS-CM2 ssp370\n",
            "ACCESS-ESM1-5 ssp370\n",
            "MPI-ESM1-2-HR ssp370\n",
            "EC-Earth3-Veg ssp370\n",
            "EC-Earth3 ssp370\n",
            "INM-CM5-0 ssp370\n",
            "IPSL-CM6A-LR ssp370\n",
            "MIROC-ES2L ssp370\n",
            "MIROC6 ssp370\n",
            "UKESM1-0-LL ssp370\n",
            "MRI-ESM2-0 ssp370\n",
            "CESM2-WACCM ssp370\n",
            "CESM2 ssp370\n",
            "GFDL-ESM4 ssp370\n",
            "MCM-UA-1-0 ssp370\n"
          ],
          "name": "stdout"
        },
        {
          "output_type": "error",
          "ename": "ValueError",
          "evalue": "ignored",
          "traceback": [
            "\u001b[0;31m---------------------------------------------------------------------------\u001b[0m",
            "\u001b[0;31mValueError\u001b[0m                                Traceback (most recent call last)",
            "\u001b[0;32m<ipython-input-4-8a4fa09780d9>\u001b[0m in \u001b[0;36m<module>\u001b[0;34m()\u001b[0m\n\u001b[1;32m     32\u001b[0m     \u001b[0mmapper\u001b[0m \u001b[0;34m=\u001b[0m \u001b[0mgcs\u001b[0m\u001b[0;34m.\u001b[0m\u001b[0mget_mapper\u001b[0m\u001b[0;34m(\u001b[0m\u001b[0mdf_ta_h\u001b[0m\u001b[0;34m.\u001b[0m\u001b[0mzstore\u001b[0m\u001b[0;34m.\u001b[0m\u001b[0mvalues\u001b[0m\u001b[0;34m[\u001b[0m\u001b[0;36m0\u001b[0m\u001b[0;34m]\u001b[0m\u001b[0;34m)\u001b[0m\u001b[0;34m\u001b[0m\u001b[0;34m\u001b[0m\u001b[0m\n\u001b[1;32m     33\u001b[0m     \u001b[0mds_h\u001b[0m \u001b[0;34m=\u001b[0m \u001b[0mxr\u001b[0m\u001b[0;34m.\u001b[0m\u001b[0mopen_zarr\u001b[0m\u001b[0;34m(\u001b[0m\u001b[0mmapper\u001b[0m\u001b[0;34m,\u001b[0m \u001b[0mconsolidated\u001b[0m\u001b[0;34m=\u001b[0m\u001b[0;32mTrue\u001b[0m\u001b[0;34m)\u001b[0m\u001b[0;34m\u001b[0m\u001b[0;34m\u001b[0m\u001b[0m\n\u001b[0;32m---> 34\u001b[0;31m     \u001b[0mds_h\u001b[0m\u001b[0;34m.\u001b[0m\u001b[0mto_netcdf\u001b[0m\u001b[0;34m(\u001b[0m\u001b[0mpath\u001b[0m \u001b[0;34m=\u001b[0m \u001b[0;34m'/content/drive/Shared drives/GEOS39650/climate_emulator/data/grid_tas_data/%s_%s_tas.nc4'\u001b[0m\u001b[0;34m%\u001b[0m\u001b[0;34m(\u001b[0m\u001b[0mmodel\u001b[0m\u001b[0;34m,\u001b[0m \u001b[0mssp\u001b[0m\u001b[0;34m)\u001b[0m\u001b[0;34m)\u001b[0m\u001b[0;34m\u001b[0m\u001b[0;34m\u001b[0m\u001b[0m\n\u001b[0m\u001b[1;32m     35\u001b[0m \u001b[0;34m\u001b[0m\u001b[0m\n",
            "\u001b[0;32m/usr/local/lib/python3.6/dist-packages/xarray/core/dataset.py\u001b[0m in \u001b[0;36mto_netcdf\u001b[0;34m(self, path, mode, format, group, engine, encoding, unlimited_dims, compute, invalid_netcdf)\u001b[0m\n\u001b[1;32m   1543\u001b[0m             \u001b[0munlimited_dims\u001b[0m\u001b[0;34m=\u001b[0m\u001b[0munlimited_dims\u001b[0m\u001b[0;34m,\u001b[0m\u001b[0;34m\u001b[0m\u001b[0;34m\u001b[0m\u001b[0m\n\u001b[1;32m   1544\u001b[0m             \u001b[0mcompute\u001b[0m\u001b[0;34m=\u001b[0m\u001b[0mcompute\u001b[0m\u001b[0;34m,\u001b[0m\u001b[0;34m\u001b[0m\u001b[0;34m\u001b[0m\u001b[0m\n\u001b[0;32m-> 1545\u001b[0;31m             \u001b[0minvalid_netcdf\u001b[0m\u001b[0;34m=\u001b[0m\u001b[0minvalid_netcdf\u001b[0m\u001b[0;34m,\u001b[0m\u001b[0;34m\u001b[0m\u001b[0;34m\u001b[0m\u001b[0m\n\u001b[0m\u001b[1;32m   1546\u001b[0m         )\n\u001b[1;32m   1547\u001b[0m \u001b[0;34m\u001b[0m\u001b[0m\n",
            "\u001b[0;32m/usr/local/lib/python3.6/dist-packages/xarray/backends/api.py\u001b[0m in \u001b[0;36mto_netcdf\u001b[0;34m(dataset, path_or_file, mode, format, group, engine, encoding, unlimited_dims, compute, multifile, invalid_netcdf)\u001b[0m\n\u001b[1;32m   1087\u001b[0m         \u001b[0;31m# to be parallelized with dask\u001b[0m\u001b[0;34m\u001b[0m\u001b[0;34m\u001b[0m\u001b[0;34m\u001b[0m\u001b[0m\n\u001b[1;32m   1088\u001b[0m         dump_to_store(\n\u001b[0;32m-> 1089\u001b[0;31m             \u001b[0mdataset\u001b[0m\u001b[0;34m,\u001b[0m \u001b[0mstore\u001b[0m\u001b[0;34m,\u001b[0m \u001b[0mwriter\u001b[0m\u001b[0;34m,\u001b[0m \u001b[0mencoding\u001b[0m\u001b[0;34m=\u001b[0m\u001b[0mencoding\u001b[0m\u001b[0;34m,\u001b[0m \u001b[0munlimited_dims\u001b[0m\u001b[0;34m=\u001b[0m\u001b[0munlimited_dims\u001b[0m\u001b[0;34m\u001b[0m\u001b[0;34m\u001b[0m\u001b[0m\n\u001b[0m\u001b[1;32m   1090\u001b[0m         )\n\u001b[1;32m   1091\u001b[0m         \u001b[0;32mif\u001b[0m \u001b[0mautoclose\u001b[0m\u001b[0;34m:\u001b[0m\u001b[0;34m\u001b[0m\u001b[0;34m\u001b[0m\u001b[0m\n",
            "\u001b[0;32m/usr/local/lib/python3.6/dist-packages/xarray/backends/api.py\u001b[0m in \u001b[0;36mdump_to_store\u001b[0;34m(dataset, store, writer, encoder, encoding, unlimited_dims)\u001b[0m\n\u001b[1;32m   1133\u001b[0m         \u001b[0mvariables\u001b[0m\u001b[0;34m,\u001b[0m \u001b[0mattrs\u001b[0m \u001b[0;34m=\u001b[0m \u001b[0mencoder\u001b[0m\u001b[0;34m(\u001b[0m\u001b[0mvariables\u001b[0m\u001b[0;34m,\u001b[0m \u001b[0mattrs\u001b[0m\u001b[0;34m)\u001b[0m\u001b[0;34m\u001b[0m\u001b[0;34m\u001b[0m\u001b[0m\n\u001b[1;32m   1134\u001b[0m \u001b[0;34m\u001b[0m\u001b[0m\n\u001b[0;32m-> 1135\u001b[0;31m     \u001b[0mstore\u001b[0m\u001b[0;34m.\u001b[0m\u001b[0mstore\u001b[0m\u001b[0;34m(\u001b[0m\u001b[0mvariables\u001b[0m\u001b[0;34m,\u001b[0m \u001b[0mattrs\u001b[0m\u001b[0;34m,\u001b[0m \u001b[0mcheck_encoding\u001b[0m\u001b[0;34m,\u001b[0m \u001b[0mwriter\u001b[0m\u001b[0;34m,\u001b[0m \u001b[0munlimited_dims\u001b[0m\u001b[0;34m=\u001b[0m\u001b[0munlimited_dims\u001b[0m\u001b[0;34m)\u001b[0m\u001b[0;34m\u001b[0m\u001b[0;34m\u001b[0m\u001b[0m\n\u001b[0m\u001b[1;32m   1136\u001b[0m \u001b[0;34m\u001b[0m\u001b[0m\n\u001b[1;32m   1137\u001b[0m \u001b[0;34m\u001b[0m\u001b[0m\n",
            "\u001b[0;32m/usr/local/lib/python3.6/dist-packages/xarray/backends/common.py\u001b[0m in \u001b[0;36mstore\u001b[0;34m(self, variables, attributes, check_encoding_set, writer, unlimited_dims)\u001b[0m\n\u001b[1;32m    291\u001b[0m             \u001b[0mwriter\u001b[0m \u001b[0;34m=\u001b[0m \u001b[0mArrayWriter\u001b[0m\u001b[0;34m(\u001b[0m\u001b[0;34m)\u001b[0m\u001b[0;34m\u001b[0m\u001b[0;34m\u001b[0m\u001b[0m\n\u001b[1;32m    292\u001b[0m \u001b[0;34m\u001b[0m\u001b[0m\n\u001b[0;32m--> 293\u001b[0;31m         \u001b[0mvariables\u001b[0m\u001b[0;34m,\u001b[0m \u001b[0mattributes\u001b[0m \u001b[0;34m=\u001b[0m \u001b[0mself\u001b[0m\u001b[0;34m.\u001b[0m\u001b[0mencode\u001b[0m\u001b[0;34m(\u001b[0m\u001b[0mvariables\u001b[0m\u001b[0;34m,\u001b[0m \u001b[0mattributes\u001b[0m\u001b[0;34m)\u001b[0m\u001b[0;34m\u001b[0m\u001b[0;34m\u001b[0m\u001b[0m\n\u001b[0m\u001b[1;32m    294\u001b[0m \u001b[0;34m\u001b[0m\u001b[0m\n\u001b[1;32m    295\u001b[0m         \u001b[0mself\u001b[0m\u001b[0;34m.\u001b[0m\u001b[0mset_attributes\u001b[0m\u001b[0;34m(\u001b[0m\u001b[0mattributes\u001b[0m\u001b[0;34m)\u001b[0m\u001b[0;34m\u001b[0m\u001b[0;34m\u001b[0m\u001b[0m\n",
            "\u001b[0;32m/usr/local/lib/python3.6/dist-packages/xarray/backends/common.py\u001b[0m in \u001b[0;36mencode\u001b[0;34m(self, variables, attributes)\u001b[0m\n\u001b[1;32m    380\u001b[0m         \u001b[0;31m# All NetCDF files get CF encoded by default, without this attempting\u001b[0m\u001b[0;34m\u001b[0m\u001b[0;34m\u001b[0m\u001b[0;34m\u001b[0m\u001b[0m\n\u001b[1;32m    381\u001b[0m         \u001b[0;31m# to write times, for example, would fail.\u001b[0m\u001b[0;34m\u001b[0m\u001b[0;34m\u001b[0m\u001b[0;34m\u001b[0m\u001b[0m\n\u001b[0;32m--> 382\u001b[0;31m         \u001b[0mvariables\u001b[0m\u001b[0;34m,\u001b[0m \u001b[0mattributes\u001b[0m \u001b[0;34m=\u001b[0m \u001b[0mcf_encoder\u001b[0m\u001b[0;34m(\u001b[0m\u001b[0mvariables\u001b[0m\u001b[0;34m,\u001b[0m \u001b[0mattributes\u001b[0m\u001b[0;34m)\u001b[0m\u001b[0;34m\u001b[0m\u001b[0;34m\u001b[0m\u001b[0m\n\u001b[0m\u001b[1;32m    383\u001b[0m         \u001b[0mvariables\u001b[0m \u001b[0;34m=\u001b[0m \u001b[0;34m{\u001b[0m\u001b[0mk\u001b[0m\u001b[0;34m:\u001b[0m \u001b[0mself\u001b[0m\u001b[0;34m.\u001b[0m\u001b[0mencode_variable\u001b[0m\u001b[0;34m(\u001b[0m\u001b[0mv\u001b[0m\u001b[0;34m)\u001b[0m \u001b[0;32mfor\u001b[0m \u001b[0mk\u001b[0m\u001b[0;34m,\u001b[0m \u001b[0mv\u001b[0m \u001b[0;32min\u001b[0m \u001b[0mvariables\u001b[0m\u001b[0;34m.\u001b[0m\u001b[0mitems\u001b[0m\u001b[0;34m(\u001b[0m\u001b[0;34m)\u001b[0m\u001b[0;34m}\u001b[0m\u001b[0;34m\u001b[0m\u001b[0;34m\u001b[0m\u001b[0m\n\u001b[1;32m    384\u001b[0m         \u001b[0mattributes\u001b[0m \u001b[0;34m=\u001b[0m \u001b[0;34m{\u001b[0m\u001b[0mk\u001b[0m\u001b[0;34m:\u001b[0m \u001b[0mself\u001b[0m\u001b[0;34m.\u001b[0m\u001b[0mencode_attribute\u001b[0m\u001b[0;34m(\u001b[0m\u001b[0mv\u001b[0m\u001b[0;34m)\u001b[0m \u001b[0;32mfor\u001b[0m \u001b[0mk\u001b[0m\u001b[0;34m,\u001b[0m \u001b[0mv\u001b[0m \u001b[0;32min\u001b[0m \u001b[0mattributes\u001b[0m\u001b[0;34m.\u001b[0m\u001b[0mitems\u001b[0m\u001b[0;34m(\u001b[0m\u001b[0;34m)\u001b[0m\u001b[0;34m}\u001b[0m\u001b[0;34m\u001b[0m\u001b[0;34m\u001b[0m\u001b[0m\n",
            "\u001b[0;32m/usr/local/lib/python3.6/dist-packages/xarray/conventions.py\u001b[0m in \u001b[0;36mcf_encoder\u001b[0;34m(variables, attributes)\u001b[0m\n\u001b[1;32m    758\u001b[0m     \u001b[0m_update_bounds_encoding\u001b[0m\u001b[0;34m(\u001b[0m\u001b[0mvariables\u001b[0m\u001b[0;34m)\u001b[0m\u001b[0;34m\u001b[0m\u001b[0;34m\u001b[0m\u001b[0m\n\u001b[1;32m    759\u001b[0m \u001b[0;34m\u001b[0m\u001b[0m\n\u001b[0;32m--> 760\u001b[0;31m     \u001b[0mnew_vars\u001b[0m \u001b[0;34m=\u001b[0m \u001b[0;34m{\u001b[0m\u001b[0mk\u001b[0m\u001b[0;34m:\u001b[0m \u001b[0mencode_cf_variable\u001b[0m\u001b[0;34m(\u001b[0m\u001b[0mv\u001b[0m\u001b[0;34m,\u001b[0m \u001b[0mname\u001b[0m\u001b[0;34m=\u001b[0m\u001b[0mk\u001b[0m\u001b[0;34m)\u001b[0m \u001b[0;32mfor\u001b[0m \u001b[0mk\u001b[0m\u001b[0;34m,\u001b[0m \u001b[0mv\u001b[0m \u001b[0;32min\u001b[0m \u001b[0mvariables\u001b[0m\u001b[0;34m.\u001b[0m\u001b[0mitems\u001b[0m\u001b[0;34m(\u001b[0m\u001b[0;34m)\u001b[0m\u001b[0;34m}\u001b[0m\u001b[0;34m\u001b[0m\u001b[0;34m\u001b[0m\u001b[0m\n\u001b[0m\u001b[1;32m    761\u001b[0m \u001b[0;34m\u001b[0m\u001b[0m\n\u001b[1;32m    762\u001b[0m     \u001b[0;31m# Remove attrs from bounds variables (issue #2921)\u001b[0m\u001b[0;34m\u001b[0m\u001b[0;34m\u001b[0m\u001b[0;34m\u001b[0m\u001b[0m\n",
            "\u001b[0;32m/usr/local/lib/python3.6/dist-packages/xarray/conventions.py\u001b[0m in \u001b[0;36m<dictcomp>\u001b[0;34m(.0)\u001b[0m\n\u001b[1;32m    758\u001b[0m     \u001b[0m_update_bounds_encoding\u001b[0m\u001b[0;34m(\u001b[0m\u001b[0mvariables\u001b[0m\u001b[0;34m)\u001b[0m\u001b[0;34m\u001b[0m\u001b[0;34m\u001b[0m\u001b[0m\n\u001b[1;32m    759\u001b[0m \u001b[0;34m\u001b[0m\u001b[0m\n\u001b[0;32m--> 760\u001b[0;31m     \u001b[0mnew_vars\u001b[0m \u001b[0;34m=\u001b[0m \u001b[0;34m{\u001b[0m\u001b[0mk\u001b[0m\u001b[0;34m:\u001b[0m \u001b[0mencode_cf_variable\u001b[0m\u001b[0;34m(\u001b[0m\u001b[0mv\u001b[0m\u001b[0;34m,\u001b[0m \u001b[0mname\u001b[0m\u001b[0;34m=\u001b[0m\u001b[0mk\u001b[0m\u001b[0;34m)\u001b[0m \u001b[0;32mfor\u001b[0m \u001b[0mk\u001b[0m\u001b[0;34m,\u001b[0m \u001b[0mv\u001b[0m \u001b[0;32min\u001b[0m \u001b[0mvariables\u001b[0m\u001b[0;34m.\u001b[0m\u001b[0mitems\u001b[0m\u001b[0;34m(\u001b[0m\u001b[0;34m)\u001b[0m\u001b[0;34m}\u001b[0m\u001b[0;34m\u001b[0m\u001b[0;34m\u001b[0m\u001b[0m\n\u001b[0m\u001b[1;32m    761\u001b[0m \u001b[0;34m\u001b[0m\u001b[0m\n\u001b[1;32m    762\u001b[0m     \u001b[0;31m# Remove attrs from bounds variables (issue #2921)\u001b[0m\u001b[0;34m\u001b[0m\u001b[0;34m\u001b[0m\u001b[0;34m\u001b[0m\u001b[0m\n",
            "\u001b[0;32m/usr/local/lib/python3.6/dist-packages/xarray/conventions.py\u001b[0m in \u001b[0;36mencode_cf_variable\u001b[0;34m(var, needs_copy, name)\u001b[0m\n\u001b[1;32m    248\u001b[0m         \u001b[0mvariables\u001b[0m\u001b[0;34m.\u001b[0m\u001b[0mUnsignedIntegerCoder\u001b[0m\u001b[0;34m(\u001b[0m\u001b[0;34m)\u001b[0m\u001b[0;34m,\u001b[0m\u001b[0;34m\u001b[0m\u001b[0;34m\u001b[0m\u001b[0m\n\u001b[1;32m    249\u001b[0m     ]:\n\u001b[0;32m--> 250\u001b[0;31m         \u001b[0mvar\u001b[0m \u001b[0;34m=\u001b[0m \u001b[0mcoder\u001b[0m\u001b[0;34m.\u001b[0m\u001b[0mencode\u001b[0m\u001b[0;34m(\u001b[0m\u001b[0mvar\u001b[0m\u001b[0;34m,\u001b[0m \u001b[0mname\u001b[0m\u001b[0;34m=\u001b[0m\u001b[0mname\u001b[0m\u001b[0;34m)\u001b[0m\u001b[0;34m\u001b[0m\u001b[0;34m\u001b[0m\u001b[0m\n\u001b[0m\u001b[1;32m    251\u001b[0m \u001b[0;34m\u001b[0m\u001b[0m\n\u001b[1;32m    252\u001b[0m     \u001b[0;31m# TODO(shoyer): convert all of these to use coders, too:\u001b[0m\u001b[0;34m\u001b[0m\u001b[0;34m\u001b[0m\u001b[0;34m\u001b[0m\u001b[0m\n",
            "\u001b[0;32m/usr/local/lib/python3.6/dist-packages/xarray/coding/variables.py\u001b[0m in \u001b[0;36mencode\u001b[0;34m(self, variable, name)\u001b[0m\n\u001b[1;32m    159\u001b[0m         ):\n\u001b[1;32m    160\u001b[0m             raise ValueError(\n\u001b[0;32m--> 161\u001b[0;31m                 \u001b[0;34mf\"Variable {name!r} has conflicting _FillValue ({fv}) and missing_value ({mv}). Cannot encode data.\"\u001b[0m\u001b[0;34m\u001b[0m\u001b[0;34m\u001b[0m\u001b[0m\n\u001b[0m\u001b[1;32m    162\u001b[0m             )\n\u001b[1;32m    163\u001b[0m \u001b[0;34m\u001b[0m\u001b[0m\n",
            "\u001b[0;31mValueError\u001b[0m: Variable 'height' has conflicting _FillValue (nan) and missing_value (1.0000000200408773e+20). Cannot encode data."
          ]
        }
      ]
    },
    {
      "cell_type": "code",
      "metadata": {
        "id": "T5yf4QDIlMZl",
        "colab_type": "code",
        "outputId": "404175eb-74b8-47e3-834c-9616d269d2a3",
        "colab": {
          "base_uri": "https://localhost:8080/",
          "height": 509
        }
      },
      "source": [
        "ta_yearly.plot(label = 'annual mean')"
      ],
      "execution_count": 0,
      "outputs": [
        {
          "output_type": "execute_result",
          "data": {
            "text/plain": [
              "(array([9.90000e+01, 1.33900e+03, 2.15180e+04, 2.19380e+04, 3.21790e+04,\n",
              "        6.81230e+04, 1.50217e+05, 1.41355e+05, 2.36863e+05, 3.08810e+04]),\n",
              " array([198.76338, 210.59378, 222.42416, 234.25456, 246.08496, 257.91534,\n",
              "        269.74576, 281.57614, 293.40652, 305.23694, 317.06732],\n",
              "       dtype=float32),\n",
              " <a list of 10 Patch objects>)"
            ]
          },
          "metadata": {
            "tags": []
          },
          "execution_count": 60
        },
        {
          "output_type": "display_data",
          "data": {
            "image/png": "[encoded data removed]",
            "text/plain": [
              "<Figure size 864x432 with 1 Axes>"
            ]
          },
          "metadata": {
            "tags": [],
            "image/png": {
              "width": 729,
              "height": 386
            }
          }
        }
      ]
    },
    {
      "cell_type": "code",
      "metadata": {
        "id": "KelXiKPEWHoZ",
        "colab_type": "code",
        "outputId": "0e23d875-60b1-423d-e4df-4d1993643882",
        "colab": {
          "base_uri": "https://localhost:8080/",
          "height": 392
        }
      },
      "source": [
        "#ta_timeseries.plot(label='12 month rolling mean')\n",
        "#plt.legend()\n",
        "#plt.title('Global Mean Surface Air Temperature')\n",
        "\n",
        "plt.pcolormesh(ta_timeseries[0,:,:], vmin = 260, vmax = 330)"
      ],
      "execution_count": 0,
      "outputs": [
        {
          "output_type": "execute_result",
          "data": {
            "text/plain": [
              "<matplotlib.collections.QuadMesh at 0x7f3981d032b0>"
            ]
          },
          "metadata": {
            "tags": []
          },
          "execution_count": 57
        },
        {
          "output_type": "display_data",
          "data": {
            "image/png": "[encoded data removed]",
            "text/plain": [
              "<Figure size 864x432 with 1 Axes>"
            ]
          },
          "metadata": {
            "tags": [],
            "image/png": {
              "width": 703,
              "height": 357
            }
          }
        }
      ]
    },
    {
      "cell_type": "markdown",
      "metadata": {
        "id": "J5GA56epm-NI",
        "colab_type": "text"
      },
      "source": [
        "# Regression"
      ]
    },
    {
      "cell_type": "markdown",
      "metadata": {
        "id": "GN9Y8-BPRzm-",
        "colab_type": "text"
      },
      "source": [
        "# Preparing our X\n",
        "Below CO2 numbers have been updated from RCP_USETHISONE.xls file"
      ]
    },
    {
      "cell_type": "code",
      "metadata": {
        "id": "c4JoLFLctemG",
        "colab_type": "code",
        "colab": {}
      },
      "source": [
        "co2_cmip6 = np.array([[287.78, 289.916, 291.898, 295.77, 300.064, 302.579, 308.156, 313.601, 320.124, 325.322, 327.921, 337.17, 351.328, 371.945, 395.324, 415.858, 454.5886302, 500.4540237, 528.1148625, 516.9367551, 496.0068019, 475.5664733, 462.1211541, 451.8190072, 442.7498305, 433.143816], \n",
        "                [287.78, 289.916, 291.898, 295.77, 300.064, 302.579, 308.156, 313.601, 320.124, 325.322, 327.921, 337.17, 351.328, 371.945, 395.324, 415.858, 453.7140479, 490.1322126, 525.6623697, 532.97198, 528.7307179, 520.4791547, 511.7900731, 500.8750467, 488.0729028, 478.788738], \n",
        "                [287.78, 289.916, 291.898, 295.77, 300.064, 302.579, 308.156, 313.601, 320.124, 325.322, 327.921, 337.17, 351.328, 371.945, 395.324, 415.858, 454.1836676, 503.644716, 534.2957085, 565.4677781, 584.5098883, 599.4000754, 613.7304992, 625.6137785, 632.5225028, 633.142493], \n",
        "                [287.78, 289.916, 291.898, 295.77, 300.064, 302.579, 308.156, 313.601, 320.124, 325.322, 327.921, 337.17, 351.328, 371.945, 395.324, 415.858, 453.010787, 497.0504263, 548.6440394, 602.19642, 651.7839106, 708.1686295, 771.123235, 841.5055366, 921.881719, 1013.049655], \n",
        "                [287.78, 289.916, 291.898, 295.77, 300.064, 302.579, 308.156, 313.601, 320.124, 325.322, 327.921, 337.17, 351.328, 371.945, 395.324, 415.858, 454.2720586, 515.5437705, 574.45281, 641.5173906, 719.2341047, 806.4558356, 911.9594799, 1033.949852, 1163.013162, 1292.701399]]).transpose()\n",
        "x = np.array(pd.DataFrame(co2, columns=['ssp119', 'ssp126', 'ssp245', 'ssp370', 'ssp585'], index=np.linspace(1850, 2100, 26)).reindex(np.linspace(1850, 2100, 251)).interpolate(method='cubic'))"
      ],
      "execution_count": 0,
      "outputs": []
    },
    {
      "cell_type": "code",
      "metadata": {
        "id": "Pb34K8ghukCN",
        "colab_type": "code",
        "outputId": "bfc0d280-8122-4e8a-e6f1-674d90654c5b",
        "colab": {
          "base_uri": "https://localhost:8080/",
          "height": 392
        }
      },
      "source": [
        "plt.plot(x)\n",
        "plt.legend(['ssp119', 'ssp126', 'ssp245', 'ssp370', 'ssp585'])"
      ],
      "execution_count": 0,
      "outputs": [
        {
          "output_type": "execute_result",
          "data": {
            "text/plain": [
              "<matplotlib.legend.Legend at 0x7fb8ef799518>"
            ]
          },
          "metadata": {
            "tags": []
          },
          "execution_count": 15
        },
        {
          "output_type": "display_data",
          "data": {
            "image/png": "[encoded data removed]",
            "text/plain": [
              "<Figure size 864x432 with 1 Axes>"
            ]
          },
          "metadata": {
            "tags": [],
            "image/png": {
              "width": 716,
              "height": 357
            }
          }
        }
      ]
    },
    {
      "cell_type": "markdown",
      "metadata": {
        "id": "qWJkGMSQyVko",
        "colab_type": "text"
      },
      "source": [
        "## Convert CO2e np array to long format"
      ]
    },
    {
      "cell_type": "code",
      "metadata": {
        "id": "Rj2ml-OeyPnS",
        "colab_type": "code",
        "outputId": "b8f39452-3eab-49c5-a785-149968a1c5ff",
        "colab": {
          "base_uri": "https://localhost:8080/",
          "height": 266
        }
      },
      "source": [
        "df_x = pd.DataFrame(x, columns=['ssp119', 'ssp126', 'ssp245', 'ssp370', 'ssp585'], index=np.linspace(1850, 2100, 251))\n",
        "print(df_x)"
      ],
      "execution_count": 0,
      "outputs": [
        {
          "output_type": "stream",
          "text": [
            "            ssp119      ssp126      ssp245       ssp370       ssp585\n",
            "1850.0  287.780000  287.780000  287.780000   287.780000   287.780000\n",
            "1851.0  288.078858  288.078858  288.078858   288.078858   288.078858\n",
            "1852.0  288.351441  288.351441  288.351441   288.351441   288.351441\n",
            "1853.0  288.600497  288.600497  288.600497   288.600497   288.600497\n",
            "1854.0  288.828775  288.828775  288.828775   288.828775   288.828775\n",
            "...            ...         ...         ...          ...          ...\n",
            "2096.0  437.184751  481.664587  633.711888   975.268210  1241.094074\n",
            "2097.0  436.206668  480.818166  633.675144   984.548234  1254.048157\n",
            "2098.0  435.208548  480.052388  633.568651   993.938282  1266.970978\n",
            "2099.0  434.188295  479.373747  633.391427  1003.438656  1279.857178\n",
            "2100.0  433.143816  478.788738  633.142493  1013.049655  1292.701399\n",
            "\n",
            "[251 rows x 5 columns]\n"
          ],
          "name": "stdout"
        }
      ]
    },
    {
      "cell_type": "code",
      "metadata": {
        "id": "-WzTMXj4yoKo",
        "colab_type": "code",
        "outputId": "2675fae9-5418-49bf-8e6d-be4b76324113",
        "colab": {
          "base_uri": "https://localhost:8080/",
          "height": 399
        }
      },
      "source": [
        "df_x.reset_index()"
      ],
      "execution_count": 0,
      "outputs": [
        {
          "output_type": "execute_result",
          "data": {
            "text/html": [
              "<div>\n",
              "<style scoped>\n",
              "    .dataframe tbody tr th:only-of-type {\n",
              "        vertical-align: middle;\n",
              "    }\n",
              "\n",
              "    .dataframe tbody tr th {\n",
              "        vertical-align: top;\n",
              "    }\n",
              "\n",
              "    .dataframe thead th {\n",
              "        text-align: right;\n",
              "    }\n",
              "</style>\n",
              "<table border=\"1\" class=\"dataframe\">\n",
              "  <thead>\n",
              "    <tr style=\"text-align: right;\">\n",
              "      <th></th>\n",
              "      <th>index</th>\n",
              "      <th>ssp119</th>\n",
              "      <th>ssp126</th>\n",
              "      <th>ssp245</th>\n",
              "      <th>ssp370</th>\n",
              "      <th>ssp585</th>\n",
              "    </tr>\n",
              "  </thead>\n",
              "  <tbody>\n",
              "    <tr>\n",
              "      <th>0</th>\n",
              "      <td>1850.0</td>\n",
              "      <td>287.780000</td>\n",
              "      <td>287.780000</td>\n",
              "      <td>287.780000</td>\n",
              "      <td>287.780000</td>\n",
              "      <td>287.780000</td>\n",
              "    </tr>\n",
              "    <tr>\n",
              "      <th>1</th>\n",
              "      <td>1851.0</td>\n",
              "      <td>288.078858</td>\n",
              "      <td>288.078858</td>\n",
              "      <td>288.078858</td>\n",
              "      <td>288.078858</td>\n",
              "      <td>288.078858</td>\n",
              "    </tr>\n",
              "    <tr>\n",
              "      <th>2</th>\n",
              "      <td>1852.0</td>\n",
              "      <td>288.351441</td>\n",
              "      <td>288.351441</td>\n",
              "      <td>288.351441</td>\n",
              "      <td>288.351441</td>\n",
              "      <td>288.351441</td>\n",
              "    </tr>\n",
              "    <tr>\n",
              "      <th>3</th>\n",
              "      <td>1853.0</td>\n",
              "      <td>288.600497</td>\n",
              "      <td>288.600497</td>\n",
              "      <td>288.600497</td>\n",
              "      <td>288.600497</td>\n",
              "      <td>288.600497</td>\n",
              "    </tr>\n",
              "    <tr>\n",
              "      <th>4</th>\n",
              "      <td>1854.0</td>\n",
              "      <td>288.828775</td>\n",
              "      <td>288.828775</td>\n",
              "      <td>288.828775</td>\n",
              "      <td>288.828775</td>\n",
              "      <td>288.828775</td>\n",
              "    </tr>\n",
              "    <tr>\n",
              "      <th>...</th>\n",
              "      <td>...</td>\n",
              "      <td>...</td>\n",
              "      <td>...</td>\n",
              "      <td>...</td>\n",
              "      <td>...</td>\n",
              "      <td>...</td>\n",
              "    </tr>\n",
              "    <tr>\n",
              "      <th>246</th>\n",
              "      <td>2096.0</td>\n",
              "      <td>437.184751</td>\n",
              "      <td>481.664587</td>\n",
              "      <td>633.711888</td>\n",
              "      <td>975.268210</td>\n",
              "      <td>1241.094074</td>\n",
              "    </tr>\n",
              "    <tr>\n",
              "      <th>247</th>\n",
              "      <td>2097.0</td>\n",
              "      <td>436.206668</td>\n",
              "      <td>480.818166</td>\n",
              "      <td>633.675144</td>\n",
              "      <td>984.548234</td>\n",
              "      <td>1254.048157</td>\n",
              "    </tr>\n",
              "    <tr>\n",
              "      <th>248</th>\n",
              "      <td>2098.0</td>\n",
              "      <td>435.208548</td>\n",
              "      <td>480.052388</td>\n",
              "      <td>633.568651</td>\n",
              "      <td>993.938282</td>\n",
              "      <td>1266.970978</td>\n",
              "    </tr>\n",
              "    <tr>\n",
              "      <th>249</th>\n",
              "      <td>2099.0</td>\n",
              "      <td>434.188295</td>\n",
              "      <td>479.373747</td>\n",
              "      <td>633.391427</td>\n",
              "      <td>1003.438656</td>\n",
              "      <td>1279.857178</td>\n",
              "    </tr>\n",
              "    <tr>\n",
              "      <th>250</th>\n",
              "      <td>2100.0</td>\n",
              "      <td>433.143816</td>\n",
              "      <td>478.788738</td>\n",
              "      <td>633.142493</td>\n",
              "      <td>1013.049655</td>\n",
              "      <td>1292.701399</td>\n",
              "    </tr>\n",
              "  </tbody>\n",
              "</table>\n",
              "<p>251 rows × 6 columns</p>\n",
              "</div>"
            ],
            "text/plain": [
              "      index      ssp119      ssp126      ssp245       ssp370       ssp585\n",
              "0    1850.0  287.780000  287.780000  287.780000   287.780000   287.780000\n",
              "1    1851.0  288.078858  288.078858  288.078858   288.078858   288.078858\n",
              "2    1852.0  288.351441  288.351441  288.351441   288.351441   288.351441\n",
              "3    1853.0  288.600497  288.600497  288.600497   288.600497   288.600497\n",
              "4    1854.0  288.828775  288.828775  288.828775   288.828775   288.828775\n",
              "..      ...         ...         ...         ...          ...          ...\n",
              "246  2096.0  437.184751  481.664587  633.711888   975.268210  1241.094074\n",
              "247  2097.0  436.206668  480.818166  633.675144   984.548234  1254.048157\n",
              "248  2098.0  435.208548  480.052388  633.568651   993.938282  1266.970978\n",
              "249  2099.0  434.188295  479.373747  633.391427  1003.438656  1279.857178\n",
              "250  2100.0  433.143816  478.788738  633.142493  1013.049655  1292.701399\n",
              "\n",
              "[251 rows x 6 columns]"
            ]
          },
          "metadata": {
            "tags": []
          },
          "execution_count": 20
        }
      ]
    },
    {
      "cell_type": "code",
      "metadata": {
        "id": "wnQEHAnay1kD",
        "colab_type": "code",
        "outputId": "9cb246d3-49aa-4d29-e10e-1007f0c5af8c",
        "colab": {
          "base_uri": "https://localhost:8080/",
          "height": 212
        }
      },
      "source": [
        "df_xlong = df_x.unstack().reset_index() \n",
        "print(df_xlong.head(10)) "
      ],
      "execution_count": 0,
      "outputs": [
        {
          "output_type": "stream",
          "text": [
            "  level_0  level_1           0\n",
            "0  ssp119   1850.0  287.780000\n",
            "1  ssp119   1851.0  288.078858\n",
            "2  ssp119   1852.0  288.351441\n",
            "3  ssp119   1853.0  288.600497\n",
            "4  ssp119   1854.0  288.828775\n",
            "5  ssp119   1855.0  289.039022\n",
            "6  ssp119   1856.0  289.233988\n",
            "7  ssp119   1857.0  289.416420\n",
            "8  ssp119   1858.0  289.589067\n",
            "9  ssp119   1859.0  289.754678\n"
          ],
          "name": "stdout"
        }
      ]
    },
    {
      "cell_type": "code",
      "metadata": {
        "id": "RN6nVc-7zFSK",
        "colab_type": "code",
        "colab": {}
      },
      "source": [
        "df_xlong.columns = ['ssp','year','CO2e']\n",
        "df_xlong['year'] = df_xlong['year'].astype(int)\n",
        "df_xlong.to_csv('/content/drive/Shared drives/GEOS39650/climate_emulator/data/20200309_CMIP6_CO2e_allSSPs.csv', sep=',', index=False)"
      ],
      "execution_count": 0,
      "outputs": []
    },
    {
      "cell_type": "code",
      "metadata": {
        "id": "_2-EoKkezRwR",
        "colab_type": "code",
        "colab": {}
      },
      "source": [
        "df_temp = pd.read_csv('/content/drive/Shared drives/GEOS39650/climate_emulator/data/12_CMIP6_models_global_mean.csv', sep=',')\n",
        "df_merged = pd.merge(df_xlong, df_temp, on=['year', 'ssp'], how='outer')\n",
        "print(df_merged)"
      ],
      "execution_count": 0,
      "outputs": []
    },
    {
      "cell_type": "code",
      "metadata": {
        "id": "b_nygcVWzyMR",
        "colab_type": "code",
        "colab": {}
      },
      "source": [
        "df_merged.to_csv('/content/drive/Shared drives/GEOS39650/climate_emulator/data/20200309_12_CMIP6_models_temperature_CO2e_merged.csv', sep=',', index=False)"
      ],
      "execution_count": 0,
      "outputs": []
    },
    {
      "cell_type": "code",
      "metadata": {
        "id": "ISOz4UdGLOPB",
        "colab_type": "code",
        "outputId": "94065716-4d6b-4aa6-c6f5-42223bcef625",
        "colab": {
          "base_uri": "https://localhost:8080/",
          "height": 55
        }
      },
      "source": [
        "# OLD CO2e data for ssps equivalent to 'RCP60', 'RCP45', 'RCP26', 'RCP85'\n",
        "'''\n",
        "co2 = np.array([[287.78, 289.916, 291.898, 295.77, 300.064, 302.579, 308.156, 313.601, 320.124, 325.322, 327.921, 337.17, 351.328, 371.945, 395.324, 415.858, 442.38, 469.324, 494.974, 524.967, 562.025, 606.679, 658.827, 715.961, 764.288, 799.868],\n",
        "                [287.780, 289.916, 291.898, 295.770, 300.064, 302.579, 308.156, 313.601, 320.124, 325.322, 327.921, 337.170, 351.328, 371.945, 395.324, 415.858, 442.353, 471.958, 503.799, 537.235, 569.715, 596.993, 614.770, 621.480, 623.855, 629.592],\n",
        "                [287.780, 289.916, 291.898, 295.770, 300.064, 302.579, 308.156, 313.601, 320.124, 325.322, 327.921, 337.170, 351.328, 371.945, 395.324, 415.858, 442.761, 470.821, 490.699, 501.433, 503.321, 499.944, 494.224, 487.717, 481.394, 475.193],\n",
        "                [287.780, 289.916, 291.898, 295.770, 300.064, 302.579, 308.156, 313.601, 320.124, 325.322, 327.921, 337.170, 351.328, 371.945, 395.324, 415.858, 443.065, 482.759, 534.353, 599.343, 683.062, 785.604, 902.529, 1029.936, 1167.748, 1313.451]]).transpose()\n",
        "x = np.array(pd.DataFrame(co2, columns=['RCP60', 'RCP45', 'RCP26', 'RCP85'], index=np.linspace(1850, 2100, 26)).reindex(np.linspace(1850, 2100, 251)).interpolate(method='cubic'))\n",
        "plt.plot(x)\n",
        "x.shape\n",
        "'''"
      ],
      "execution_count": 0,
      "outputs": [
        {
          "output_type": "execute_result",
          "data": {
            "text/plain": [
              "\"\\nco2 = np.array([[287.78, 289.916, 291.898, 295.77, 300.064, 302.579, 308.156, 313.601, 320.124, 325.322, 327.921, 337.17, 351.328, 371.945, 395.324, 415.858, 442.38, 469.324, 494.974, 524.967, 562.025, 606.679, 658.827, 715.961, 764.288, 799.868],\\n                [287.780, 289.916, 291.898, 295.770, 300.064, 302.579, 308.156, 313.601, 320.124, 325.322, 327.921, 337.170, 351.328, 371.945, 395.324, 415.858, 442.353, 471.958, 503.799, 537.235, 569.715, 596.993, 614.770, 621.480, 623.855, 629.592],\\n                [287.780, 289.916, 291.898, 295.770, 300.064, 302.579, 308.156, 313.601, 320.124, 325.322, 327.921, 337.170, 351.328, 371.945, 395.324, 415.858, 442.761, 470.821, 490.699, 501.433, 503.321, 499.944, 494.224, 487.717, 481.394, 475.193],\\n                [287.780, 289.916, 291.898, 295.770, 300.064, 302.579, 308.156, 313.601, 320.124, 325.322, 327.921, 337.170, 351.328, 371.945, 395.324, 415.858, 443.065, 482.759, 534.353, 599.343, 683.062, 785.604, 902.529, 1029.936, 1167.748, 1313.451]]).transpose()\\nx = np.array(pd.DataFrame(co2, columns=['RCP60', 'RCP45', 'RCP26', 'RCP85'], index=np.linspace(1850, 2100, 26)).reindex(np.linspace(1850, 2100, 251)).interpolate(method='cubic'))\\nplt.plot(x)\\n\""
            ]
          },
          "metadata": {
            "tags": []
          },
          "execution_count": 18
        }
      ]
    },
    {
      "cell_type": "code",
      "metadata": {
        "id": "I_U_SMrKmQU_",
        "colab_type": "code",
        "outputId": "0489da27-8c66-400b-921e-9b72d334045e",
        "colab": {
          "base_uri": "https://localhost:8080/",
          "height": 35
        }
      },
      "source": [
        ""
      ],
      "execution_count": 0,
      "outputs": [
        {
          "output_type": "execute_result",
          "data": {
            "text/plain": [
              "(251, 4)"
            ]
          },
          "metadata": {
            "tags": []
          },
          "execution_count": 7
        }
      ]
    },
    {
      "cell_type": "markdown",
      "metadata": {
        "id": "E_f65MH5rXAI",
        "colab_type": "text"
      },
      "source": [
        "# check log summation function to calculate past CO2 trajectory\n"
      ]
    },
    {
      "cell_type": "code",
      "metadata": {
        "id": "9wxCpw29nISZ",
        "colab_type": "code",
        "outputId": "aaa5baf6-e628-46a0-c0ab-7f2c7ab92536",
        "colab": {
          "base_uri": "https://localhost:8080/",
          "height": 55
        }
      },
      "source": [
        "'''\n",
        "#Experiment - when using only for one dimensional array\n",
        "xnew = np.zeros_like(x)\n",
        "rho = 0.8 #test differnt rows\n",
        "for i in range(x.shape[0]):\n",
        "  ks = np.flip(np.arange(0,i))\n",
        "  rhoa = rho ** ks \n",
        "  #print(rhoa.sum())\n",
        "  xnew[i] = (1- rho) * np.sum(rhoa*(np.log((x[0:i])/287.780))) # check this ????\n",
        "'''"
      ],
      "execution_count": 0,
      "outputs": [
        {
          "output_type": "execute_result",
          "data": {
            "text/plain": [
              "'\\n#Experiment - when using only for one dimensional array\\nxnew = np.zeros_like(x)\\nrho = 0.8 #test differnt rows\\nfor i in range(x.shape[0]):\\n  ks = np.flip(np.arange(0,i))\\n  rhoa = rho ** ks \\n  #print(rhoa.sum())\\n  xnew[i] = (1- rho) * np.sum(rhoa*(np.log((x[0:i])/287.780))) # check this ????\\n'"
            ]
          },
          "metadata": {
            "tags": []
          },
          "execution_count": 8
        }
      ]
    },
    {
      "cell_type": "code",
      "metadata": {
        "id": "2_BNu2VrTttv",
        "colab_type": "code",
        "colab": {}
      },
      "source": [
        "#Experiment -  when using >1D array\n",
        "\n",
        "xnew = np.zeros_like(x)\n",
        "rho = 0.8 # Test for different rho's\n",
        "for j in range(x.shape[1]):\n",
        "  for i in range(x.shape[0]):\n",
        "    ks = np.flip(np.arange(0,i))\n",
        "    rhoa = rho ** ks \n",
        "    #print(rhoa.sum())\n",
        "    xnew[i,j] = (1- rho) * np.sum(rhoa*(np.log((x[0:i,j])/287.780)))\n"
      ],
      "execution_count": 0,
      "outputs": []
    },
    {
      "cell_type": "code",
      "metadata": {
        "id": "p7saRTuxAotS",
        "colab_type": "code",
        "outputId": "3d5f9765-ab8f-4e6f-de4d-5b7d988bb868",
        "colab": {
          "base_uri": "https://localhost:8080/",
          "height": 445
        }
      },
      "source": [
        "plt.plot(xnew)"
      ],
      "execution_count": 0,
      "outputs": [
        {
          "output_type": "execute_result",
          "data": {
            "text/plain": [
              "[<matplotlib.lines.Line2D at 0x7f9bfaf57d68>,\n",
              " <matplotlib.lines.Line2D at 0x7f9bfaf57eb8>,\n",
              " <matplotlib.lines.Line2D at 0x7f9bfaf65048>,\n",
              " <matplotlib.lines.Line2D at 0x7f9bfaf65198>]"
            ]
          },
          "metadata": {
            "tags": []
          },
          "execution_count": 10
        },
        {
          "output_type": "display_data",
          "data": {
            "image/png": "[encoded data removed]",
            "text/plain": [
              "<Figure size 864x432 with 1 Axes>"
            ]
          },
          "metadata": {
            "tags": [],
            "image/png": {
              "width": 707,
              "height": 357
            }
          }
        }
      ]
    },
    {
      "cell_type": "code",
      "metadata": {
        "id": "zWJ2bTNbtBqV",
        "colab_type": "code",
        "outputId": "56815891-a952-4838-a0c3-bda217697287",
        "colab": {
          "base_uri": "https://localhost:8080/",
          "height": 141
        }
      },
      "source": [
        "np.ndarray.view(xnew)\n",
        "#xnew.shape"
      ],
      "execution_count": 0,
      "outputs": [
        {
          "output_type": "execute_result",
          "data": {
            "text/plain": [
              "array([[0.00000000e+00, 0.00000000e+00, 0.00000000e+00, 0.00000000e+00],\n",
              "       [0.00000000e+00, 0.00000000e+00, 0.00000000e+00, 0.00000000e+00],\n",
              "       [2.07591198e-04, 2.07591199e-04, 2.07591198e-04, 2.07591200e-04],\n",
              "       ...,\n",
              "       [9.90441430e-01, 7.75905240e-01, 5.10623737e-01, 1.43602300e+00],\n",
              "       [9.95279537e-01, 7.76735606e-01, 5.09327481e-01, 1.44790180e+00],\n",
              "       [9.99929918e-01, 7.77666003e-01, 5.08029214e-01, 1.45969412e+00]])"
            ]
          },
          "metadata": {
            "tags": []
          },
          "execution_count": 11
        }
      ]
    },
    {
      "cell_type": "markdown",
      "metadata": {
        "id": "P424UYkPmBmQ",
        "colab_type": "text"
      },
      "source": [
        "## Convert the CO2 arrays of all the RCPs into a long dataframe"
      ]
    },
    {
      "cell_type": "code",
      "metadata": {
        "id": "K4e1Ufmj7FjT",
        "colab_type": "code",
        "outputId": "01a99d80-5aa4-43b9-face-3992a6f8c8b7",
        "colab": {
          "base_uri": "https://localhost:8080/",
          "height": 266
        }
      },
      "source": [
        "df_xcalc = pd.DataFrame(xnew, columns=['RCP60', 'RCP45', 'RCP26', 'RCP85'], index=np.linspace(1850, 2100, 251))\n",
        "print(df_xcalc)"
      ],
      "execution_count": 0,
      "outputs": [
        {
          "output_type": "stream",
          "text": [
            "           RCP60     RCP45     RCP26     RCP85\n",
            "1850.0  0.000000  0.000000  0.000000  0.000000\n",
            "1851.0  0.000000  0.000000  0.000000  0.000000\n",
            "1852.0  0.000208  0.000208  0.000208  0.000208\n",
            "1853.0  0.000563  0.000563  0.000563  0.000563\n",
            "1854.0  0.001020  0.001020  0.001020  0.001020\n",
            "...          ...       ...       ...       ...\n",
            "2096.0  0.980196  0.774498  0.513213  1.412012\n",
            "2097.0  0.985414  0.775163  0.511919  1.424059\n",
            "2098.0  0.990441  0.775905  0.510624  1.436023\n",
            "2099.0  0.995280  0.776736  0.509327  1.447902\n",
            "2100.0  0.999930  0.777666  0.508029  1.459694\n",
            "\n",
            "[251 rows x 4 columns]\n"
          ],
          "name": "stdout"
        }
      ]
    },
    {
      "cell_type": "code",
      "metadata": {
        "id": "1y87ng0-LSSR",
        "colab_type": "code",
        "outputId": "2d9938c1-ac52-42b4-f563-7de4329311f4",
        "colab": {
          "base_uri": "https://localhost:8080/",
          "height": 399
        }
      },
      "source": [
        "df_xcalc.reset_index()"
      ],
      "execution_count": 0,
      "outputs": [
        {
          "output_type": "execute_result",
          "data": {
            "text/html": [
              "<div>\n",
              "<style scoped>\n",
              "    .dataframe tbody tr th:only-of-type {\n",
              "        vertical-align: middle;\n",
              "    }\n",
              "\n",
              "    .dataframe tbody tr th {\n",
              "        vertical-align: top;\n",
              "    }\n",
              "\n",
              "    .dataframe thead th {\n",
              "        text-align: right;\n",
              "    }\n",
              "</style>\n",
              "<table border=\"1\" class=\"dataframe\">\n",
              "  <thead>\n",
              "    <tr style=\"text-align: right;\">\n",
              "      <th></th>\n",
              "      <th>index</th>\n",
              "      <th>RCP60</th>\n",
              "      <th>RCP45</th>\n",
              "      <th>RCP26</th>\n",
              "      <th>RCP85</th>\n",
              "    </tr>\n",
              "  </thead>\n",
              "  <tbody>\n",
              "    <tr>\n",
              "      <th>0</th>\n",
              "      <td>1850.0</td>\n",
              "      <td>0.000000</td>\n",
              "      <td>0.000000</td>\n",
              "      <td>0.000000</td>\n",
              "      <td>0.000000</td>\n",
              "    </tr>\n",
              "    <tr>\n",
              "      <th>1</th>\n",
              "      <td>1851.0</td>\n",
              "      <td>0.000000</td>\n",
              "      <td>0.000000</td>\n",
              "      <td>0.000000</td>\n",
              "      <td>0.000000</td>\n",
              "    </tr>\n",
              "    <tr>\n",
              "      <th>2</th>\n",
              "      <td>1852.0</td>\n",
              "      <td>0.000208</td>\n",
              "      <td>0.000208</td>\n",
              "      <td>0.000208</td>\n",
              "      <td>0.000208</td>\n",
              "    </tr>\n",
              "    <tr>\n",
              "      <th>3</th>\n",
              "      <td>1853.0</td>\n",
              "      <td>0.000563</td>\n",
              "      <td>0.000563</td>\n",
              "      <td>0.000563</td>\n",
              "      <td>0.000563</td>\n",
              "    </tr>\n",
              "    <tr>\n",
              "      <th>4</th>\n",
              "      <td>1854.0</td>\n",
              "      <td>0.001020</td>\n",
              "      <td>0.001020</td>\n",
              "      <td>0.001020</td>\n",
              "      <td>0.001020</td>\n",
              "    </tr>\n",
              "    <tr>\n",
              "      <th>...</th>\n",
              "      <td>...</td>\n",
              "      <td>...</td>\n",
              "      <td>...</td>\n",
              "      <td>...</td>\n",
              "      <td>...</td>\n",
              "    </tr>\n",
              "    <tr>\n",
              "      <th>246</th>\n",
              "      <td>2096.0</td>\n",
              "      <td>0.980196</td>\n",
              "      <td>0.774498</td>\n",
              "      <td>0.513213</td>\n",
              "      <td>1.412012</td>\n",
              "    </tr>\n",
              "    <tr>\n",
              "      <th>247</th>\n",
              "      <td>2097.0</td>\n",
              "      <td>0.985414</td>\n",
              "      <td>0.775163</td>\n",
              "      <td>0.511919</td>\n",
              "      <td>1.424059</td>\n",
              "    </tr>\n",
              "    <tr>\n",
              "      <th>248</th>\n",
              "      <td>2098.0</td>\n",
              "      <td>0.990441</td>\n",
              "      <td>0.775905</td>\n",
              "      <td>0.510624</td>\n",
              "      <td>1.436023</td>\n",
              "    </tr>\n",
              "    <tr>\n",
              "      <th>249</th>\n",
              "      <td>2099.0</td>\n",
              "      <td>0.995280</td>\n",
              "      <td>0.776736</td>\n",
              "      <td>0.509327</td>\n",
              "      <td>1.447902</td>\n",
              "    </tr>\n",
              "    <tr>\n",
              "      <th>250</th>\n",
              "      <td>2100.0</td>\n",
              "      <td>0.999930</td>\n",
              "      <td>0.777666</td>\n",
              "      <td>0.508029</td>\n",
              "      <td>1.459694</td>\n",
              "    </tr>\n",
              "  </tbody>\n",
              "</table>\n",
              "<p>251 rows × 5 columns</p>\n",
              "</div>"
            ],
            "text/plain": [
              "      index     RCP60     RCP45     RCP26     RCP85\n",
              "0    1850.0  0.000000  0.000000  0.000000  0.000000\n",
              "1    1851.0  0.000000  0.000000  0.000000  0.000000\n",
              "2    1852.0  0.000208  0.000208  0.000208  0.000208\n",
              "3    1853.0  0.000563  0.000563  0.000563  0.000563\n",
              "4    1854.0  0.001020  0.001020  0.001020  0.001020\n",
              "..      ...       ...       ...       ...       ...\n",
              "246  2096.0  0.980196  0.774498  0.513213  1.412012\n",
              "247  2097.0  0.985414  0.775163  0.511919  1.424059\n",
              "248  2098.0  0.990441  0.775905  0.510624  1.436023\n",
              "249  2099.0  0.995280  0.776736  0.509327  1.447902\n",
              "250  2100.0  0.999930  0.777666  0.508029  1.459694\n",
              "\n",
              "[251 rows x 5 columns]"
            ]
          },
          "metadata": {
            "tags": []
          },
          "execution_count": 13
        }
      ]
    },
    {
      "cell_type": "markdown",
      "metadata": {
        "id": "ZzVTXx3_nKGv",
        "colab_type": "text"
      },
      "source": [
        "## CO2 dataset - Wide to Long"
      ]
    },
    {
      "cell_type": "code",
      "metadata": {
        "id": "B0-J4i2kLWSV",
        "colab_type": "code",
        "outputId": "c4289959-2481-4164-8d66-bbed7af84485",
        "colab": {
          "base_uri": "https://localhost:8080/",
          "height": 212
        }
      },
      "source": [
        "df_xlong = df_xcalc.unstack().reset_index() \n",
        "print(df_xlong.head(10)) \n"
      ],
      "execution_count": 0,
      "outputs": [
        {
          "output_type": "stream",
          "text": [
            "  level_0  level_1         0\n",
            "0   RCP60   1850.0  0.000000\n",
            "1   RCP60   1851.0  0.000000\n",
            "2   RCP60   1852.0  0.000208\n",
            "3   RCP60   1853.0  0.000563\n",
            "4   RCP60   1854.0  0.001020\n",
            "5   RCP60   1855.0  0.001543\n",
            "6   RCP60   1856.0  0.002108\n",
            "7   RCP60   1857.0  0.002694\n",
            "8   RCP60   1858.0  0.003289\n",
            "9   RCP60   1859.0  0.003885\n"
          ],
          "name": "stdout"
        }
      ]
    },
    {
      "cell_type": "markdown",
      "metadata": {
        "id": "SQOm3BsCl4Nz",
        "colab_type": "text"
      },
      "source": [
        "## Format the long CO2 dataframe"
      ]
    },
    {
      "cell_type": "code",
      "metadata": {
        "id": "t6sTKzGyXHaJ",
        "colab_type": "code",
        "colab": {}
      },
      "source": [
        "df_xlong.columns = ['rcp','year','calCO2']\n",
        "df_xlong['year'] = df_xlong['year'].astype(int)\n",
        "df_xlong['ssp'] = df_xlong['rcp']"
      ],
      "execution_count": 0,
      "outputs": []
    },
    {
      "cell_type": "code",
      "metadata": {
        "id": "jemQK6bpyLN2",
        "colab_type": "code",
        "colab": {}
      },
      "source": [
        "df_xlong[\"ssp\"]= df_xlong[\"ssp\"].str.replace(\"RCP26\", \"ssp126\", case = False)\n",
        "df_xlong[\"ssp\"]= df_xlong[\"ssp\"].str.replace(\"RCP45\", \"ssp245\", case = False)\n",
        "df_xlong[\"ssp\"]= df_xlong[\"ssp\"].str.replace(\"RCP85\", \"ssp585\", case = False)"
      ],
      "execution_count": 0,
      "outputs": []
    },
    {
      "cell_type": "code",
      "metadata": {
        "id": "vi0LDM7lvmUf",
        "colab_type": "code",
        "outputId": "22dda049-05f9-4c92-c450-1479e68a023d",
        "colab": {
          "base_uri": "https://localhost:8080/",
          "height": 266
        }
      },
      "source": [
        "print(df_xlong)"
      ],
      "execution_count": 0,
      "outputs": [
        {
          "output_type": "stream",
          "text": [
            "        rcp  year    calCO2     ssp\n",
            "0     RCP60  1850  0.000000   RCP60\n",
            "1     RCP60  1851  0.000000   RCP60\n",
            "2     RCP60  1852  0.000208   RCP60\n",
            "3     RCP60  1853  0.000563   RCP60\n",
            "4     RCP60  1854  0.001020   RCP60\n",
            "...     ...   ...       ...     ...\n",
            "999   RCP85  2096  1.412012  ssp585\n",
            "1000  RCP85  2097  1.424059  ssp585\n",
            "1001  RCP85  2098  1.436023  ssp585\n",
            "1002  RCP85  2099  1.447902  ssp585\n",
            "1003  RCP85  2100  1.459694  ssp585\n",
            "\n",
            "[1004 rows x 4 columns]\n"
          ],
          "name": "stdout"
        }
      ]
    },
    {
      "cell_type": "markdown",
      "metadata": {
        "id": "9fa6GZYizeA5",
        "colab_type": "text"
      },
      "source": [
        "## Merge Temp and Calculated CO2 dataframes"
      ]
    },
    {
      "cell_type": "code",
      "metadata": {
        "id": "BUcFXSRIy_Jj",
        "colab_type": "code",
        "outputId": "242ded7d-7c1e-443e-e5e7-a95fca013e04",
        "colab": {
          "base_uri": "https://localhost:8080/",
          "height": 266
        }
      },
      "source": [
        "df_temp = pd.read_csv('/content/drive/Shared drives/GEOS39650/climate_emulator/data/12_CMIP6_models_global_mean.csv', sep=',')\n",
        "df_merged = pd.merge(df_xlong, df_temp, on=['year', 'ssp'], how='outer')\n",
        "print(df_merged)"
      ],
      "execution_count": 0,
      "outputs": [
        {
          "output_type": "stream",
          "text": [
            "         rcp  year    calCO2     ssp         model    mean_tas\n",
            "0      RCP60  1850  0.000000   RCP60           NaN         NaN\n",
            "1      RCP60  1851  0.000000   RCP60           NaN         NaN\n",
            "2      RCP60  1852  0.000208   RCP60           NaN         NaN\n",
            "3      RCP60  1853  0.000563   RCP60           NaN         NaN\n",
            "4      RCP60  1854  0.001020   RCP60           NaN         NaN\n",
            "...      ...   ...       ...     ...           ...         ...\n",
            "13499    NaN  2099       NaN  ssp119     GFDL-ESM4  226.345520\n",
            "13500    NaN  2099       NaN  ssp119  IPSL-CM6A-LR  287.663483\n",
            "13501    NaN  2099       NaN  ssp119    MIROC-ES2L  289.358185\n",
            "13502    NaN  2099       NaN  ssp119        MIROC6  289.335358\n",
            "13503    NaN  2099       NaN  ssp119    MRI-ESM2-0  288.154694\n",
            "\n",
            "[13504 rows x 6 columns]\n"
          ],
          "name": "stdout"
        }
      ]
    },
    {
      "cell_type": "code",
      "metadata": {
        "id": "YUDdwXee-zcR",
        "colab_type": "code",
        "colab": {}
      },
      "source": [
        "df_merged.to_csv('/content/drive/Shared drives/GEOS39650/climate_emulator/data/12_CMIP6_models_temperature_merged.csv', sep=',', index=False)"
      ],
      "execution_count": 0,
      "outputs": []
    },
    {
      "cell_type": "code",
      "metadata": {
        "id": "-rv4ayiuF8Ks",
        "colab_type": "code",
        "colab": {}
      },
      "source": [
        "innerdf = pd.merge(df_xlong, df_temp, on=['year', 'ssp'], how='inner')\n",
        "traindf = innerdf[innerdf.ssp != 'ssp545']\n",
        "xval = traindf['calCO2'].values\n",
        "yval = traindf['mean_tas'].values"
      ],
      "execution_count": 0,
      "outputs": []
    },
    {
      "cell_type": "code",
      "metadata": {
        "id": "7tSrLn1W7Qz0",
        "colab_type": "code",
        "colab": {}
      },
      "source": [
        ""
      ],
      "execution_count": 0,
      "outputs": []
    },
    {
      "cell_type": "code",
      "metadata": {
        "id": "ne4UrIan4g1u",
        "colab_type": "code",
        "colab": {}
      },
      "source": [
        "xval = np.array(xval)\n",
        "xval = xval.reshape(xval.shape[0], 1)\n"
      ],
      "execution_count": 0,
      "outputs": []
    },
    {
      "cell_type": "code",
      "metadata": {
        "id": "MnPBNAMp8KzW",
        "colab_type": "code",
        "outputId": "b489289a-cde0-4179-ddbd-f3746f07f925",
        "colab": {
          "base_uri": "https://localhost:8080/",
          "height": 35
        }
      },
      "source": [
        "xval.shape"
      ],
      "execution_count": 0,
      "outputs": [
        {
          "output_type": "execute_result",
          "data": {
            "text/plain": [
              "(8750, 1)"
            ]
          },
          "metadata": {
            "tags": []
          },
          "execution_count": 41
        }
      ]
    },
    {
      "cell_type": "code",
      "metadata": {
        "id": "UmS8qt2U8GOM",
        "colab_type": "code",
        "outputId": "c05dd1ae-d3f5-46aa-d3fe-02004100d5f1",
        "colab": {
          "base_uri": "https://localhost:8080/",
          "height": 35
        }
      },
      "source": [
        "yval.shape"
      ],
      "execution_count": 0,
      "outputs": [
        {
          "output_type": "execute_result",
          "data": {
            "text/plain": [
              "(8750,)"
            ]
          },
          "metadata": {
            "tags": []
          },
          "execution_count": 27
        }
      ]
    },
    {
      "cell_type": "code",
      "metadata": {
        "id": "hCxMMEOqqi37",
        "colab_type": "code",
        "colab": {}
      },
      "source": [
        "m = LinearRegression(normalize = False, fit_intercept = True )\n",
        "fitted = m.fit(xval, yval)\n",
        "beta1 = fitted.coef_\n",
        "beta0 = fitted.intercept_"
      ],
      "execution_count": 0,
      "outputs": []
    },
    {
      "cell_type": "code",
      "metadata": {
        "id": "z-ZpKIHwpZ7C",
        "colab_type": "code",
        "outputId": "975e0aeb-dcd4-4c9a-94ff-7d288a7551ec",
        "colab": {
          "base_uri": "https://localhost:8080/",
          "height": 35
        }
      },
      "source": [
        "beta1"
      ],
      "execution_count": 0,
      "outputs": [
        {
          "output_type": "execute_result",
          "data": {
            "text/plain": [
              "array([2.77695204])"
            ]
          },
          "metadata": {
            "tags": []
          },
          "execution_count": 33
        }
      ]
    },
    {
      "cell_type": "code",
      "metadata": {
        "id": "hu_NuTU0sLYs",
        "colab_type": "code",
        "outputId": "716529a9-8fac-4e4f-8eb0-4c8bbbf0cadf",
        "colab": {
          "base_uri": "https://localhost:8080/",
          "height": 35
        }
      },
      "source": [
        "beta0"
      ],
      "execution_count": 0,
      "outputs": [
        {
          "output_type": "execute_result",
          "data": {
            "text/plain": [
              "265.3389308243265"
            ]
          },
          "metadata": {
            "tags": []
          },
          "execution_count": 43
        }
      ]
    },
    {
      "cell_type": "code",
      "metadata": {
        "id": "HSmbKJRDGwYm",
        "colab_type": "code",
        "colab": {}
      },
      "source": [
        "x45 = df[df.ssp == 'ssp545']"
      ],
      "execution_count": 0,
      "outputs": []
    },
    {
      "cell_type": "code",
      "metadata": {
        "id": "zdAjSqPYGsMM",
        "colab_type": "code",
        "colab": {}
      },
      "source": [
        "test = fitted.predict(X45)"
      ],
      "execution_count": 0,
      "outputs": []
    },
    {
      "cell_type": "code",
      "metadata": {
        "id": "yWwXYXO-G2ii",
        "colab_type": "code",
        "colab": {}
      },
      "source": [
        "plt.plot(test)\n",
        "plt.plot(df.temperture) #origional value)"
      ],
      "execution_count": 0,
      "outputs": []
    },
    {
      "cell_type": "markdown",
      "metadata": {
        "id": "gRubGqlB6x2C",
        "colab_type": "text"
      },
      "source": [
        "## Regression #2"
      ]
    },
    {
      "cell_type": "code",
      "metadata": {
        "id": "OuALqk1DyZsV",
        "colab_type": "code",
        "outputId": "02b1f0fd-f7d1-4679-93b8-3516b91c89e6",
        "colab": {
          "base_uri": "https://localhost:8080/",
          "height": 230
        }
      },
      "source": [
        "# load temperature data\n",
        "df = pd.read_csv('/content/drive/Shared drives/GEOS39650/climate_emulator/data/12_CMIP6_models_global_mean.csv', sep=',')\n",
        "df2 = df[df.model == 'MRI-ESM2-0'] #filter for a model\n",
        "df2 = df2[df2.ssp == 'ssp585']     #filter an RCP\n",
        "df2.mean_tas"
      ],
      "execution_count": 0,
      "outputs": [
        {
          "output_type": "execute_result",
          "data": {
            "text/plain": [
              "13000    286.940216\n",
              "13001    286.991943\n",
              "13002    286.911530\n",
              "13003    286.806549\n",
              "13004    286.767242\n",
              "            ...    \n",
              "13245    291.359009\n",
              "13246    291.552704\n",
              "13247    291.771454\n",
              "13248    291.462769\n",
              "13249    291.568451\n",
              "Name: mean_tas, Length: 250, dtype: float64"
            ]
          },
          "metadata": {
            "tags": []
          },
          "execution_count": 25
        }
      ]
    },
    {
      "cell_type": "code",
      "metadata": {
        "id": "Ku7xzpboyZnG",
        "colab_type": "code",
        "colab": {}
      },
      "source": [
        ""
      ],
      "execution_count": 0,
      "outputs": []
    },
    {
      "cell_type": "markdown",
      "metadata": {
        "id": "5yXVb0UZSQ6Z",
        "colab_type": "text"
      },
      "source": [
        "\n",
        "\n",
        "---\n",
        "\n",
        "\n",
        "\n",
        "---\n",
        "\n",
        "\n",
        "\n",
        "---\n",
        "\n",
        "\n",
        "\n",
        "---\n",
        "\n"
      ]
    },
    {
      "cell_type": "code",
      "metadata": {
        "id": "JRwbox00kre8",
        "colab_type": "code",
        "colab": {}
      },
      "source": [
        ""
      ],
      "execution_count": 0,
      "outputs": []
    },
    {
      "cell_type": "code",
      "metadata": {
        "id": "U9Tvu1q6krZu",
        "colab_type": "code",
        "colab": {}
      },
      "source": [
        ""
      ],
      "execution_count": 0,
      "outputs": []
    },
    {
      "cell_type": "markdown",
      "metadata": {
        "id": "ZbK8AeMrO72-",
        "colab_type": "text"
      },
      "source": [
        "## For CMIP-5 data on google cloud"
      ]
    },
    {
      "cell_type": "code",
      "metadata": {
        "id": "pbLNcxf0yZhq",
        "colab_type": "code",
        "colab": {}
      },
      "source": [
        "# Load array of avaible models\n",
        "df = pd.read_csv('https://storage.googleapis.com/cmip6/pangeo-cmip5.csv')\n",
        "df_tas = df.query(\"activity_id=='CMIP5' & table_id == 'Amon' & variable_id == 'tas'\")\n",
        "models = df_tas.source_id.unique()\n",
        "models\n"
      ],
      "execution_count": 0,
      "outputs": []
    },
    {
      "cell_type": "markdown",
      "metadata": {
        "id": "pM9mlFIi1_Ce",
        "colab_type": "text"
      },
      "source": [
        "## To search for CMIP-5 or CMIP-6 data on ESGF (for"
      ]
    },
    {
      "cell_type": "code",
      "metadata": {
        "id": "PGMPe7Llya7M",
        "colab_type": "code",
        "colab": {}
      },
      "source": [
        "conn = SearchConnection('http://esgf-index1.ceda.ac.uk/esg-search', distrib=True)"
      ],
      "execution_count": 0,
      "outputs": []
    },
    {
      "cell_type": "code",
      "metadata": {
        "id": "7jops8wP0K18",
        "colab_type": "code",
        "colab": {}
      },
      "source": [
        "ctx = conn.new_context(\n",
        "    project='CMIP5',\n",
        "    experiment='rcp45',\n",
        "    model='HadCM3',\n",
        "    ensemble='r1i1p1',\n",
        "    time_frequency='mon',\n",
        "    realm='atmos',\n",
        "    data_node='esgf-data1.ceda.ac.uk',\n",
        "    )\n",
        "ctx.hit_count\n",
        "\n",
        "result = ctx.search()[0]\n",
        "files = result.file_context().search()"
      ],
      "execution_count": 0,
      "outputs": []
    },
    {
      "cell_type": "code",
      "metadata": {
        "id": "heWxsr_Y0lKY",
        "colab_type": "code",
        "colab": {}
      },
      "source": [
        "ds = xr.open_dataset(tasmax_url, chunks={'time': 120})\n",
        "ds"
      ],
      "execution_count": 0,
      "outputs": []
    },
    {
      "cell_type": "code",
      "metadata": {
        "id": "ZTRS4DbL10IL",
        "colab_type": "code",
        "colab": {}
      },
      "source": [
        "ctx = conn.new_context(\n",
        "    project = 'CMIP6',\n",
        "    experiment_id = 'ssp585',\n",
        "    variable = 'tas',\n",
        "    frequency = 'mon',\n",
        "    data_node='esgf-data3.ceda.ac.uk')\n",
        "\n",
        "result = ctx.search()[0]\n",
        "files = result.file_context().search()\n",
        "for file in files:\n",
        "    print(file.opendap_url)"
      ],
      "execution_count": 0,
      "outputs": []
    },
    {
      "cell_type": "code",
      "metadata": {
        "id": "U5h5GoxWHyx8",
        "colab_type": "code",
        "colab": {}
      },
      "source": [
        "ctx = conn.new_context(\n",
        "    project='CMIP6',\n",
        "    experiment_id='ssp585',\n",
        "    variable='tas',\n",
        "    frequency='mon')\n",
        "\n",
        "result = ctx.search()"
      ],
      "execution_count": 0,
      "outputs": []
    },
    {
      "cell_type": "code",
      "metadata": {
        "id": "pKNQ12jF3T-Q",
        "colab_type": "code",
        "colab": {}
      },
      "source": [
        "ds = xr.open_dataset(files[0].opendap_url, chunks={'time': 120})\n",
        "ds"
      ],
      "execution_count": 0,
      "outputs": []
    },
    {
      "cell_type": "code",
      "metadata": {
        "id": "lrxfprF65REe",
        "colab_type": "code",
        "colab": {}
      },
      "source": [
        "#GEOMIP data\n",
        "\n",
        "ctx = conn.new_context(\n",
        "    experiment='G4cdnc',\n",
        "    realm='atmos',\n",
        "    data_node='esgf-data1.ceda.ac.uk',\n",
        "    )\n",
        "ctx.hit_count\n",
        "result = ctx.search()[0]\n",
        "files = result.file_context().search()\n",
        "ds = xr.open_dataset(files[0].opendap_url, chunks={'time': 120})\n",
        "ds"
      ],
      "execution_count": 0,
      "outputs": []
    },
    {
      "cell_type": "code",
      "metadata": {
        "id": "njM7HFsMwDQQ",
        "colab_type": "code",
        "colab": {}
      },
      "source": [
        "'''\n",
        "# OLD CODES\n",
        "\n",
        "# Load array of available models that do RCP 8.5 and have an area file (to calc temperature)\n",
        "df = pd.read_csv('https://storage.googleapis.com/cmip6/cmip6-zarr-consolidated-stores.csv')\n",
        "df_mod = df.query(\"activity_id=='ScenarioMIP' & table_id == 'Amon' & variable_id == 'tas' & experiment_id == 'ssp585'\")\n",
        "models = df_mod.source_id.unique()\n",
        "models = list(models)\n",
        "df_area = df.query(\"variable_id == 'areacella'\")\n",
        "areas = df_area.source_id.unique()\n",
        "areas = list(areas)\n",
        "models = set(models) & set(areas)\n",
        "# remove this 'MAC' model because it has bad longitude and latitude values\n",
        "models = ['CESM2','CESM2-WACCM','CNRM-CM6-1','CNRM-ESM2-1','CanESM5','GFDL-CM4','GFDL-ESM4','IPSL-CM6A-LR','MIROC-ES2L','MIROC6','MPI-ESM1-2-HR','MRI-ESM2-0']\n",
        "\n",
        "'''"
      ],
      "execution_count": 0,
      "outputs": []
    },
    {
      "cell_type": "markdown",
      "metadata": {
        "id": "hZuEPGP5u2ap",
        "colab_type": "text"
      },
      "source": [
        "## Model Lists by variable_id 'ts', 'tas', and SSPs\n",
        "\n",
        "### FOR SSP 585 (=RCP 8.5)\n",
        "#### TAS FULL LIST - \n",
        "['BCC-CSM2-MR', 'CAMS-CSM1-0', 'FGOALS-g3', 'CanESM5-CanOE', 'CanESM5', 'CNRM-CM6-1-HR', 'CNRM-CM6-1', 'CNRM-ESM2-1', 'ACCESS-CM2', 'ACCESS-ESM1-5', \n",
        "'MPI-ESM1-2-HR', 'EC-Earth3-Veg', 'FIO-ESM-2-0', 'INM-CM5-0', 'IPSL-CM6A-LR', 'MIROC-ES2L', 'MIROC6', 'UKESM1-0-LL', 'MRI-ESM2-0', 'CESM2-WACCM',\n",
        "'CESM2', 'KACE-1-0-G', 'GFDL-CM4', 'GFDL-ESM4', 'MCM-UA-1-0']\n",
        "\n",
        "#### TS FULL LIST - \n",
        "['AWI-CM-1-1-MR', 'BCC-CSM2-MR', 'CAMS-CSM1-0', 'FGOALS-g3', 'CanESM5-CanOE', 'CanESM5', 'CNRM-CM6-1-HR', 'CNRM-CM6-1', 'CNRM-ESM2-1', 'ACCESS-CM2',\n",
        "'ACCESS-ESM1-5', 'MPI-ESM1-2-HR', 'EC-Earth3-Veg', 'INM-CM4-8', 'INM-CM5-0', 'IPSL-CM6A-LR', 'MIROC-ES2L', 'MIROC6', 'HadGEM3-GC31-LL', 'UKESM1-0-LL',\n",
        "'MPI-ESM1-2-LR', 'MRI-ESM2-0', 'CESM2-WACCM', 'CESM2', 'NorESM2-LM', 'KACE-1-0-G', 'GFDL-CM4', 'GFDL-ESM4', 'NESM3', 'MCM-UA-1-0']\n",
        "\n",
        "#### Did Not Work for tas - \n",
        "['CNRM-CM6-1-HR','INM-CM5-0', 'MCM-UA-1-0']\n",
        "#### Did Not Work for ts - \n",
        "['AWI-CM-1-1-MR', 'CNRM-CM6-1-HR', 'MCM-UA-1-0']\n",
        "#### WORKS FOR BOTH - \n",
        "['BCC-CSM2-MR', 'CAMS-CSM1-0', 'FGOALS-g3', 'CanESM5-CanOE', 'CanESM5', 'CNRM-CM6-1', 'CNRM-ESM2-1', 'ACCESS-CM2', 'ACCESS-ESM1-5',\n",
        "'MPI-ESM1-2-HR', 'EC-Earth3-Veg', 'IPSL-CM6A-LR', 'MIROC-ES2L', 'MIROC6', 'UKESM1-0-LL', 'MRI-ESM2-0', 'CESM2-WACCM', 'CESM2', 'KACE-1-0-G', 'GFDL-CM4', \n",
        "'GFDL-ESM4']\n",
        "\n",
        "## FOR SSP 245 (=RCP 4.5)\n",
        "### TAS FULL LIST - \n",
        "['BCC-CSM2-MR', 'CAMS-CSM1-0', 'FGOALS-g3', 'CanESM5-CanOE', 'CanESM5', 'CNRM-CM6-1', 'CNRM-ESM2-1', 'ACCESS-CM2', 'ACCESS-ESM1-5', 'MPI-ESM1-2-HR', 'EC-Earth3-Veg', 'FIO-ESM-2-0',\n",
        " 'IPSL-CM6A-LR', 'MIROC-ES2L', 'MIROC6', 'HadGEM3-GC31-LL', 'UKESM1-0-LL', 'MRI-ESM2-0', 'CESM2-WACCM', 'CESM2', 'GFDL-CM4', 'GFDL-ESM4', 'MCM-UA-1-0']\n",
        "\n",
        "### TS FULL LIST - \n",
        "['AWI-CM-1-1-MR', 'BCC-CSM2-MR', 'CAMS-CSM1-0', 'FGOALS-g3', 'CanESM5-CanOE', 'CanESM5', 'CNRM-CM6-1', 'CNRM-ESM2-1', 'ACCESS-CM2', 'ACCESS-ESM1-5', 'MPI-ESM1-2-HR',\n",
        " 'EC-Earth3-Veg', 'INM-CM4-8', 'INM-CM5-0', 'IPSL-CM6A-LR', 'MIROC-ES2L', 'MIROC6', 'HadGEM3-GC31-LL', 'UKESM1-0-LL', 'MPI-ESM1-2-LR', 'MRI-ESM2-0', 'CESM2-WACCM',\n",
        " 'CESM2', 'NorESM2-LM', 'GFDL-CM4', 'GFDL-ESM4', 'NESM3', 'MCM-UA-1-0']\n",
        "\n",
        "#### Did Not Work for tas - \n",
        "['MCM-UA-1-0']\n",
        "#### Did Not Work for ts - \n",
        "['AWI-CM-1-1-MR', 'MCM-UA-1-0']\n",
        "#### WORKS FOR BOTH - \n",
        "['BCC-CSM2-MR', 'CAMS-CSM1-0', 'FGOALS-g3', 'CanESM5-CanOE', 'CanESM5', 'CNRM-CM6-1', 'CNRM-ESM2-1', 'ACCESS-CM2', 'ACCESS-ESM1-5', 'MPI-ESM1-2-HR',\n",
        "'EC-Earth3-Veg', 'IPSL-CM6A-LR', 'MIROC-ES2L', 'MIROC6', 'HadGEM3-GC31-LL', 'UKESM1-0-LL', 'MRI-ESM2-0', 'CESM2-WACCM', 'CESM2', 'GFDL-CM4', 'GFDL-ESM4']\n",
        "\n",
        "\n",
        "## FOR SSP 126 (=RCP 2.6)\n",
        "### TAS FULL LIST - \n",
        "['BCC-CSM2-MR', 'CAMS-CSM1-0', 'FGOALS-g3', 'CanESM5-CanOE', 'CanESM5', 'CNRM-CM6-1', 'CNRM-ESM2-1', 'ACCESS-CM2', 'ACCESS-ESM1-5', 'MPI-ESM1-2-HR',\n",
        " 'EC-Earth3-Veg', 'FIO-ESM-2-0', 'INM-CM4-8', 'INM-CM5-0', 'IPSL-CM6A-LR', 'MIROC-ES2L', 'MIROC6', 'UKESM1-0-LL', 'MRI-ESM2-0', 'CESM2-WACCM',\n",
        " 'CESM2', 'KACE-1-0-G', 'GFDL-ESM4', 'NESM3', 'MCM-UA-1-0']\n",
        "\n",
        "### TS FULL LIST - \n",
        "['AWI-CM-1-1-MR', 'BCC-CSM2-MR', 'CAMS-CSM1-0', 'FGOALS-g3', 'CanESM5-CanOE', 'CanESM5', 'CNRM-CM6-1', 'CNRM-ESM2-1', 'ACCESS-CM2', 'ACCESS-ESM1-5', 'MPI-ESM1-2-HR',\n",
        " 'EC-Earth3-Veg', 'INM-CM4-8', 'INM-CM5-0', 'IPSL-CM6A-LR', 'MIROC-ES2L', 'MIROC6', 'HadGEM3-GC31-LL', 'UKESM1-0-LL', 'MPI-ESM1-2-LR', 'MRI-ESM2-0', 'CESM2-WACCM',\n",
        " 'CESM2', 'NorESM2-LM', 'NorESM2-MM', 'KACE-1-0-G', 'GFDL-ESM4', 'NESM3', 'MCM-UA-1-0']\n",
        "\n",
        "#### Did Not Work for tas - \n",
        "['INM-CM4-8', 'INM-CM5-0', 'MCM-UA-1-0']\n",
        "#### Did Not Work for ts - \n",
        "['AWI-CM-1-1-MR','MCM-UA-1-0']\n",
        "#### WORKS FOR BOTH - \n",
        "['BCC-CSM2-MR', 'CAMS-CSM1-0', 'FGOALS-g3', 'CanESM5-CanOE', 'CanESM5', 'CNRM-CM6-1', 'CNRM-ESM2-1', 'ACCESS-CM2', 'ACCESS-ESM1-5', 'MPI-ESM1-2-HR',\n",
        " 'EC-Earth3-Veg', 'IPSL-CM6A-LR', 'MIROC-ES2L', 'MIROC6', 'UKESM1-0-LL', 'MRI-ESM2-0', 'CESM2-WACCM', 'CESM2', 'KACE-1-0-G', 'GFDL-ESM4', 'NESM3']"
      ]
    }
  ]
}